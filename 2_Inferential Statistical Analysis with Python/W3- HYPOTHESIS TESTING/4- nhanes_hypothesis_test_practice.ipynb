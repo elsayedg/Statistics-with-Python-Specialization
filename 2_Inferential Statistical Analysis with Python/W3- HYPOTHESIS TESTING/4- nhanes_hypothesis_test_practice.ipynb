{
 "cells": [
  {
   "attachments": {},
   "cell_type": "markdown",
   "metadata": {},
   "source": [
    "# Practice notebook for hypothesis tests using NHANES data\n",
    "\n",
    "This notebook will give you the opportunity to perform some hypothesis tests with the NHANES data that are similar to\n",
    "what was done in the week 3 case study notebook.\n",
    "\n",
    "You can enter your code into the cells that say \"enter your code here\", and you can type responses to the questions into the cells that say \"Type Markdown and Latex\".\n",
    "\n",
    "Note that most of the code that you will need to write below is very similar to code that appears in the case study notebook.  You will need to edit code from that notebook in small ways to adapt it to the prompts below.\n",
    "\n",
    "To get started, we will use the same module imports and read the data in the same way as we did in the case study:"
   ]
  },
  {
   "cell_type": "code",
   "execution_count": 1,
   "metadata": {},
   "outputs": [],
   "source": [
    "%matplotlib inline\n",
    "import matplotlib.pyplot as plt\n",
    "import seaborn as sns\n",
    "import pandas as pd\n",
    "import statsmodels.api as sm\n",
    "import statsmodels.stats.proportion as smprop\n",
    "import numpy as np\n",
    "import scipy.stats.distributions as dist"
   ]
  },
  {
   "cell_type": "code",
   "execution_count": 2,
   "metadata": {},
   "outputs": [],
   "source": [
    "da = pd.read_csv(\"nhanes_2015_2016.csv\")"
   ]
  },
  {
   "attachments": {},
   "cell_type": "markdown",
   "metadata": {},
   "source": [
    "## Question 1\n",
    "\n",
    "Conduct a hypothesis test (at the 0.05 level) for the null hypothesis that the proportion of women who smoke is equal to the proportion of men who smoke."
   ]
  },
  {
   "cell_type": "code",
   "execution_count": 3,
   "metadata": {},
   "outputs": [
    {
     "data": {
      "text/plain": [
       "(-16.420585558984445, 3.0320887866906843e-59, 5723.0)"
      ]
     },
     "execution_count": 3,
     "metadata": {},
     "output_type": "execute_result"
    }
   ],
   "source": [
    "# parparing the data and drop any missing values\n",
    "\n",
    "da[\"SMQ020x\"] = da.SMQ020.replace({1: \"Yes\", 2: \"No\", 7: np.nan, 9: np.nan})\n",
    "da[\"RIAGENDRx\"] = da.RIAGENDR.replace({1: \"Male\", 2: \"Female\"})\n",
    "dx = da[[\"SMQ020x\", \"RIDAGEYR\", \"RIAGENDRx\"]].dropna()\n",
    "\n",
    "\n",
    "# making small views one for females and one for males \n",
    "# make the columns countable by converting it 1 and 0\n",
    "\n",
    "dx_females = dx.loc[dx.RIAGENDRx==\"Female\", \"SMQ020x\"].replace({\"Yes\": 1, \"No\": 0})\n",
    "dx_males = dx.loc[dx.RIAGENDRx==\"Male\", \"SMQ020x\"].replace({\"Yes\": 1, \"No\": 0})\n",
    "\n",
    "\n",
    "# then applaying satats model to calculate the t-test and p-value\n",
    "\n",
    "sm.stats.ttest_ind(dx_females, dx_males) # prints test statistic, p-value, degrees of freedom"
   ]
  },
  {
   "attachments": {},
   "cell_type": "markdown",
   "metadata": {},
   "source": [
    "__Q1a.__ Write 1-2 sentences explaining the substance of your findings to someone who does not know anything about statistical hypothesis tests."
   ]
  },
  {
   "attachments": {},
   "cell_type": "markdown",
   "metadata": {},
   "source": [
    "what we have here p_value = 3.032e-58 ,\n",
    "what if the differece between males and females = zero (meaning thier is no differece)\n",
    "and we get this portions of males and females that smoking before like this in our sample\n",
    "the probablity is extermly low = 3.032e-58   (p-value)\n",
    "which mean that we can say that  according to this probability that the differece between them\n",
    "is not zero"
   ]
  },
  {
   "attachments": {},
   "cell_type": "markdown",
   "metadata": {},
   "source": [
    "__Q1b.__ Construct three 95% confidence intervals: one for the proportion of women who smoke, one for the proportion of men who smoke, and one for the difference in the rates of smoking between women and men."
   ]
  },
  {
   "attachments": {},
   "cell_type": "markdown",
   "metadata": {},
   "source": [
    "### Using Stats module"
   ]
  },
  {
   "cell_type": "code",
   "execution_count": 4,
   "metadata": {},
   "outputs": [
    {
     "data": {
      "text/plain": [
       "(0.2882949879861214, 0.32139545615923526)"
      ]
     },
     "execution_count": 4,
     "metadata": {},
     "output_type": "execute_result"
    }
   ],
   "source": [
    "# 95% CI for the proportion of females who smoke  \n",
    "sm.stats.proportion_confint( sum(dx_females), len(dx_females))  "
   ]
  },
  {
   "cell_type": "code",
   "execution_count": 5,
   "metadata": {},
   "outputs": [
    {
     "data": {
      "text/plain": [
       "(0.49458749263718593, 0.5319290347874418)"
      ]
     },
     "execution_count": 5,
     "metadata": {},
     "output_type": "execute_result"
    }
   ],
   "source": [
    "# 95% CI for the proportion of Males who smoke \n",
    "sm.stats.proportion_confint( sum(dx_males), len(dx_males))"
   ]
  },
  {
   "cell_type": "code",
   "execution_count": 6,
   "metadata": {},
   "outputs": [
    {
     "data": {
      "text/plain": [
       "(-0.23316728428702627, -0.18329691308756202)"
      ]
     },
     "execution_count": 6,
     "metadata": {},
     "output_type": "execute_result"
    }
   ],
   "source": [
    "smprop.confint_proportions_2indep( sum(dx_females), len(dx_females), sum(dx_males), len(dx_males), compare='diff', alpha=0.05, correction=True)"
   ]
  },
  {
   "attachments": {},
   "cell_type": "markdown",
   "metadata": {},
   "source": [
    "__Q1c.__ Comment on any ways in which the confidence intervals that you found in part b reinforce, contradict, or add support to the hypothesis test conducted in part a."
   ]
  },
  {
   "attachments": {},
   "cell_type": "markdown",
   "metadata": {},
   "source": [
    "there is no differece they both confirm the difference between them is not Zero \n",
    "but Confidence interval add more support and quantify the decision  "
   ]
  },
  {
   "attachments": {},
   "cell_type": "markdown",
   "metadata": {},
   "source": [
    "### Using Numpy module "
   ]
  },
  {
   "cell_type": "code",
   "execution_count": 7,
   "metadata": {},
   "outputs": [
    {
     "data": {
      "text/plain": [
       "0.00844415041930423"
      ]
     },
     "execution_count": 7,
     "metadata": {},
     "output_type": "execute_result"
    }
   ],
   "source": [
    "# insert your code here\n",
    "p = .304845\n",
    "n = 2972\n",
    "se_female = np.sqrt(p * (1 - p)/n)\n",
    "se_female"
   ]
  },
  {
   "cell_type": "code",
   "execution_count": 8,
   "metadata": {},
   "outputs": [
    {
     "data": {
      "text/plain": [
       "(0.2882944651781637, 0.32139553482183625)"
      ]
     },
     "execution_count": 8,
     "metadata": {},
     "output_type": "execute_result"
    }
   ],
   "source": [
    "# CI for females\n",
    "p = .304845 \n",
    "lcb = p - 1.96 * se_female\n",
    "ucb = p + 1.96 * se_female\n",
    "(lcb, ucb)"
   ]
  },
  {
   "cell_type": "code",
   "execution_count": 9,
   "metadata": {},
   "outputs": [
    {
     "data": {
      "text/plain": [
       "0.009526078787008965"
      ]
     },
     "execution_count": 9,
     "metadata": {},
     "output_type": "execute_result"
    }
   ],
   "source": [
    "p = .513258\n",
    "n = 2753\n",
    "se_male = np.sqrt(p * (1 - p)/ n)\n",
    "se_male"
   ]
  },
  {
   "cell_type": "code",
   "execution_count": 10,
   "metadata": {},
   "outputs": [
    {
     "data": {
      "text/plain": [
       "(0.49458688557746244, 0.5319291144225375)"
      ]
     },
     "execution_count": 10,
     "metadata": {},
     "output_type": "execute_result"
    }
   ],
   "source": [
    "# CI for Males\n",
    "p = .513258 \n",
    "lcb = p - 1.96 * se_male\n",
    "ucb = p + 1.96 * se_male\n",
    "(lcb, ucb)"
   ]
  },
  {
   "cell_type": "code",
   "execution_count": 11,
   "metadata": {},
   "outputs": [
    {
     "data": {
      "text/plain": [
       "0.012729880335656654"
      ]
     },
     "execution_count": 11,
     "metadata": {},
     "output_type": "execute_result"
    }
   ],
   "source": [
    "se_diff = np.sqrt(se_female**2 + se_male**2)\n",
    "se_diff"
   ]
  },
  {
   "cell_type": "code",
   "execution_count": 12,
   "metadata": {},
   "outputs": [
    {
     "data": {
      "text/plain": [
       "(-0.23336356545788706, -0.18346243454211297)"
      ]
     },
     "execution_count": 12,
     "metadata": {},
     "output_type": "execute_result"
    }
   ],
   "source": [
    "d = .304845 - .513258\n",
    "lcb = d - 1.96 * se_diff\n",
    "ucb = d + 1.96 * se_diff\n",
    "(lcb, ucb)"
   ]
  },
  {
   "attachments": {},
   "cell_type": "markdown",
   "metadata": {},
   "source": [
    "## Question 2\n",
    "\n",
    "Partition the population into two groups based on whether a person has graduated college or not, using the educational attainment variable [DMDEDUC2](https://wwwn.cdc.gov/Nchs/Nhanes/2015-2016/DEMO_I.htm#DMDEDUC2).  Then conduct a test of the null hypothesis that the average heights (in centimeters) of the two groups are equal.  Next, convert the heights from centimeters to inches, and conduct a test of the null hypothesis that the average heights (in inches) of the two groups are equal."
   ]
  },
  {
   "cell_type": "code",
   "execution_count": 13,
   "metadata": {},
   "outputs": [
    {
     "data": {
      "text/plain": [
       "((7.578706943765076, 3.4901585776605263e-14),\n",
       " (7.578706943765011, 3.490158577662278e-14))"
      ]
     },
     "execution_count": 13,
     "metadata": {},
     "output_type": "execute_result"
    }
   ],
   "source": [
    "# perpar the data \n",
    "# 5 means graduated\n",
    "\n",
    "da.DMDEDUC2.value_counts()\n",
    "da['grad'] = da['DMDEDUC2'].replace({5: \"Yes\", 4: \"No\", 3: \"No\", 1: \"No\",2: \"No\",9: \"No\"})\n",
    "dx = da[[\"grad\", \"BMXHT\"]].dropna()\n",
    "\n",
    "\n",
    "# making two views for out data \n",
    "dx_grad = dx.loc[dx.grad == 'Yes',\"BMXHT\"]\n",
    "dx_not_grad =dx.loc[dx.grad == 'No',\"BMXHT\"]\n",
    "\n",
    "# calculating the difference between the height in two groups \n",
    "cm_test = sm.stats.ztest(dx_grad,dx_not_grad)\n",
    "\n",
    "# convert to inches & made the test \n",
    "dx_grad_inch = dx_grad * 0.393701\n",
    "dx_not_grad_inch = dx_not_grad * 0.393701\n",
    "\n",
    "inch_test = sm.stats.ztest(dx_grad_inch,dx_not_grad_inch)\n",
    "(cm_test,inch_test)"
   ]
  },
  {
   "attachments": {},
   "cell_type": "markdown",
   "metadata": {},
   "source": [
    "__Q2a.__ Based on the analysis performed here, are you confident that people who graduated from college have a different average height compared to people who did not graduate from college?"
   ]
  },
  {
   "attachments": {},
   "cell_type": "markdown",
   "metadata": {},
   "source": [
    "yes"
   ]
  },
  {
   "attachments": {},
   "cell_type": "markdown",
   "metadata": {},
   "source": [
    "__Q2b:__ How do the results obtained using the heights expressed in inches compare to the results obtained using the heights expressed in centimeters?"
   ]
  },
  {
   "attachments": {},
   "cell_type": "markdown",
   "metadata": {},
   "source": [
    "it's basically the same "
   ]
  },
  {
   "attachments": {},
   "cell_type": "markdown",
   "metadata": {},
   "source": [
    "## Question 3\n",
    "\n",
    "Conduct a hypothesis test of the null hypothesis that the average BMI for men between 30 and 40 is equal to the average BMI for men between 50 and 60.  Then carry out this test again after log transforming the BMI values."
   ]
  },
  {
   "cell_type": "code",
   "execution_count": 14,
   "metadata": {},
   "outputs": [
    {
     "data": {
      "text/plain": [
       "((0.8984008016755222, 0.36897190924214873),\n",
       " (0.7057844184100666, 0.4803222133688403))"
      ]
     },
     "execution_count": 14,
     "metadata": {},
     "output_type": "execute_result"
    }
   ],
   "source": [
    "# insert your code here\n",
    "dx = da[[\"RIDAGEYR\", \"RIAGENDRx\",\"BMXBMI\"]].dropna()\n",
    "dx = dx.loc[dx.RIAGENDRx == \"Male\"]\n",
    "\n",
    "male34 = dx.loc[(dx.RIDAGEYR >= 30) & (dx.RIDAGEYR <= 40 ), ['BMXBMI']]\n",
    "male56 = dx.loc[(dx.RIDAGEYR >= 50) & (dx.RIDAGEYR <= 60 ), ['BMXBMI']]\n",
    "\n",
    "\n",
    "normal_data = sm.stats.ztest(male34.BMXBMI, male56.BMXBMI)\n",
    "\n",
    "# log data calculation \n",
    "male34_log = np.log(male34.BMXBMI)\n",
    "male56_log = np.log(male56.BMXBMI)\n",
    "\n",
    "log_data = sm.stats.ztest(male34_log, male56_log)\n",
    "\n",
    "(normal_data,log_data)"
   ]
  },
  {
   "attachments": {},
   "cell_type": "markdown",
   "metadata": {},
   "source": [
    "__Q3a.__ How would you characterize the evidence that mean BMI differs between these age bands, and how would you characterize the evidence that mean log BMI differs between these age bands?"
   ]
  },
  {
   "attachments": {},
   "cell_type": "markdown",
   "metadata": {},
   "source": [
    "these tests indicates that their is no difference between them,\n",
    "mean while the difference between the normal_data and log_data \n",
    "refers to that log data is transformed to be more normal than the raw data "
   ]
  },
  {
   "attachments": {},
   "cell_type": "markdown",
   "metadata": {},
   "source": [
    "## Question 4\n",
    "\n",
    "Suppose we wish to compare the mean BMI between college graduates and people who have not graduated from college, focusing on women between the ages of 30 and 40.  First, consider the variance of BMI within each of these subpopulations using graphical techniques, and through the estimated subpopulation variances.  Then, calculate pooled and unpooled estimates of the standard error for the difference between the mean BMI in the two populations being compared.  Finally, test the null hypothesis that the two population means are equal, using each of the two different standard errors."
   ]
  },
  {
   "cell_type": "code",
   "execution_count": 27,
   "metadata": {},
   "outputs": [
    {
     "data": {
      "image/png": "[encoded data removed]",
      "text/plain": [
       "<Figure size 640x480 with 1 Axes>"
      ]
     },
     "metadata": {},
     "output_type": "display_data"
    }
   ],
   "source": [
    "# prepar the data first \n",
    "\n",
    "da.DMDEDUC2.value_counts()\n",
    "da['grad'] = da['DMDEDUC2'].replace({5: \"Yes\", 4: \"No\", 3: \"No\", 1: \"No\",2: \"No\",9: \"No\"})\n",
    "dx = da[[\"grad\", \"BMXBMI\",\"RIDAGEYR\", \"RIAGENDRx\"]].dropna()\n",
    "dx = dx.loc[ (dx.RIAGENDRx == 'Female') & (dx.RIDAGEYR >= 30) & (dx.RIDAGEYR <= 40),:]\n",
    "\n",
    "\n",
    "# making two views for out data \n",
    "dx_grad = dx.loc[dx.grad == 'Yes',\"BMXBMI\"]\n",
    "dx_not_grad =dx.loc[dx.grad == 'No',\"BMXBMI\"]\n",
    "\n",
    "sns.boxplot(x= dx.BMXBMI , y = dx.grad);\n",
    "# from this graph we can see that the variance is different in them\n",
    "# with not_grad has bigger variance than grad ones"
   ]
  },
  {
   "cell_type": "code",
   "execution_count": 29,
   "metadata": {},
   "outputs": [
    {
     "name": "stdout",
     "output_type": "stream",
     "text": [
      "pooled:  (-4.643908450956429, 3.4187910067116e-06)\n",
      "unequal: (-4.833662355599106, 1.3404386169203498e-06)\n"
     ]
    }
   ],
   "source": [
    "# we use weighted stats to counter any sampling errors\n",
    "dx_grad = sm.stats.DescrStatsW(dx_grad)\n",
    "dx_not_grad = sm.stats.DescrStatsW(dx_not_grad)\n",
    "\n",
    "print(\"pooled: \", sm.stats.CompareMeans(dx_grad, dx_not_grad).ztest_ind(usevar='pooled'))\n",
    "print(\"unequal:\", sm.stats.CompareMeans(dx_grad, dx_not_grad).ztest_ind(usevar='unequal'))"
   ]
  },
  {
   "attachments": {},
   "cell_type": "markdown",
   "metadata": {},
   "source": [
    "__Q4a.__ Comment on the strength of evidence against the null hypothesis that these two populations have equal mean BMI."
   ]
  },
  {
   "attachments": {},
   "cell_type": "markdown",
   "metadata": {},
   "source": [
    "both has evidence against null hypothesis but pooled approach give greater value than unpooled \n",
    "so, the pooled approach give stronger evidence"
   ]
  },
  {
   "attachments": {},
   "cell_type": "markdown",
   "metadata": {},
   "source": [
    "__Q4b.__ Comment on the degree to which the two populations have different variances, and on the extent to which the results using different approaches to estimating the standard error of the mean difference give divergent results."
   ]
  },
  {
   "attachments": {},
   "cell_type": "markdown",
   "metadata": {},
   "source": [
    "In our case, the results would be the same because the difference in variance is very clear. However, what happens when the pooled approach gives stronger evidence than it should, which in other cases could lead us to a wrong conclusion?"
   ]
  },
  {
   "attachments": {},
   "cell_type": "markdown",
   "metadata": {},
   "source": [
    "## Question 5\n",
    "\n",
    "Conduct a test of the null hypothesis that the first and second diastolic blood pressure measurements within a subject have the same mean values."
   ]
  },
  {
   "cell_type": "code",
   "execution_count": 33,
   "metadata": {},
   "outputs": [
    {
     "name": "stdout",
     "output_type": "stream",
     "text": [
      "('Female', Interval(18, 30, closed='right')) 0.13708260105448156 569 (0.7612107360791227, 0.4465312067051751)\n",
      "('Female', Interval(30, 40, closed='right')) 0.6713615023474179 426 (3.307398751951031, 0.0009416674523368051)\n",
      "('Female', Interval(40, 50, closed='right')) 0.5970149253731343 469 (2.6040611621024654, 0.009212631487347644)\n",
      "('Female', Interval(50, 60, closed='right')) 0.7685393258426966 445 (3.1023718750881724, 0.001919766301204196)\n",
      "('Female', Interval(60, 70, closed='right')) 0.8787878787878788 396 (3.1024528501809625, 0.0019192411825181255)\n",
      "('Female', Interval(70, 80, closed='right')) 1.4512820512820512 390 (5.141706875154317, 2.722536503552981e-07)\n",
      "('Male', Interval(18, 30, closed='right')) 0.00390625 512 (0.01959622841647691, 0.9843654725443948)\n",
      "('Male', Interval(30, 40, closed='right')) 0.46296296296296297 432 (1.9451535788714596, 0.05175649697939119)\n",
      "('Male', Interval(40, 50, closed='right')) 0.17894736842105263 380 (0.7201800810138878, 0.47141412641258706)\n",
      "('Male', Interval(50, 60, closed='right')) 0.3691588785046729 428 (1.4391115097646396, 0.1501189315054144)\n",
      "('Male', Interval(60, 70, closed='right')) 1.2736077481840193 413 (4.781940964515296, 1.7361067031915549e-06)\n",
      "('Male', Interval(70, 80, closed='right')) 2.031413612565445 382 (6.8013414549535005, 1.036494265013724e-11)\n"
     ]
    }
   ],
   "source": [
    "# insert your code here\n",
    "dx = da[[\"RIAGENDRx\", \"BPXSY1\", \"BPXSY2\", \"RIDAGEYR\"]].dropna()\n",
    "dx[\"agegrp\"] = pd.cut(dx.RIDAGEYR, [18, 30, 40, 50, 60, 70, 80])\n",
    "for k, g in dx.groupby([\"RIAGENDRx\", \"agegrp\"]):\n",
    "    db = g.BPXSY1 - g.BPXSY2\n",
    "    # print stratum definition, mean difference, sample size, test statistic, p-value\n",
    "    print(k, db.mean(), db.size, sm.stats.ztest(db.values, value=0))"
   ]
  },
  {
   "attachments": {},
   "cell_type": "markdown",
   "metadata": {},
   "source": [
    "__Q5a.__ Briefly describe your findings for an audience that is not familiar with statistical hypothesis testing."
   ]
  },
  {
   "attachments": {},
   "cell_type": "markdown",
   "metadata": {},
   "source": [
    "what we need to focus on  the last number (p-value)\n",
    "this tells us that probability of there is no difference between first and sconde blood prusur \n",
    "if this number is smaller than .05 this mean that their is a difference \n",
    "if it larger this means that there is no differece and the two measures have the same mean "
   ]
  },
  {
   "attachments": {},
   "cell_type": "markdown",
   "metadata": {},
   "source": [
    "__Q5b.__ Pretend that the first and second diastolic blood pressure measurements were taken on different people.  Modfify the analysis above as appropriate for this setting."
   ]
  },
  {
   "cell_type": "code",
   "execution_count": 34,
   "metadata": {},
   "outputs": [
    {
     "name": "stdout",
     "output_type": "stream",
     "text": [
      "('Female', Interval(18, 30, closed='right')) 2.031413612565445 382 (0.2245595858432537, 0.8223219077107284)\n",
      "('Female', Interval(30, 40, closed='right')) 2.031413612565445 382 (0.7853606442611086, 0.4322421486065686)\n",
      "('Female', Interval(40, 50, closed='right')) 2.031413612565445 382 (0.5974624218575985, 0.5501986887148249)\n",
      "('Female', Interval(50, 60, closed='right')) 2.031413612565445 382 (0.6276096027348104, 0.5302597164985068)\n",
      "('Female', Interval(60, 70, closed='right')) 2.031413612565445 382 (0.6717065488481436, 0.5017705314230756)\n",
      "('Female', Interval(70, 80, closed='right')) 2.031413612565445 382 (0.9697324474707487, 0.3321798724101044)\n",
      "('Male', Interval(18, 30, closed='right')) 2.031413612565445 382 (0.005918509505686175, 0.9952777402116108)\n",
      "('Male', Interval(30, 40, closed='right')) 2.031413612565445 382 (0.5095244732590083, 0.6103846484936849)\n",
      "('Male', Interval(40, 50, closed='right')) 2.031413612565445 382 (0.1492905600661382, 0.8813243637759886)\n",
      "('Male', Interval(50, 60, closed='right')) 2.031413612565445 382 (0.291091369890458, 0.7709814401103434)\n",
      "('Male', Interval(60, 70, closed='right')) 2.031413612565445 382 (0.9724742854571781, 0.3308146515076852)\n",
      "('Male', Interval(70, 80, closed='right')) 2.031413612565445 382 (1.3697616485248667, 0.17076131744384282)\n"
     ]
    }
   ],
   "source": [
    "# insert your code here\n",
    "for k, g in dx.groupby([\"RIAGENDRx\", \"agegrp\"]):\n",
    "    # print stratum definition, mean difference, sample size, test statistic, p-value\n",
    "    print(k, db.mean(), db.size, sm.stats.ztest(g.BPXSY1, g.BPXSY2))"
   ]
  },
  {
   "attachments": {},
   "cell_type": "markdown",
   "metadata": {},
   "source": [
    "__Q5c.__ Briefly describe how the approaches used and the results obtained in the preceeding two parts of the question differ."
   ]
  },
  {
   "attachments": {},
   "cell_type": "markdown",
   "metadata": {},
   "source": [
    "if we consire them as different groups we will conclude that their is no difference between \n",
    "two groups meanwhile if we calculte it as they are the same group we conclude that \n",
    "their is a differece between them! "
   ]
  }
 ],
 "metadata": {
  "kernelspec": {
   "display_name": "Python 3",
   "language": "python",
   "name": "python3"
  },
  "language_info": {
   "codemirror_mode": {
    "name": "ipython",
    "version": 3
   },
   "file_extension": ".py",
   "mimetype": "text/x-python",
   "name": "python",
   "nbconvert_exporter": "python",
   "pygments_lexer": "ipython3",
   "version": "3.11.0"
  }
 },
 "nbformat": 4,
 "nbformat_minor": 2
}
