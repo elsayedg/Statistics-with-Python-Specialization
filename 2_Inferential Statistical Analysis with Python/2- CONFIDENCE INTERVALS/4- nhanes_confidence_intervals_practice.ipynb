{
 "cells": [
  {
   "cell_type": "markdown",
   "metadata": {},
   "source": [
    "# Practice notebook for confidence intervals using NHANES data\n",
    "\n",
    "This notebook will give you the opportunity to practice working with confidence intervals using the NHANES data.\n",
    "\n",
    "You can enter your code into the cells that say \"enter your code here\", and you can type responses to the questions into the cells that say \"Type Markdown and Latex\".\n",
    "\n",
    "Note that most of the code that you will need to write below is very similar to code that appears in the case study notebook.  You will need to edit code from that notebook in small ways to adapt it to the prompts below.\n",
    "\n",
    "To get started, we will use the same module imports and read the data in the same way as we did in the case study:"
   ]
  },
  {
   "cell_type": "code",
   "execution_count": 1,
   "metadata": {},
   "outputs": [],
   "source": [
    "%matplotlib inline\n",
    "import matplotlib.pyplot as plt\n",
    "import pandas as pd\n",
    "import numpy as np\n",
    "import seaborn as sns\n",
    "import statsmodels.api as sm\n",
    "\n",
    "da = pd.read_csv(\"nhanes_2015_2016.csv\")"
   ]
  },
  {
   "cell_type": "markdown",
   "metadata": {},
   "source": [
    "## Question 1\n",
    "\n",
    "Restrict the sample to women between 35 and 50, then use the marital status variable [DMDMARTL](https://wwwn.cdc.gov/Nchs/Nhanes/2015-2016/DEMO_I.htm#DMDMARTL) to partition this sample into two groups - women who are currently married, and women who are not currently married.  Within each of these groups, calculate the proportion of women who have completed college.  Calculate 95% confidence intervals for each of these proportions."
   ]
  },
  {
   "cell_type": "code",
   "execution_count": 2,
   "metadata": {},
   "outputs": [],
   "source": [
    "\"\"\" \n",
    "RIAGENDR == 2 # code for women\n",
    "(da.RIDAGEYR >= 35) & (da.RIDAGEYR <= 50)   #restrict age range between 35 and 50\n",
    "(da.DMDMARTL == 1)   # group data by Married\n",
    "(da.DMDMARTL != 1)   # group data by not  Married\n",
    "DMDEDUC2  code for education level of completed college = 5 \n",
    "\"\"\"\n",
    "# making datafram for women with age (35,50)\n",
    "dw = da[(da.RIAGENDR == 2) & (da.RIDAGEYR >= 35) & (da.RIDAGEYR <= 50)].copy()\n",
    "dw['DMDMARTLx'] = dw.DMDMARTL.replace({1 : \"Married\", \n",
    "                                       2 : \"Not_Married\", \n",
    "                                       3 : \"Not_Married\", \n",
    "                                       4 : \"Not_Married\", \n",
    "                                       5 : \"Not_Married\", \n",
    "                                       6 : \"Not_Married\", \n",
    "                                       77: \"Not_Married\"\n",
    "                                       })\n",
    "\n",
    "dw['DMDEDUC2x'] = dw.DMDEDUC2.replace({1 : \"Other\", \n",
    "                                       2 : \"Other\", \n",
    "                                       3 : \"Other\", \n",
    "                                       4 : \"Other\", \n",
    "                                       5 : \"College_graduate\", \n",
    "                                       7 : \"Other\", \n",
    "                                       9 : \"Other\"\n",
    "                                       })\n"
   ]
  },
  {
   "cell_type": "code",
   "execution_count": 4,
   "metadata": {},
   "outputs": [
    {
     "data": {
      "text/plain": [
       "(Married        449\n",
       " Not_Married    338\n",
       " Name: DMDMARTLx, dtype: int64,\n",
       " Other               553\n",
       " College_graduate    234\n",
       " Name: DMDEDUC2x, dtype: int64)"
      ]
     },
     "execution_count": 4,
     "metadata": {},
     "output_type": "execute_result"
    }
   ],
   "source": [
    "# check  for non values \n",
    "(dw.DMDMARTLx.value_counts(), dw.DMDEDUC2x.value_counts())"
   ]
  },
  {
   "cell_type": "code",
   "execution_count": 5,
   "metadata": {},
   "outputs": [
    {
     "data": {
      "text/html": [
       "<div>\n",
       "<style scoped>\n",
       "    .dataframe tbody tr th:only-of-type {\n",
       "        vertical-align: middle;\n",
       "    }\n",
       "\n",
       "    .dataframe tbody tr th {\n",
       "        vertical-align: top;\n",
       "    }\n",
       "\n",
       "    .dataframe thead th {\n",
       "        text-align: right;\n",
       "    }\n",
       "</style>\n",
       "<table border=\"1\" class=\"dataframe\">\n",
       "  <thead>\n",
       "    <tr style=\"text-align: right;\">\n",
       "      <th>DMDEDUC2x</th>\n",
       "      <th>College_graduate</th>\n",
       "      <th>Other</th>\n",
       "    </tr>\n",
       "    <tr>\n",
       "      <th>DMDMARTLx</th>\n",
       "      <th></th>\n",
       "      <th></th>\n",
       "    </tr>\n",
       "  </thead>\n",
       "  <tbody>\n",
       "    <tr>\n",
       "      <th>Married</th>\n",
       "      <td>162</td>\n",
       "      <td>287</td>\n",
       "    </tr>\n",
       "    <tr>\n",
       "      <th>Not_Married</th>\n",
       "      <td>72</td>\n",
       "      <td>266</td>\n",
       "    </tr>\n",
       "  </tbody>\n",
       "</table>\n",
       "</div>"
      ],
      "text/plain": [
       "DMDEDUC2x    College_graduate  Other\n",
       "DMDMARTLx                           \n",
       "Married                   162    287\n",
       "Not_Married                72    266"
      ]
     },
     "execution_count": 5,
     "metadata": {},
     "output_type": "execute_result"
    }
   ],
   "source": [
    "dw.groupby(['DMDMARTLx','DMDEDUC2x'])['DMDEDUC2x'].count().unstack()"
   ]
  },
  {
   "cell_type": "code",
   "execution_count": 6,
   "metadata": {},
   "outputs": [],
   "source": [
    "# convert values back to numeric so we could calculate the mean\n",
    "dw['DMDEDUC2x'] = dw.DMDEDUC2x.replace({\"Other\":0, \"College_graduate\":1})"
   ]
  },
  {
   "cell_type": "code",
   "execution_count": 7,
   "metadata": {},
   "outputs": [
    {
     "data": {
      "text/html": [
       "<div>\n",
       "<style scoped>\n",
       "    .dataframe tbody tr th:only-of-type {\n",
       "        vertical-align: middle;\n",
       "    }\n",
       "\n",
       "    .dataframe tbody tr th {\n",
       "        vertical-align: top;\n",
       "    }\n",
       "\n",
       "    .dataframe thead th {\n",
       "        text-align: right;\n",
       "    }\n",
       "</style>\n",
       "<table border=\"1\" class=\"dataframe\">\n",
       "  <thead>\n",
       "    <tr style=\"text-align: right;\">\n",
       "      <th></th>\n",
       "      <th>Proportion</th>\n",
       "      <th>Total_n</th>\n",
       "    </tr>\n",
       "    <tr>\n",
       "      <th>DMDMARTLx</th>\n",
       "      <th></th>\n",
       "      <th></th>\n",
       "    </tr>\n",
       "  </thead>\n",
       "  <tbody>\n",
       "    <tr>\n",
       "      <th>Married</th>\n",
       "      <td>0.360802</td>\n",
       "      <td>449</td>\n",
       "    </tr>\n",
       "    <tr>\n",
       "      <th>Not_Married</th>\n",
       "      <td>0.213018</td>\n",
       "      <td>338</td>\n",
       "    </tr>\n",
       "  </tbody>\n",
       "</table>\n",
       "</div>"
      ],
      "text/plain": [
       "             Proportion  Total_n\n",
       "DMDMARTLx                       \n",
       "Married        0.360802      449\n",
       "Not_Married    0.213018      338"
      ]
     },
     "execution_count": 7,
     "metadata": {},
     "output_type": "execute_result"
    }
   ],
   "source": [
    "\n",
    "# calculate p hat (proportion of college graduted in poth married and not married)\n",
    "\n",
    "dz = dw.groupby(dw.DMDMARTLx).agg({\"DMDEDUC2x\": [lambda x : np.mean( x == 1 ), np.size]})\n",
    "dz.columns = [\"Proportion\", \"Total_n\"] # The default column names are unclear, so we replace them here\n",
    "dz"
   ]
  },
  {
   "cell_type": "code",
   "execution_count": 8,
   "metadata": {},
   "outputs": [
    {
     "name": "stdout",
     "output_type": "stream",
     "text": [
      "0.02266360248455356\n",
      "0.022270605048202215\n"
     ]
    }
   ],
   "source": [
    "# calculate it with numpy \n",
    "p = dz.Proportion.Married # Married proportion\n",
    "n = dz.Total_n.Married # Total number of Married\n",
    "se_married = np.sqrt(p * (1 - p) / n)\n",
    "print(se_married)\n",
    "\n",
    "p = dz.Proportion.Not_Married # Not Married proportion\n",
    "n = dz.Total_n.Not_Married # Total number of Not Married\n",
    "se_not_married = np.sqrt(p * (1 - p) / n)\n",
    "print(se_not_married)"
   ]
  },
  {
   "cell_type": "code",
   "execution_count": 9,
   "metadata": {},
   "outputs": [
    {
     "name": "stdout",
     "output_type": "stream",
     "text": [
      "0.3163811208674688 0.4052224426069187\n"
     ]
    }
   ],
   "source": [
    "# CI for all population colleage grad in married women\n",
    "p = dz.Proportion.Married # Married proportion\n",
    "lcb = p - 1.96 * se_married  \n",
    "ucb = p + 1.96 * se_married \n",
    "print(lcb, ucb)"
   ]
  },
  {
   "cell_type": "code",
   "execution_count": 10,
   "metadata": {},
   "outputs": [
    {
     "name": "stdout",
     "output_type": "stream",
     "text": [
      "0.1693673655848136 0.25666813737376626\n"
     ]
    }
   ],
   "source": [
    "# CI for all population Not marreid women with colleage \n",
    "\n",
    "p = dz.Proportion.Not_Married # Not Married proportion\n",
    "lcb = p - 1.96 * se_not_married\n",
    "ucb = p + 1.96 * se_not_married\n",
    "print(lcb, ucb)"
   ]
  },
  {
   "cell_type": "code",
   "execution_count": 13,
   "metadata": {},
   "outputs": [
    {
     "data": {
      "text/plain": [
       "((0.31638193710753626, 0.4052216263668512),\n",
       " (0.16936816767089768, 0.2566673352876822))"
      ]
     },
     "execution_count": 13,
     "metadata": {},
     "output_type": "execute_result"
    }
   ],
   "source": [
    "# check our calculations by statsmodle\n",
    "Married_por = sm.stats.proportion_confint(dz.Total_n.Married * dz.Proportion.Married,dz.Total_n.Married)\n",
    "Not_married_por = sm.stats.proportion_confint(dz.Total_n.Not_Married * dz.Proportion.Not_Married,dz.Total_n.Not_Married)\n",
    "\n",
    "(Married_por,Not_married_por)"
   ]
  },
  {
   "cell_type": "markdown",
   "metadata": {},
   "source": [
    "__Q1a.__ Identify which of the two confidence intervals is wider, and explain why this is the case. "
   ]
  },
  {
   "attachments": {},
   "cell_type": "markdown",
   "metadata": {},
   "source": [
    "they a bout the same because the level of confidence is the same with smiller sample sizes also"
   ]
  },
  {
   "cell_type": "markdown",
   "metadata": {},
   "source": [
    "__Q1b.__ Write 1-2 sentences summarizing these findings for an audience that does not know what a confidence interval is (the goal here is to report the substance of what you learned about how marital status and educational attainment are related, not to teach a person what a confidence interval is)."
   ]
  },
  {
   "attachments": {},
   "cell_type": "markdown",
   "metadata": {},
   "source": [
    "with % 95  confidence we astimate that  ( % 31.63 : % 40.52 ) of all married women at age (35,50) have college degrees, and (% 16.93 : % 25.66) of all  Not married women at the same age have college degrees\n",
    "form this we could say that having college degrees are associated with Marrage rate."
   ]
  },
  {
   "cell_type": "markdown",
   "metadata": {},
   "source": [
    "## Question 2\n",
    "\n",
    "Construct a 95% confidence interval for the proportion of smokers who are female. Construct a 95% confidence interval for the proportion of smokers who are male. Construct a 95% confidence interval for the **difference** between those two gender proportions."
   ]
  },
  {
   "cell_type": "code",
   "execution_count": 14,
   "metadata": {},
   "outputs": [],
   "source": [
    "da[\"SMQ020x\"] = da.SMQ020.replace({1: \"Yes\", 2: \"No\", 7: np.nan, 9: np.nan})  # np.nan represents a missing value\n",
    "da[\"RIAGENDRx\"] = da.RIAGENDR.replace({1: \"Male\", 2: \"Female\"})"
   ]
  },
  {
   "cell_type": "markdown",
   "metadata": {},
   "source": [
    "We can now [tabulate](https://pandas.pydata.org/pandas-docs/stable/generated/pandas.crosstab.html) the numbers of female and male smokers and non-smokers:"
   ]
  },
  {
   "cell_type": "code",
   "execution_count": 15,
   "metadata": {},
   "outputs": [
    {
     "data": {
      "text/html": [
       "<div>\n",
       "<style scoped>\n",
       "    .dataframe tbody tr th:only-of-type {\n",
       "        vertical-align: middle;\n",
       "    }\n",
       "\n",
       "    .dataframe tbody tr th {\n",
       "        vertical-align: top;\n",
       "    }\n",
       "\n",
       "    .dataframe thead th {\n",
       "        text-align: right;\n",
       "    }\n",
       "</style>\n",
       "<table border=\"1\" class=\"dataframe\">\n",
       "  <thead>\n",
       "    <tr style=\"text-align: right;\">\n",
       "      <th>RIAGENDRx</th>\n",
       "      <th>Female</th>\n",
       "      <th>Male</th>\n",
       "    </tr>\n",
       "    <tr>\n",
       "      <th>SMQ020x</th>\n",
       "      <th></th>\n",
       "      <th></th>\n",
       "    </tr>\n",
       "  </thead>\n",
       "  <tbody>\n",
       "    <tr>\n",
       "      <th>No</th>\n",
       "      <td>2066</td>\n",
       "      <td>1340</td>\n",
       "    </tr>\n",
       "    <tr>\n",
       "      <th>Yes</th>\n",
       "      <td>906</td>\n",
       "      <td>1413</td>\n",
       "    </tr>\n",
       "  </tbody>\n",
       "</table>\n",
       "</div>"
      ],
      "text/plain": [
       "RIAGENDRx  Female  Male\n",
       "SMQ020x                \n",
       "No           2066  1340\n",
       "Yes           906  1413"
      ]
     },
     "execution_count": 15,
     "metadata": {},
     "output_type": "execute_result"
    }
   ],
   "source": [
    "dx = da[[\"SMQ020x\", \"RIAGENDRx\"]].dropna()  # dropna drops cases where either variable is missing\n",
    "pd.crosstab(dx.SMQ020x, dx.RIAGENDRx)"
   ]
  },
  {
   "cell_type": "code",
   "execution_count": 16,
   "metadata": {},
   "outputs": [
    {
     "data": {
      "text/plain": [
       "((0.2882949879861214, 0.32139545615923526),\n",
       " (0.49458749263718593, 0.5319290347874418))"
      ]
     },
     "execution_count": 16,
     "metadata": {},
     "output_type": "execute_result"
    }
   ],
   "source": [
    "Females_pro = sm.stats.proportion_confint(906,906+2066)\n",
    "Males_pro = sm.stats.proportion_confint(1413,1413+1340)\n",
    "(Females_pro,Males_pro) "
   ]
  },
  {
   "cell_type": "code",
   "execution_count": 21,
   "metadata": {},
   "outputs": [
    {
     "data": {
      "text/plain": [
       "0.012729881381407434"
      ]
     },
     "execution_count": 21,
     "metadata": {},
     "output_type": "execute_result"
    }
   ],
   "source": [
    "# calculate difference between two proprtions \n",
    "n1 = (906 + 2066) \n",
    "n2 = (1413 + 1340)\n",
    "p1 = 906 / n1\n",
    "p2 = 1413 / n2\n",
    "Se1 = np.sqrt(p1 * (1 - p1) / n1)\n",
    "Se2 = np.sqrt(p2 * (1-p2) / n2)\n",
    "Se_diff = np.sqrt(Se1**2 + Se2**2)\n",
    "Se_diff"
   ]
  },
  {
   "cell_type": "code",
   "execution_count": 23,
   "metadata": {},
   "outputs": [
    {
     "data": {
      "text/plain": [
       "(-0.2338728044024504, -0.18295327887682067)"
      ]
     },
     "execution_count": 23,
     "metadata": {},
     "output_type": "execute_result"
    }
   ],
   "source": [
    "d = p1 - p2 \n",
    "lcb = d - 2*Se_diff\n",
    "ucb = d + 2*Se_diff\n",
    "(lcb,ucb)\n"
   ]
  },
  {
   "cell_type": "markdown",
   "metadata": {},
   "source": [
    "__Q2a.__ Why might it be relevant to report the separate gender proportions **and** the difference between the gender proportions?"
   ]
  },
  {
   "attachments": {},
   "cell_type": "markdown",
   "metadata": {},
   "source": [
    "because we give ranges not specified numbers so,\n",
    "the separate gender proportions gives you the a whole range for each gender\n",
    "and differece summarizes the proportions differece between the two ranges."
   ]
  },
  {
   "cell_type": "markdown",
   "metadata": {},
   "source": [
    "__Q2b.__ How does the **width** of the confidence interval for the difference between the gender proportions compare to the widths of the confidence intervals for the separate gender proportions?"
   ]
  },
  {
   "attachments": {},
   "cell_type": "markdown",
   "metadata": {},
   "source": [
    "the width of the difference between the two porporations is wider compared to the width of separated porporations for each gender."
   ]
  },
  {
   "cell_type": "markdown",
   "metadata": {},
   "source": [
    "## Question 3\n",
    "\n",
    "Construct a 95% interval for height ([BMXHT](https://wwwn.cdc.gov/Nchs/Nhanes/2015-2016/BMX_I.htm#BMXHT)) in centimeters.  Then convert height from centimeters to inches by dividing by 2.54, and construct a 95% confidence interval for height in inches.  Finally, convert the endpoints (the lower and upper confidence limits) of the confidence interval from inches to back to centimeters   "
   ]
  },
  {
   "cell_type": "code",
   "execution_count": 13,
   "metadata": {},
   "outputs": [
    {
     "data": {
      "text/plain": [
       "((165.88055125872887, 166.40511769949427),\n",
       " (65.30730364516884, 65.51382586594264),\n",
       " 165.88055125872887,\n",
       " 166.4051176994943)"
      ]
     },
     "execution_count": 13,
     "metadata": {},
     "output_type": "execute_result"
    }
   ],
   "source": [
    "Ci_cm = sm.stats.DescrStatsW(da.BMXHT.dropna()).zconfint_mean()\n",
    "da['BMXHTx'] = da.BMXHT / 2.54\n",
    "Ci_in = sm.stats.DescrStatsW(da.BMXHTx.dropna()).zconfint_mean()\n",
    "lcb , ucb = Ci_in\n",
    "(Ci_cm,Ci_in, lcb * 2.54,ucb * 2.54)  \n"
   ]
  },
  {
   "cell_type": "markdown",
   "metadata": {},
   "source": [
    "__Q3a.__ Describe how the confidence interval constructed in centimeters relates to the confidence interval constructed in inches."
   ]
  },
  {
   "attachments": {},
   "cell_type": "markdown",
   "metadata": {},
   "source": [
    "it's the same  with differences in units only."
   ]
  },
  {
   "cell_type": "markdown",
   "metadata": {},
   "source": [
    "## Question 4\n",
    "\n",
    "Partition the sample based on 10-year age bands, i.e. the resulting groups will consist of people with ages from 18-28, 29-38, etc. Construct 95% confidence intervals for the difference between the mean BMI for females and for males within each age band."
   ]
  },
  {
   "cell_type": "code",
   "execution_count": 17,
   "metadata": {},
   "outputs": [
    {
     "data": {
      "text/html": [
       "<div>\n",
       "<style scoped>\n",
       "    .dataframe tbody tr th:only-of-type {\n",
       "        vertical-align: middle;\n",
       "    }\n",
       "\n",
       "    .dataframe tbody tr th {\n",
       "        vertical-align: top;\n",
       "    }\n",
       "\n",
       "    .dataframe thead tr th {\n",
       "        text-align: left;\n",
       "    }\n",
       "\n",
       "    .dataframe thead tr:last-of-type th {\n",
       "        text-align: right;\n",
       "    }\n",
       "</style>\n",
       "<table border=\"1\" class=\"dataframe\">\n",
       "  <thead>\n",
       "    <tr>\n",
       "      <th></th>\n",
       "      <th colspan=\"6\" halign=\"left\">BMXBMI</th>\n",
       "    </tr>\n",
       "    <tr>\n",
       "      <th></th>\n",
       "      <th colspan=\"2\" halign=\"left\">mean</th>\n",
       "      <th colspan=\"2\" halign=\"left\">std</th>\n",
       "      <th colspan=\"2\" halign=\"left\">size</th>\n",
       "    </tr>\n",
       "    <tr>\n",
       "      <th>RIAGENDRx</th>\n",
       "      <th>Female</th>\n",
       "      <th>Male</th>\n",
       "      <th>Female</th>\n",
       "      <th>Male</th>\n",
       "      <th>Female</th>\n",
       "      <th>Male</th>\n",
       "    </tr>\n",
       "    <tr>\n",
       "      <th>agegrp</th>\n",
       "      <th></th>\n",
       "      <th></th>\n",
       "      <th></th>\n",
       "      <th></th>\n",
       "      <th></th>\n",
       "      <th></th>\n",
       "    </tr>\n",
       "  </thead>\n",
       "  <tbody>\n",
       "    <tr>\n",
       "      <th>(18, 28]</th>\n",
       "      <td>28.019433</td>\n",
       "      <td>27.058186</td>\n",
       "      <td>8.048854</td>\n",
       "      <td>6.679515</td>\n",
       "      <td>498</td>\n",
       "      <td>458</td>\n",
       "    </tr>\n",
       "    <tr>\n",
       "      <th>(28, 38]</th>\n",
       "      <td>29.943443</td>\n",
       "      <td>29.697180</td>\n",
       "      <td>7.959097</td>\n",
       "      <td>6.726690</td>\n",
       "      <td>494</td>\n",
       "      <td>467</td>\n",
       "    </tr>\n",
       "    <tr>\n",
       "      <th>(38, 48]</th>\n",
       "      <td>31.003733</td>\n",
       "      <td>29.514646</td>\n",
       "      <td>8.044642</td>\n",
       "      <td>6.104950</td>\n",
       "      <td>514</td>\n",
       "      <td>398</td>\n",
       "    </tr>\n",
       "    <tr>\n",
       "      <th>(48, 58]</th>\n",
       "      <td>30.787361</td>\n",
       "      <td>29.385132</td>\n",
       "      <td>7.647590</td>\n",
       "      <td>6.151534</td>\n",
       "      <td>454</td>\n",
       "      <td>419</td>\n",
       "    </tr>\n",
       "    <tr>\n",
       "      <th>(58, 68]</th>\n",
       "      <td>31.054664</td>\n",
       "      <td>29.232462</td>\n",
       "      <td>7.779502</td>\n",
       "      <td>5.959024</td>\n",
       "      <td>466</td>\n",
       "      <td>470</td>\n",
       "    </tr>\n",
       "    <tr>\n",
       "      <th>(68, 78]</th>\n",
       "      <td>30.537818</td>\n",
       "      <td>28.720270</td>\n",
       "      <td>6.780588</td>\n",
       "      <td>5.336652</td>\n",
       "      <td>279</td>\n",
       "      <td>307</td>\n",
       "    </tr>\n",
       "    <tr>\n",
       "      <th>(78, 88]</th>\n",
       "      <td>27.850000</td>\n",
       "      <td>27.464368</td>\n",
       "      <td>5.483781</td>\n",
       "      <td>4.695650</td>\n",
       "      <td>201</td>\n",
       "      <td>177</td>\n",
       "    </tr>\n",
       "  </tbody>\n",
       "</table>\n",
       "</div>"
      ],
      "text/plain": [
       "              BMXBMI                                           \n",
       "                mean                  std             size     \n",
       "RIAGENDRx     Female       Male    Female      Male Female Male\n",
       "agegrp                                                         \n",
       "(18, 28]   28.019433  27.058186  8.048854  6.679515    498  458\n",
       "(28, 38]   29.943443  29.697180  7.959097  6.726690    494  467\n",
       "(38, 48]   31.003733  29.514646  8.044642  6.104950    514  398\n",
       "(48, 58]   30.787361  29.385132  7.647590  6.151534    454  419\n",
       "(58, 68]   31.054664  29.232462  7.779502  5.959024    466  470\n",
       "(68, 78]   30.537818  28.720270  6.780588  5.336652    279  307\n",
       "(78, 88]   27.850000  27.464368  5.483781  4.695650    201  177"
      ]
     },
     "execution_count": 17,
     "metadata": {},
     "output_type": "execute_result"
    }
   ],
   "source": [
    "# Calculate the mean, SD, and sample size for BMI within age/gender groups\n",
    "da['agegrp'] = pd.cut(da.RIDAGEYR, [18, 28, 38, 48, 58, 68, 78, 88])\n",
    "da[\"RIAGENDRx\"] = da.RIAGENDR.replace({1: \"Male\", 2: \"Female\"})\n",
    "pr = da.groupby([\"agegrp\", \"RIAGENDRx\"]).agg({\"BMXBMI\": [np.mean, np.std, np.size]}).unstack()\n",
    "pr\n"
   ]
  },
  {
   "cell_type": "code",
   "execution_count": 18,
   "metadata": {},
   "outputs": [
    {
     "data": {
      "text/html": [
       "<div>\n",
       "<style scoped>\n",
       "    .dataframe tbody tr th:only-of-type {\n",
       "        vertical-align: middle;\n",
       "    }\n",
       "\n",
       "    .dataframe tbody tr th {\n",
       "        vertical-align: top;\n",
       "    }\n",
       "\n",
       "    .dataframe thead tr th {\n",
       "        text-align: left;\n",
       "    }\n",
       "\n",
       "    .dataframe thead tr:last-of-type th {\n",
       "        text-align: right;\n",
       "    }\n",
       "</style>\n",
       "<table border=\"1\" class=\"dataframe\">\n",
       "  <thead>\n",
       "    <tr>\n",
       "      <th></th>\n",
       "      <th colspan=\"8\" halign=\"left\">BMXBMI</th>\n",
       "    </tr>\n",
       "    <tr>\n",
       "      <th></th>\n",
       "      <th colspan=\"2\" halign=\"left\">mean</th>\n",
       "      <th colspan=\"2\" halign=\"left\">std</th>\n",
       "      <th colspan=\"2\" halign=\"left\">size</th>\n",
       "      <th colspan=\"2\" halign=\"left\">sem</th>\n",
       "    </tr>\n",
       "    <tr>\n",
       "      <th>RIAGENDRx</th>\n",
       "      <th>Female</th>\n",
       "      <th>Male</th>\n",
       "      <th>Female</th>\n",
       "      <th>Male</th>\n",
       "      <th>Female</th>\n",
       "      <th>Male</th>\n",
       "      <th>Female</th>\n",
       "      <th>Male</th>\n",
       "    </tr>\n",
       "    <tr>\n",
       "      <th>agegrp</th>\n",
       "      <th></th>\n",
       "      <th></th>\n",
       "      <th></th>\n",
       "      <th></th>\n",
       "      <th></th>\n",
       "      <th></th>\n",
       "      <th></th>\n",
       "      <th></th>\n",
       "    </tr>\n",
       "  </thead>\n",
       "  <tbody>\n",
       "    <tr>\n",
       "      <th>(18, 28]</th>\n",
       "      <td>28.019433</td>\n",
       "      <td>27.058186</td>\n",
       "      <td>8.048854</td>\n",
       "      <td>6.679515</td>\n",
       "      <td>498</td>\n",
       "      <td>458</td>\n",
       "      <td>0.360678</td>\n",
       "      <td>0.312113</td>\n",
       "    </tr>\n",
       "    <tr>\n",
       "      <th>(28, 38]</th>\n",
       "      <td>29.943443</td>\n",
       "      <td>29.697180</td>\n",
       "      <td>7.959097</td>\n",
       "      <td>6.726690</td>\n",
       "      <td>494</td>\n",
       "      <td>467</td>\n",
       "      <td>0.358097</td>\n",
       "      <td>0.311274</td>\n",
       "    </tr>\n",
       "    <tr>\n",
       "      <th>(38, 48]</th>\n",
       "      <td>31.003733</td>\n",
       "      <td>29.514646</td>\n",
       "      <td>8.044642</td>\n",
       "      <td>6.104950</td>\n",
       "      <td>514</td>\n",
       "      <td>398</td>\n",
       "      <td>0.354834</td>\n",
       "      <td>0.306014</td>\n",
       "    </tr>\n",
       "    <tr>\n",
       "      <th>(48, 58]</th>\n",
       "      <td>30.787361</td>\n",
       "      <td>29.385132</td>\n",
       "      <td>7.647590</td>\n",
       "      <td>6.151534</td>\n",
       "      <td>454</td>\n",
       "      <td>419</td>\n",
       "      <td>0.358919</td>\n",
       "      <td>0.300522</td>\n",
       "    </tr>\n",
       "    <tr>\n",
       "      <th>(58, 68]</th>\n",
       "      <td>31.054664</td>\n",
       "      <td>29.232462</td>\n",
       "      <td>7.779502</td>\n",
       "      <td>5.959024</td>\n",
       "      <td>466</td>\n",
       "      <td>470</td>\n",
       "      <td>0.360378</td>\n",
       "      <td>0.274869</td>\n",
       "    </tr>\n",
       "    <tr>\n",
       "      <th>(68, 78]</th>\n",
       "      <td>30.537818</td>\n",
       "      <td>28.720270</td>\n",
       "      <td>6.780588</td>\n",
       "      <td>5.336652</td>\n",
       "      <td>279</td>\n",
       "      <td>307</td>\n",
       "      <td>0.405943</td>\n",
       "      <td>0.304579</td>\n",
       "    </tr>\n",
       "    <tr>\n",
       "      <th>(78, 88]</th>\n",
       "      <td>27.850000</td>\n",
       "      <td>27.464368</td>\n",
       "      <td>5.483781</td>\n",
       "      <td>4.695650</td>\n",
       "      <td>201</td>\n",
       "      <td>177</td>\n",
       "      <td>0.386796</td>\n",
       "      <td>0.352947</td>\n",
       "    </tr>\n",
       "  </tbody>\n",
       "</table>\n",
       "</div>"
      ],
      "text/plain": [
       "              BMXBMI                                                       \\\n",
       "                mean                  std             size            sem   \n",
       "RIAGENDRx     Female       Male    Female      Male Female Male    Female   \n",
       "agegrp                                                                      \n",
       "(18, 28]   28.019433  27.058186  8.048854  6.679515    498  458  0.360678   \n",
       "(28, 38]   29.943443  29.697180  7.959097  6.726690    494  467  0.358097   \n",
       "(38, 48]   31.003733  29.514646  8.044642  6.104950    514  398  0.354834   \n",
       "(48, 58]   30.787361  29.385132  7.647590  6.151534    454  419  0.358919   \n",
       "(58, 68]   31.054664  29.232462  7.779502  5.959024    466  470  0.360378   \n",
       "(68, 78]   30.537818  28.720270  6.780588  5.336652    279  307  0.405943   \n",
       "(78, 88]   27.850000  27.464368  5.483781  4.695650    201  177  0.386796   \n",
       "\n",
       "                     \n",
       "                     \n",
       "RIAGENDRx      Male  \n",
       "agegrp               \n",
       "(18, 28]   0.312113  \n",
       "(28, 38]   0.311274  \n",
       "(38, 48]   0.306014  \n",
       "(48, 58]   0.300522  \n",
       "(58, 68]   0.274869  \n",
       "(68, 78]   0.304579  \n",
       "(78, 88]   0.352947  "
      ]
     },
     "execution_count": 18,
     "metadata": {},
     "output_type": "execute_result"
    }
   ],
   "source": [
    "# Calculate the SEM(standard error mean) for females and for males within each age band\n",
    "pr[\"BMXBMI\", \"sem\", \"Female\"] = pr[\"BMXBMI\", \"std\", \"Female\"] / np.sqrt(pr[\"BMXBMI\", \"size\", \"Female\"]) \n",
    "pr[\"BMXBMI\", \"sem\", \"Male\"] = pr[\"BMXBMI\", \"std\", \"Male\"] / np.sqrt(pr[\"BMXBMI\", \"size\", \"Male\"]) \n",
    "pr"
   ]
  },
  {
   "cell_type": "code",
   "execution_count": 21,
   "metadata": {},
   "outputs": [
    {
     "data": {
      "text/html": [
       "<div>\n",
       "<style scoped>\n",
       "    .dataframe tbody tr th:only-of-type {\n",
       "        vertical-align: middle;\n",
       "    }\n",
       "\n",
       "    .dataframe tbody tr th {\n",
       "        vertical-align: top;\n",
       "    }\n",
       "\n",
       "    .dataframe thead tr th {\n",
       "        text-align: left;\n",
       "    }\n",
       "\n",
       "    .dataframe thead tr:last-of-type th {\n",
       "        text-align: right;\n",
       "    }\n",
       "</style>\n",
       "<table border=\"1\" class=\"dataframe\">\n",
       "  <thead>\n",
       "    <tr>\n",
       "      <th></th>\n",
       "      <th colspan=\"13\" halign=\"left\">BMXBMI</th>\n",
       "    </tr>\n",
       "    <tr>\n",
       "      <th></th>\n",
       "      <th colspan=\"2\" halign=\"left\">mean</th>\n",
       "      <th colspan=\"2\" halign=\"left\">std</th>\n",
       "      <th colspan=\"2\" halign=\"left\">size</th>\n",
       "      <th colspan=\"2\" halign=\"left\">sem</th>\n",
       "      <th>mean_diff</th>\n",
       "      <th>sem_diff</th>\n",
       "      <th>lcb_diff</th>\n",
       "      <th>ucb_diff</th>\n",
       "      <th>width_diff</th>\n",
       "    </tr>\n",
       "    <tr>\n",
       "      <th>RIAGENDRx</th>\n",
       "      <th>Female</th>\n",
       "      <th>Male</th>\n",
       "      <th>Female</th>\n",
       "      <th>Male</th>\n",
       "      <th>Female</th>\n",
       "      <th>Male</th>\n",
       "      <th>Female</th>\n",
       "      <th>Male</th>\n",
       "      <th></th>\n",
       "      <th></th>\n",
       "      <th></th>\n",
       "      <th></th>\n",
       "      <th></th>\n",
       "    </tr>\n",
       "    <tr>\n",
       "      <th>agegrp</th>\n",
       "      <th></th>\n",
       "      <th></th>\n",
       "      <th></th>\n",
       "      <th></th>\n",
       "      <th></th>\n",
       "      <th></th>\n",
       "      <th></th>\n",
       "      <th></th>\n",
       "      <th></th>\n",
       "      <th></th>\n",
       "      <th></th>\n",
       "      <th></th>\n",
       "      <th></th>\n",
       "    </tr>\n",
       "  </thead>\n",
       "  <tbody>\n",
       "    <tr>\n",
       "      <th>(18, 28]</th>\n",
       "      <td>28.019433</td>\n",
       "      <td>27.058186</td>\n",
       "      <td>8.048854</td>\n",
       "      <td>6.679515</td>\n",
       "      <td>498</td>\n",
       "      <td>458</td>\n",
       "      <td>0.360678</td>\n",
       "      <td>0.312113</td>\n",
       "      <td>0.961247</td>\n",
       "      <td>0.476973</td>\n",
       "      <td>0.026381</td>\n",
       "      <td>1.896114</td>\n",
       "      <td>1.869734</td>\n",
       "    </tr>\n",
       "    <tr>\n",
       "      <th>(28, 38]</th>\n",
       "      <td>29.943443</td>\n",
       "      <td>29.697180</td>\n",
       "      <td>7.959097</td>\n",
       "      <td>6.726690</td>\n",
       "      <td>494</td>\n",
       "      <td>467</td>\n",
       "      <td>0.358097</td>\n",
       "      <td>0.311274</td>\n",
       "      <td>0.246263</td>\n",
       "      <td>0.474473</td>\n",
       "      <td>-0.683705</td>\n",
       "      <td>1.176230</td>\n",
       "      <td>1.859935</td>\n",
       "    </tr>\n",
       "    <tr>\n",
       "      <th>(38, 48]</th>\n",
       "      <td>31.003733</td>\n",
       "      <td>29.514646</td>\n",
       "      <td>8.044642</td>\n",
       "      <td>6.104950</td>\n",
       "      <td>514</td>\n",
       "      <td>398</td>\n",
       "      <td>0.354834</td>\n",
       "      <td>0.306014</td>\n",
       "      <td>1.489086</td>\n",
       "      <td>0.468563</td>\n",
       "      <td>0.570703</td>\n",
       "      <td>2.407470</td>\n",
       "      <td>1.836767</td>\n",
       "    </tr>\n",
       "    <tr>\n",
       "      <th>(48, 58]</th>\n",
       "      <td>30.787361</td>\n",
       "      <td>29.385132</td>\n",
       "      <td>7.647590</td>\n",
       "      <td>6.151534</td>\n",
       "      <td>454</td>\n",
       "      <td>419</td>\n",
       "      <td>0.358919</td>\n",
       "      <td>0.300522</td>\n",
       "      <td>1.402230</td>\n",
       "      <td>0.468120</td>\n",
       "      <td>0.484714</td>\n",
       "      <td>2.319745</td>\n",
       "      <td>1.835031</td>\n",
       "    </tr>\n",
       "    <tr>\n",
       "      <th>(58, 68]</th>\n",
       "      <td>31.054664</td>\n",
       "      <td>29.232462</td>\n",
       "      <td>7.779502</td>\n",
       "      <td>5.959024</td>\n",
       "      <td>466</td>\n",
       "      <td>470</td>\n",
       "      <td>0.360378</td>\n",
       "      <td>0.274869</td>\n",
       "      <td>1.822202</td>\n",
       "      <td>0.453239</td>\n",
       "      <td>0.933853</td>\n",
       "      <td>2.710551</td>\n",
       "      <td>1.776698</td>\n",
       "    </tr>\n",
       "    <tr>\n",
       "      <th>(68, 78]</th>\n",
       "      <td>30.537818</td>\n",
       "      <td>28.720270</td>\n",
       "      <td>6.780588</td>\n",
       "      <td>5.336652</td>\n",
       "      <td>279</td>\n",
       "      <td>307</td>\n",
       "      <td>0.405943</td>\n",
       "      <td>0.304579</td>\n",
       "      <td>1.817548</td>\n",
       "      <td>0.507502</td>\n",
       "      <td>0.822844</td>\n",
       "      <td>2.812252</td>\n",
       "      <td>1.989407</td>\n",
       "    </tr>\n",
       "    <tr>\n",
       "      <th>(78, 88]</th>\n",
       "      <td>27.850000</td>\n",
       "      <td>27.464368</td>\n",
       "      <td>5.483781</td>\n",
       "      <td>4.695650</td>\n",
       "      <td>201</td>\n",
       "      <td>177</td>\n",
       "      <td>0.386796</td>\n",
       "      <td>0.352947</td>\n",
       "      <td>0.385632</td>\n",
       "      <td>0.523624</td>\n",
       "      <td>-0.640672</td>\n",
       "      <td>1.411936</td>\n",
       "      <td>2.052608</td>\n",
       "    </tr>\n",
       "  </tbody>\n",
       "</table>\n",
       "</div>"
      ],
      "text/plain": [
       "              BMXBMI                                                       \\\n",
       "                mean                  std             size            sem   \n",
       "RIAGENDRx     Female       Male    Female      Male Female Male    Female   \n",
       "agegrp                                                                      \n",
       "(18, 28]   28.019433  27.058186  8.048854  6.679515    498  458  0.360678   \n",
       "(28, 38]   29.943443  29.697180  7.959097  6.726690    494  467  0.358097   \n",
       "(38, 48]   31.003733  29.514646  8.044642  6.104950    514  398  0.354834   \n",
       "(48, 58]   30.787361  29.385132  7.647590  6.151534    454  419  0.358919   \n",
       "(58, 68]   31.054664  29.232462  7.779502  5.959024    466  470  0.360378   \n",
       "(68, 78]   30.537818  28.720270  6.780588  5.336652    279  307  0.405943   \n",
       "(78, 88]   27.850000  27.464368  5.483781  4.695650    201  177  0.386796   \n",
       "\n",
       "                                                                        \n",
       "                    mean_diff  sem_diff  lcb_diff  ucb_diff width_diff  \n",
       "RIAGENDRx      Male                                                     \n",
       "agegrp                                                                  \n",
       "(18, 28]   0.312113  0.961247  0.476973  0.026381  1.896114   1.869734  \n",
       "(28, 38]   0.311274  0.246263  0.474473 -0.683705  1.176230   1.859935  \n",
       "(38, 48]   0.306014  1.489086  0.468563  0.570703  2.407470   1.836767  \n",
       "(48, 58]   0.300522  1.402230  0.468120  0.484714  2.319745   1.835031  \n",
       "(58, 68]   0.274869  1.822202  0.453239  0.933853  2.710551   1.776698  \n",
       "(68, 78]   0.304579  1.817548  0.507502  0.822844  2.812252   1.989407  \n",
       "(78, 88]   0.352947  0.385632  0.523624 -0.640672  1.411936   2.052608  "
      ]
     },
     "execution_count": 21,
     "metadata": {},
     "output_type": "execute_result"
    }
   ],
   "source": [
    "# Calculate the mean difference of BMI between females and males within each age band, also  calculate\n",
    "# its SE and the lower and upper limits of its 95% CI.\n",
    "pr[\"BMXBMI\", \"mean_diff\", \"\"] = pr[\"BMXBMI\", \"mean\", \"Female\"] - pr[\"BMXBMI\", \"mean\", \"Male\"]\n",
    "pr[\"BMXBMI\", \"sem_diff\", \"\"] = np.sqrt(pr[\"BMXBMI\", \"sem\", \"Female\"]**2 + pr[\"BMXBMI\", \"sem\", \"Male\"]**2) \n",
    "\n",
    "pr[\"BMXBMI\", \"lcb_diff\", \"\"] = pr[\"BMXBMI\", \"mean_diff\", \"\"] - 1.96 * pr[\"BMXBMI\", \"sem_diff\", \"\"] \n",
    "pr[\"BMXBMI\", \"ucb_diff\", \"\"] = pr[\"BMXBMI\", \"mean_diff\", \"\"] + 1.96 * pr[\"BMXBMI\", \"sem_diff\", \"\"] \n",
    "pr[\"BMXBMI\", \"width_diff\", \"\"]= pr[\"BMXBMI\", \"ucb_diff\", \"\"] - pr[\"BMXBMI\", \"lcb_diff\", \"\"]\n",
    "pr"
   ]
  },
  {
   "cell_type": "markdown",
   "metadata": {},
   "source": [
    "__Q4a.__ How do the widths of these confidence intervals differ?  Provide an explanation for any substantial diferences in the confidence interval widths that you see."
   ]
  },
  {
   "attachments": {},
   "cell_type": "markdown",
   "metadata": {},
   "source": [
    "the differece is about the same until age 68 the differece narrow then expands from age 78 to age 88 with the differece at age (78,88)"
   ]
  },
  {
   "cell_type": "markdown",
   "metadata": {},
   "source": [
    "## Question 5\n",
    "\n",
    "Construct a 95% confidence interval for the first and second systolic blood pressure measures, and for the difference between the first and second systolic blood pressure measurements within a subject."
   ]
  },
  {
   "cell_type": "code",
   "execution_count": 59,
   "metadata": {},
   "outputs": [
    {
     "name": "stdout",
     "output_type": "stream",
     "text": [
      "(124.60634562793352, 125.5628822928219) 0.9565366648883753\n",
      "(124.30355371876219, 125.26248060824774) 0.9589268894855536\n",
      "-0.37562236459830634 0.9788159583437939 1.3544383229421002\n"
     ]
    }
   ],
   "source": [
    "# enter code here\n",
    "# make small datafram \n",
    "dx = da[['BPXSY1','BPXSY2']].copy()\n",
    "\n",
    "# calculate the number we need for first systolic blood pressure mean of the population\n",
    "\n",
    "Y1_mean = np.mean(dx.BPXSY1)\n",
    "Y1_std = np.std(dx.BPXSY1)\n",
    "Y1_size = np.size(dx.BPXSY1)\n",
    "\n",
    "# print(Y1_mean, Y1_std, Y1_size)\n",
    "\n",
    "# make our inference and calculate the Upper confidence interval and lower confidence interval\n",
    "# then calculate the standard error for systolic 1 \n",
    "y1_ucb = Y1_mean + 1.96 * (Y1_std / np.sqrt(Y1_size))\n",
    "y1_lcb = Y1_mean - 1.96 * (Y1_std / np.sqrt(Y1_size))\n",
    "ci_y1 = (y1_lcb , y1_ucb)\n",
    "sem1 = Y1_std / np.sqrt(Y1_size)\n",
    "\n",
    "# print the lower and upper differences and the width between them\n",
    "print(ci_y1, y1_ucb - y1_lcb)\n",
    "\n",
    "\n",
    "# calculate the number we need for sconde systolic blood pressure mean of the population\n",
    "\n",
    "Y2_mean = np.mean(dx.BPXSY2)\n",
    "Y2_std = np.std(dx.BPXSY2)\n",
    "Y2_size = np.size(dx.BPXSY2)\n",
    "\n",
    "# print(Y2_mean, Y2_std, Y2_size)\n",
    "\n",
    "# make our inference and calculate the Upper confidence interval and lower confidence interval\n",
    "# then calculate the standard error for systolic 2\n",
    "y2_ucb = Y2_mean + 1.96 * (Y2_std / np.sqrt(Y2_size))\n",
    "y2_lcb = Y2_mean - 1.96 * (Y2_std / np.sqrt(Y2_size))\n",
    "ci_y2 = (y2_lcb , y2_ucb)\n",
    "sem2 = Y2_std / np.sqrt(Y2_size)\n",
    "\n",
    "# print the lower and upper differences and the width between them\n",
    "print(ci_y2,y2_ucb - y2_lcb)\n",
    "\n",
    "# calculate the difference between two mean \n",
    "m = Y1_mean - Y2_mean\n",
    "dif_ucb = m + 1.96 * np.sqrt(sem1**2 + sem2**2)\n",
    "dif_lcb = m - 1.96 * np.sqrt(sem1**2 + sem2**2)\n",
    "\n",
    "# print the lower and upper differences and the width between them\n",
    "print(dif_lcb, dif_ucb, dif_ucb - dif_lcb)"
   ]
  },
  {
   "cell_type": "markdown",
   "metadata": {},
   "source": [
    "__Q5a.__ Based on these confidence intervals, would you say that a difference of zero between the population mean values of the first and second systolic blood pressure measures is consistent with the data?"
   ]
  },
  {
   "attachments": {},
   "cell_type": "markdown",
   "metadata": {},
   "source": [
    "the differece here we can ignore because the CI contains the Zero value \n",
    "which mean there are no differences between the two."
   ]
  },
  {
   "cell_type": "markdown",
   "metadata": {},
   "source": [
    "__Q5b.__ Discuss how the width of the confidence interval for the within-subject difference compares to the widths of the confidence intervals for the first and second measures."
   ]
  },
  {
   "attachments": {},
   "cell_type": "markdown",
   "metadata": {},
   "source": [
    "the width is the the same between the two systolic pressures .95\n",
    "while the width is much wider in the difference mean population 1.35 \n",
    "which makes sense the difference between two mean population will be larger than each of the two."
   ]
  },
  {
   "cell_type": "markdown",
   "metadata": {},
   "source": [
    "## Question 6\n",
    "\n",
    "Construct a 95% confidence interval for the mean difference between the average age of a smoker, and the average age of a non-smoker."
   ]
  },
  {
   "cell_type": "code",
   "execution_count": null,
   "metadata": {},
   "outputs": [],
   "source": [
    "# insert your code here"
   ]
  },
  {
   "cell_type": "markdown",
   "metadata": {},
   "source": [
    "__Q6a.__ Use graphical and numerical techniques to compare the variation in the ages of smokers to the variation in the ages of non-smokers.  "
   ]
  },
  {
   "cell_type": "code",
   "execution_count": 1,
   "metadata": {},
   "outputs": [],
   "source": [
    "# insert your code here"
   ]
  },
  {
   "cell_type": "markdown",
   "metadata": {},
   "source": [
    "__Q6b.__ Does it appear that uncertainty about the mean age of smokers, or uncertainty about the mean age of non-smokers contributed more to the uncertainty for the mean difference that we are focusing on here?"
   ]
  },
  {
   "cell_type": "markdown",
   "metadata": {},
   "source": []
  }
 ],
 "metadata": {
  "kernelspec": {
   "display_name": "Python 3",
   "language": "python",
   "name": "python3"
  },
  "language_info": {
   "codemirror_mode": {
    "name": "ipython",
    "version": 3
   },
   "file_extension": ".py",
   "mimetype": "text/x-python",
   "name": "python",
   "nbconvert_exporter": "python",
   "pygments_lexer": "ipython3",
   "version": "3.11.0"
  }
 },
 "nbformat": 4,
 "nbformat_minor": 2
}
