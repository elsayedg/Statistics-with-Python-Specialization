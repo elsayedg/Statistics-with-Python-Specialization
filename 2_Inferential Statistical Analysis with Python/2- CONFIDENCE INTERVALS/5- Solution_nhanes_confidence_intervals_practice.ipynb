{
 "cells": [
  {
   "cell_type": "markdown",
   "metadata": {},
   "source": [
    "# Practice notebook for confidence intervals using NHANES data\n",
    "\n",
    "This notebook will give you the opportunity to practice working with confidence intervals using the NHANES data.\n",
    "\n",
    "You can enter your code into the cells that say \"enter your code here\", and you can type responses to the questions into the cells that say \"Type Markdown and Latex\".\n",
    "\n",
    "Note that most of the code that you will need to write below is very similar to code that appears in the case study notebook.  You will need to edit code from that notebook in small ways to adapt it to the prompts below.\n",
    "\n",
    "To get started, we will use the same module imports and read the data in the same way as we did in the case study:"
   ]
  },
  {
   "cell_type": "code",
   "execution_count": 1,
   "metadata": {},
   "outputs": [],
   "source": [
    "%matplotlib inline\n",
    "import matplotlib.pyplot as plt\n",
    "import pandas as pd\n",
    "import numpy as np\n",
    "import seaborn as sns\n",
    "import statsmodels.api as sm\n",
    "\n",
    "da = pd.read_csv(\"nhanes_2015_2016.csv\")"
   ]
  },
  {
   "cell_type": "markdown",
   "metadata": {},
   "source": [
    "## Question 1\n",
    "\n",
    "Restrict the sample to women between 35 and 50, then use the marital status variable [DMDMARTL](https://wwwn.cdc.gov/Nchs/Nhanes/2015-2016/DEMO_I.htm#DMDMARTL) to partition this sample into two groups - women who are currently married, and women who are not currently married.  Within each of these groups, calculate the proportion of women who have completed college.  Calculate 95% confidence intervals for each of these proportions."
   ]
  },
  {
   "cell_type": "code",
   "execution_count": 22,
   "metadata": {},
   "outputs": [],
   "source": [
    "\"\"\" \n",
    "RIAGENDR == 2 # code for women\n",
    "(da.RIDAGEYR >= 35) & (da.RIDAGEYR <= 50)   #restrict age range between 35 and 50\n",
    "(da.DMDMARTL == 1)   # group data by Married\n",
    "(da.DMDMARTL != 1)   # group data by not  Married\n",
    "DMDEDUC2  code for education level of completed college = 5 \n",
    "\"\"\"\n",
    "# making datafram for women with age (35,50)\n",
    "dw = da[(da.RIAGENDR == 2) & (da.RIDAGEYR >= 35) & (da.RIDAGEYR <= 50)].copy()\n",
    "dw['DMDMARTLx'] = dw.DMDMARTL.replace({1 : \"Married\", \n",
    "                                       2 : \"Not_Married\", \n",
    "                                       3 : \"Not_Married\", \n",
    "                                       4 : \"Not_Married\", \n",
    "                                       5 : \"Not_Married\", \n",
    "                                       6 : \"Not_Married\", \n",
    "                                       77: \"Not_Married\"\n",
    "                                       })\n",
    "\n",
    "dw['DMDEDUC2x'] = dw.DMDEDUC2.replace({1 : \"Other\", \n",
    "                                       2 : \"Other\", \n",
    "                                       3 : \"Other\", \n",
    "                                       4 : \"Other\", \n",
    "                                       5 : \"College_graduate\", \n",
    "                                       7 : \"Other\", \n",
    "                                       9 : \"Other\"\n",
    "                                       })\n"
   ]
  },
  {
   "cell_type": "code",
   "execution_count": 23,
   "metadata": {},
   "outputs": [
    {
     "data": {
      "text/html": [
       "<div>\n",
       "<style scoped>\n",
       "    .dataframe tbody tr th:only-of-type {\n",
       "        vertical-align: middle;\n",
       "    }\n",
       "\n",
       "    .dataframe tbody tr th {\n",
       "        vertical-align: top;\n",
       "    }\n",
       "\n",
       "    .dataframe thead th {\n",
       "        text-align: right;\n",
       "    }\n",
       "</style>\n",
       "<table border=\"1\" class=\"dataframe\">\n",
       "  <thead>\n",
       "    <tr style=\"text-align: right;\">\n",
       "      <th>DMDEDUC2x</th>\n",
       "      <th>College_graduate</th>\n",
       "      <th>Other</th>\n",
       "    </tr>\n",
       "    <tr>\n",
       "      <th>DMDMARTLx</th>\n",
       "      <th></th>\n",
       "      <th></th>\n",
       "    </tr>\n",
       "  </thead>\n",
       "  <tbody>\n",
       "    <tr>\n",
       "      <th>Married</th>\n",
       "      <td>162</td>\n",
       "      <td>287</td>\n",
       "    </tr>\n",
       "    <tr>\n",
       "      <th>Not_Married</th>\n",
       "      <td>72</td>\n",
       "      <td>266</td>\n",
       "    </tr>\n",
       "  </tbody>\n",
       "</table>\n",
       "</div>"
      ],
      "text/plain": [
       "DMDEDUC2x    College_graduate  Other\n",
       "DMDMARTLx                           \n",
       "Married                   162    287\n",
       "Not_Married                72    266"
      ]
     },
     "execution_count": 23,
     "metadata": {},
     "output_type": "execute_result"
    }
   ],
   "source": [
    "dw.groupby(['DMDMARTLx','DMDEDUC2x'])['DMDEDUC2x'].count().unstack()"
   ]
  },
  {
   "cell_type": "code",
   "execution_count": 24,
   "metadata": {},
   "outputs": [],
   "source": [
    "\n",
    "dw['DMDEDUC2x'] = dw.DMDEDUC2x.replace({\"Other\":0, \"College_graduate\":1})"
   ]
  },
  {
   "cell_type": "code",
   "execution_count": 25,
   "metadata": {},
   "outputs": [
    {
     "data": {
      "text/html": [
       "<div>\n",
       "<style scoped>\n",
       "    .dataframe tbody tr th:only-of-type {\n",
       "        vertical-align: middle;\n",
       "    }\n",
       "\n",
       "    .dataframe tbody tr th {\n",
       "        vertical-align: top;\n",
       "    }\n",
       "\n",
       "    .dataframe thead th {\n",
       "        text-align: right;\n",
       "    }\n",
       "</style>\n",
       "<table border=\"1\" class=\"dataframe\">\n",
       "  <thead>\n",
       "    <tr style=\"text-align: right;\">\n",
       "      <th></th>\n",
       "      <th>Proportion</th>\n",
       "      <th>Total_n</th>\n",
       "    </tr>\n",
       "    <tr>\n",
       "      <th>DMDMARTLx</th>\n",
       "      <th></th>\n",
       "      <th></th>\n",
       "    </tr>\n",
       "  </thead>\n",
       "  <tbody>\n",
       "    <tr>\n",
       "      <th>Married</th>\n",
       "      <td>0.360802</td>\n",
       "      <td>449</td>\n",
       "    </tr>\n",
       "    <tr>\n",
       "      <th>Not_Married</th>\n",
       "      <td>0.213018</td>\n",
       "      <td>338</td>\n",
       "    </tr>\n",
       "  </tbody>\n",
       "</table>\n",
       "</div>"
      ],
      "text/plain": [
       "             Proportion  Total_n\n",
       "DMDMARTLx                       \n",
       "Married        0.360802      449\n",
       "Not_Married    0.213018      338"
      ]
     },
     "execution_count": 25,
     "metadata": {},
     "output_type": "execute_result"
    }
   ],
   "source": [
    "\n",
    "# calculate p hat (proportion of colladge graduted in poth married and not married)\n",
    "\n",
    "dz = dw.groupby(dw.DMDMARTLx).agg({\"DMDEDUC2x\": [lambda x : np.mean( x == 1 ), np.size]})\n",
    "dz.columns = [\"Proportion\", \"Total_n\"] # The default column names are unclear, so we replace them here\n",
    "dz"
   ]
  },
  {
   "cell_type": "code",
   "execution_count": 26,
   "metadata": {},
   "outputs": [
    {
     "name": "stdout",
     "output_type": "stream",
     "text": [
      "0.02266360248455356\n",
      "0.022270605048202215\n"
     ]
    }
   ],
   "source": [
    "p = dz.Proportion.Married # Married proportion\n",
    "n = dz.Total_n.Married # Total number of Married\n",
    "se_married = np.sqrt(p * (1 - p) / n)\n",
    "print(se_married)\n",
    "\n",
    "p = dz.Proportion.Not_Married # Not Married proportion\n",
    "n = dz.Total_n.Not_Married # Total number of Not Married\n",
    "se_not_married = np.sqrt(p * (1 - p) / n)\n",
    "print(se_not_married)"
   ]
  },
  {
   "cell_type": "code",
   "execution_count": 29,
   "metadata": {},
   "outputs": [
    {
     "name": "stdout",
     "output_type": "stream",
     "text": [
      "0.3163811208674688 0.4052224426069187\n"
     ]
    }
   ],
   "source": [
    "# CI for all population colleage grad in married women\n",
    "p = dz.Proportion.Married # Married proportion\n",
    "lcb = p - 1.96 * se_married  \n",
    "ucb = p + 1.96 * se_married \n",
    "print(lcb, ucb)"
   ]
  },
  {
   "cell_type": "code",
   "execution_count": 30,
   "metadata": {},
   "outputs": [
    {
     "name": "stdout",
     "output_type": "stream",
     "text": [
      "0.1693673655848136 0.25666813737376626\n"
     ]
    }
   ],
   "source": [
    "# CI for all population Not marreid women with colleage \n",
    "\n",
    "p = dz.Proportion.Not_Married # Not Married proportion\n",
    "lcb = p - 1.96 * se_not_married\n",
    "ucb = p + 1.96 * se_not_married\n",
    "print(lcb, ucb)"
   ]
  },
  {
   "attachments": {},
   "cell_type": "markdown",
   "metadata": {},
   "source": [
    "***"
   ]
  },
  {
   "attachments": {},
   "cell_type": "markdown",
   "metadata": {},
   "source": [
    "### Brain Solutions"
   ]
  },
  {
   "cell_type": "code",
   "execution_count": 31,
   "metadata": {},
   "outputs": [
    {
     "name": "stdout",
     "output_type": "stream",
     "text": [
      "mrtst             Currently_not_married  Married\n",
      "college                                         \n",
      "College_grad                        303      414\n",
      "Not_college_grad                   1243      889\n",
      "(0.1762021594891887, 0.21577714193383848) (0.29244800208510313, 0.34300863644137425)\n",
      "-0.0395749824446498\n",
      "-0.05056063435627112\n"
     ]
    },
    {
     "name": "stderr",
     "output_type": "stream",
     "text": [
      "C:\\Users\\engsa\\AppData\\Local\\Temp\\ipykernel_12168\\416681800.py:17: SettingWithCopyWarning: \n",
      "A value is trying to be set on a copy of a slice from a DataFrame.\n",
      "Try using .loc[row_indexer,col_indexer] = value instead\n",
      "\n",
      "See the caveats in the documentation: https://pandas.pydata.org/pandas-docs/stable/user_guide/indexing.html#returning-a-view-versus-a-copy\n",
      "  dc['mrtst'] = np.where(dc.DMDMARTLx ==\"Married\", \"Married\", \"Currently_not_married\")\n",
      "C:\\Users\\engsa\\AppData\\Local\\Temp\\ipykernel_12168\\416681800.py:20: SettingWithCopyWarning: \n",
      "A value is trying to be set on a copy of a slice from a DataFrame.\n",
      "Try using .loc[row_indexer,col_indexer] = value instead\n",
      "\n",
      "See the caveats in the documentation: https://pandas.pydata.org/pandas-docs/stable/user_guide/indexing.html#returning-a-view-versus-a-copy\n",
      "  dc['college'] = np.where(dc.DMDEDUC2x ==\"College\", \"College_grad\", \"Not_college_grad\")\n"
     ]
    }
   ],
   "source": [
    "# usual replacements to follow the problem\n",
    "da = pd.read_csv(\"nhanes_2015_2016.csv\")\n",
    "da['RIAGENDRx'] = da.RIAGENDR.replace({2: \"Female\", 1:\"Male\"})\n",
    "da['DMDMARTLx'] = da.DMDMARTL.replace({1: \"Married\", 2: \"Widowed\", 3:\"Divorced\", 4: \"Separated\",\\\n",
    "                                       5: \"Never Married\", 6: \"Living with partner\", 77: \"Refused\",\\\n",
    "                                       99: \"Don't Know\", np.nan: 'Missing'})\n",
    "da['DMDEDUC2x'] = da.DMDEDUC2.replace({1: '<9', 2:'9-11', 3:'High school', 4:'Some college',\\\n",
    "                                      5:'College', 7:'Refused', 9:'Don\\'t know', np.nan: 'Missing'})\n",
    "\n",
    "# retain only variables of interest\n",
    "db = da[['RIAGENDRx','RIDAGEYR','DMDEDUC2x','DMDMARTLx']]\n",
    "\n",
    "# dropped Refused and Missing data so i can aggregate marital status\n",
    "dc = db.query(\"DMDMARTLx !=['Refused','Missing']\") \n",
    "\n",
    "# new variable containing 2 values per marital status\n",
    "dc['mrtst'] = np.where(dc.DMDMARTLx ==\"Married\", \"Married\", \"Currently_not_married\")\n",
    "\n",
    "# CHANGE new variable containing 2 values per College status\n",
    "dc['college'] = np.where(dc.DMDEDUC2x ==\"College\", \"College_grad\", \"Not_college_grad\") \n",
    "\n",
    "# CHANGE filter rows for women between 35 to 50 yo\n",
    "female_35_50 = dc.query(('35 <= RIDAGEYR <= 50') and (\"RIAGENDRx == 'Female'\"))\n",
    "\n",
    "dx_ctb = pd.crosstab(female_35_50.college, female_35_50.mrtst)\n",
    "\n",
    "a = sm.stats.proportion_confint(dx_ctb.Currently_not_married.College_grad, dx_ctb.Currently_not_married.sum())\n",
    "b = sm.stats.proportion_confint(dx_ctb.Married.College_grad, dx_ctb.Married.sum())\n",
    "\n",
    "print(dx_ctb)\n",
    "\n",
    "# mrtst             Currently_not_married  Married\n",
    "# college                                         \n",
    "# College_grad                        303      414\n",
    "# Not_college_grad                   1243      889\n",
    "\n",
    "print(a,b)\n",
    "\n",
    "# (0.1762021594891887, 0.21577714193383848) (0.29244800208510313, 0.34300863644137425)\n",
    "\n",
    "print(a[0] - a[1])\n",
    "print(b[0] - b[1])\n",
    "\n",
    "# -0.0395749824446498\n",
    "# -0.05056063435627112"
   ]
  },
  {
   "cell_type": "markdown",
   "metadata": {},
   "source": [
    "__Q1a.__ Identify which of the two confidence intervals is wider, and explain why this is the case. "
   ]
  },
  {
   "attachments": {},
   "cell_type": "markdown",
   "metadata": {},
   "source": [
    "they a bout the same because the level of confidence is the same with smiller sample sizes also"
   ]
  },
  {
   "cell_type": "markdown",
   "metadata": {},
   "source": [
    "__Q1b.__ Write 1-2 sentences summarizing these findings for an audience that does not know what a confidence interval is (the goal here is to report the substance of what you learned about how marital status and educational attainment are related, not to teach a person what a confidence interval is)."
   ]
  },
  {
   "attachments": {},
   "cell_type": "markdown",
   "metadata": {},
   "source": [
    "with % 95  confidence we astimate that  ( % 31.63 : % 40.52 ) of all married women at age (35,50) have college degrees, and (% 16.93 : % 25.66) of all  Not married women at the same age have college degrees\n",
    "form this we could say that having college degrees are associated with Marrage rate."
   ]
  },
  {
   "cell_type": "markdown",
   "metadata": {},
   "source": [
    "## Question 2\n",
    "\n",
    "Construct a 95% confidence interval for the proportion of smokers who are female. Construct a 95% confidence interval for the proportion of smokers who are male. Construct a 95% confidence interval for the **difference** between those two gender proportions."
   ]
  },
  {
   "cell_type": "code",
   "execution_count": null,
   "metadata": {},
   "outputs": [],
   "source": [
    "# enter your code here"
   ]
  },
  {
   "cell_type": "markdown",
   "metadata": {},
   "source": [
    "__Q2a.__ Why might it be relevant to report the separate gender proportions **and** the difference between the gender proportions?"
   ]
  },
  {
   "cell_type": "markdown",
   "metadata": {},
   "source": []
  },
  {
   "cell_type": "markdown",
   "metadata": {},
   "source": [
    "__Q2b.__ How does the **width** of the confidence interval for the difference between the gender proportions compare to the widths of the confidence intervals for the separate gender proportions?"
   ]
  },
  {
   "cell_type": "markdown",
   "metadata": {},
   "source": []
  },
  {
   "cell_type": "markdown",
   "metadata": {},
   "source": [
    "## Question 3\n",
    "\n",
    "Construct a 95% interval for height ([BMXHT](https://wwwn.cdc.gov/Nchs/Nhanes/2015-2016/BMX_I.htm#BMXHT)) in centimeters.  Then convert height from centimeters to inches by dividing by 2.54, and construct a 95% confidence interval for height in inches.  Finally, convert the endpoints (the lower and upper confidence limits) of the confidence interval from inches to back to centimeters   "
   ]
  },
  {
   "cell_type": "code",
   "execution_count": null,
   "metadata": {},
   "outputs": [],
   "source": [
    "# enter your code here"
   ]
  },
  {
   "cell_type": "markdown",
   "metadata": {},
   "source": [
    "__Q3a.__ Describe how the confidence interval constructed in centimeters relates to the confidence interval constructed in inches."
   ]
  },
  {
   "cell_type": "markdown",
   "metadata": {},
   "source": []
  },
  {
   "cell_type": "markdown",
   "metadata": {},
   "source": [
    "## Question 4\n",
    "\n",
    "Partition the sample based on 10-year age bands, i.e. the resulting groups will consist of people with ages from 18-28, 29-38, etc. Construct 95% confidence intervals for the difference between the mean BMI for females and for males within each age band."
   ]
  },
  {
   "cell_type": "code",
   "execution_count": null,
   "metadata": {},
   "outputs": [],
   "source": [
    "# enter your code here"
   ]
  },
  {
   "cell_type": "markdown",
   "metadata": {},
   "source": [
    "__Q4a.__ How do the widths of these confidence intervals differ?  Provide an explanation for any substantial diferences in the confidence interval widths that you see."
   ]
  },
  {
   "cell_type": "markdown",
   "metadata": {},
   "source": [
    "## Question 5\n",
    "\n",
    "Construct a 95% confidence interval for the first and second systolic blood pressure measures, and for the difference between the first and second systolic blood pressure measurements within a subject."
   ]
  },
  {
   "cell_type": "code",
   "execution_count": null,
   "metadata": {},
   "outputs": [],
   "source": [
    "# enter code here"
   ]
  },
  {
   "cell_type": "markdown",
   "metadata": {},
   "source": [
    "__Q5a.__ Based on these confidence intervals, would you say that a difference of zero between the population mean values of the first and second systolic blood pressure measures is consistent with the data?"
   ]
  },
  {
   "cell_type": "markdown",
   "metadata": {},
   "source": []
  },
  {
   "cell_type": "markdown",
   "metadata": {},
   "source": [
    "__Q5b.__ Discuss how the width of the confidence interval for the within-subject difference compares to the widths of the confidence intervals for the first and second measures."
   ]
  },
  {
   "cell_type": "markdown",
   "metadata": {},
   "source": []
  },
  {
   "cell_type": "markdown",
   "metadata": {},
   "source": [
    "## Question 6\n",
    "\n",
    "Construct a 95% confidence interval for the mean difference between the average age of a smoker, and the average age of a non-smoker."
   ]
  },
  {
   "cell_type": "code",
   "execution_count": null,
   "metadata": {},
   "outputs": [],
   "source": [
    "# insert your code here"
   ]
  },
  {
   "cell_type": "markdown",
   "metadata": {},
   "source": [
    "__Q6a.__ Use graphical and numerical techniques to compare the variation in the ages of smokers to the variation in the ages of non-smokers.  "
   ]
  },
  {
   "cell_type": "code",
   "execution_count": 1,
   "metadata": {},
   "outputs": [],
   "source": [
    "# insert your code here"
   ]
  },
  {
   "cell_type": "markdown",
   "metadata": {},
   "source": [
    "__Q6b.__ Does it appear that uncertainty about the mean age of smokers, or uncertainty about the mean age of non-smokers contributed more to the uncertainty for the mean difference that we are focusing on here?"
   ]
  },
  {
   "cell_type": "markdown",
   "metadata": {},
   "source": []
  }
 ],
 "metadata": {
  "kernelspec": {
   "display_name": "Python 3",
   "language": "python",
   "name": "python3"
  },
  "language_info": {
   "codemirror_mode": {
    "name": "ipython",
    "version": 3
   },
   "file_extension": ".py",
   "mimetype": "text/x-python",
   "name": "python",
   "nbconvert_exporter": "python",
   "pygments_lexer": "ipython3",
   "version": "3.11.0"
  }
 },
 "nbformat": 4,
 "nbformat_minor": 2
}
