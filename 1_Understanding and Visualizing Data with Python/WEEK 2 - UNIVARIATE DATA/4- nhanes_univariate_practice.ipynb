{
 "cells": [
  {
   "cell_type": "markdown",
   "metadata": {},
   "source": [
    "# Practice notebook for univariate analysis using NHANES data\n",
    "\n",
    "This notebook will give you the opportunity to perform some univariate analyses on your own using the NHANES.  These analyses are similar to what was done in the week 2 NHANES case study notebook.\n",
    "\n",
    "You can enter your code into the cells that say \"enter your code here\", and you can type responses to the questions into the cells that say \"Type Markdown and Latex\".\n",
    "\n",
    "Note that most of the code that you will need to write below is very similar to code that appears in the case study notebook.  You will need to edit code from that notebook in small ways to adapt it to the prompts below.\n",
    "\n",
    "To get started, we will use the same module imports and read the data in the same way as we did in the case study:"
   ]
  },
  {
   "cell_type": "code",
   "execution_count": 2,
   "metadata": {},
   "outputs": [],
   "source": [
    "%matplotlib inline\n",
    "import matplotlib.pyplot as plt\n",
    "import seaborn as sns\n",
    "import pandas as pd\n",
    "import statsmodels.api as sm\n",
    "import numpy as np\n",
    "\n",
    "da = pd.read_csv(\"nhanes_2015_2016.csv\")"
   ]
  },
  {
   "attachments": {},
   "cell_type": "markdown",
   "metadata": {},
   "source": [
    "## Question 1\n",
    "\n",
    "Relabel the marital status variable [DMDMARTL](https://wwwn.cdc.gov/Nchs/Nhanes/2015-2016/DEMO_I.htm#DMDMARTL) to have brief but informative character labels.  \n",
    "* Then construct a frequency table of these values for all people, \n",
    "* then for women only, and for men only.  \n",
    "* Then construct these three frequency tables using only people whose age is between 30 and 40."
   ]
  },
  {
   "cell_type": "code",
   "execution_count": 3,
   "metadata": {},
   "outputs": [
    {
     "data": {
      "text/html": [
       "<div>\n",
       "<style scoped>\n",
       "    .dataframe tbody tr th:only-of-type {\n",
       "        vertical-align: middle;\n",
       "    }\n",
       "\n",
       "    .dataframe tbody tr th {\n",
       "        vertical-align: top;\n",
       "    }\n",
       "\n",
       "    .dataframe thead th {\n",
       "        text-align: right;\n",
       "    }\n",
       "</style>\n",
       "<table border=\"1\" class=\"dataframe\">\n",
       "  <thead>\n",
       "    <tr style=\"text-align: right;\">\n",
       "      <th></th>\n",
       "      <th>SEQN</th>\n",
       "      <th>ALQ101</th>\n",
       "      <th>ALQ110</th>\n",
       "      <th>ALQ130</th>\n",
       "      <th>SMQ020</th>\n",
       "      <th>RIAGENDR</th>\n",
       "      <th>RIDAGEYR</th>\n",
       "      <th>RIDRETH1</th>\n",
       "      <th>DMDCITZN</th>\n",
       "      <th>DMDEDUC2</th>\n",
       "      <th>...</th>\n",
       "      <th>BPXSY2</th>\n",
       "      <th>BPXDI2</th>\n",
       "      <th>BMXWT</th>\n",
       "      <th>BMXHT</th>\n",
       "      <th>BMXBMI</th>\n",
       "      <th>BMXLEG</th>\n",
       "      <th>BMXARML</th>\n",
       "      <th>BMXARMC</th>\n",
       "      <th>BMXWAIST</th>\n",
       "      <th>HIQ210</th>\n",
       "    </tr>\n",
       "  </thead>\n",
       "  <tbody>\n",
       "    <tr>\n",
       "      <th>0</th>\n",
       "      <td>83732</td>\n",
       "      <td>1.0</td>\n",
       "      <td>NaN</td>\n",
       "      <td>1.0</td>\n",
       "      <td>1</td>\n",
       "      <td>1</td>\n",
       "      <td>62</td>\n",
       "      <td>3</td>\n",
       "      <td>1.0</td>\n",
       "      <td>5.0</td>\n",
       "      <td>...</td>\n",
       "      <td>124.0</td>\n",
       "      <td>64.0</td>\n",
       "      <td>94.8</td>\n",
       "      <td>184.5</td>\n",
       "      <td>27.8</td>\n",
       "      <td>43.3</td>\n",
       "      <td>43.6</td>\n",
       "      <td>35.9</td>\n",
       "      <td>101.1</td>\n",
       "      <td>2.0</td>\n",
       "    </tr>\n",
       "    <tr>\n",
       "      <th>1</th>\n",
       "      <td>83733</td>\n",
       "      <td>1.0</td>\n",
       "      <td>NaN</td>\n",
       "      <td>6.0</td>\n",
       "      <td>1</td>\n",
       "      <td>1</td>\n",
       "      <td>53</td>\n",
       "      <td>3</td>\n",
       "      <td>2.0</td>\n",
       "      <td>3.0</td>\n",
       "      <td>...</td>\n",
       "      <td>140.0</td>\n",
       "      <td>88.0</td>\n",
       "      <td>90.4</td>\n",
       "      <td>171.4</td>\n",
       "      <td>30.8</td>\n",
       "      <td>38.0</td>\n",
       "      <td>40.0</td>\n",
       "      <td>33.2</td>\n",
       "      <td>107.9</td>\n",
       "      <td>NaN</td>\n",
       "    </tr>\n",
       "  </tbody>\n",
       "</table>\n",
       "<p>2 rows × 28 columns</p>\n",
       "</div>"
      ],
      "text/plain": [
       "    SEQN  ALQ101  ALQ110  ALQ130  SMQ020  RIAGENDR  RIDAGEYR  RIDRETH1  \\\n",
       "0  83732     1.0     NaN     1.0       1         1        62         3   \n",
       "1  83733     1.0     NaN     6.0       1         1        53         3   \n",
       "\n",
       "   DMDCITZN  DMDEDUC2  ...  BPXSY2  BPXDI2  BMXWT  BMXHT  BMXBMI  BMXLEG  \\\n",
       "0       1.0       5.0  ...   124.0    64.0   94.8  184.5    27.8    43.3   \n",
       "1       2.0       3.0  ...   140.0    88.0   90.4  171.4    30.8    38.0   \n",
       "\n",
       "   BMXARML  BMXARMC  BMXWAIST  HIQ210  \n",
       "0     43.6     35.9     101.1     2.0  \n",
       "1     40.0     33.2     107.9     NaN  \n",
       "\n",
       "[2 rows x 28 columns]"
      ]
     },
     "execution_count": 3,
     "metadata": {},
     "output_type": "execute_result"
    }
   ],
   "source": [
    "da.head(2)"
   ]
  },
  {
   "cell_type": "code",
   "execution_count": 4,
   "metadata": {},
   "outputs": [
    {
     "data": {
      "text/plain": [
       "0         Married\n",
       "1        Divorced\n",
       "2         Married\n",
       "3        Divorced\n",
       "4        Divorced\n",
       "          ...    \n",
       "5730    Unmarried\n",
       "5731      Married\n",
       "5732    Unmarried\n",
       "5733      Married\n",
       "5734    Separated\n",
       "Name: DMDMARTLX, Length: 5735, dtype: object"
      ]
     },
     "execution_count": 4,
     "metadata": {},
     "output_type": "execute_result"
    }
   ],
   "source": [
    "# insert your code here\n",
    "da['DMDMARTLX'] =da.DMDMARTL.replace({\n",
    "    1:'Married',\n",
    "    2:'Unmarried',\n",
    "    3:'Divorced',\n",
    "    4:'Widowed',\n",
    "    5:'Separated',\n",
    "    6:'Divorced',\n",
    "    77:'Refused',\n",
    "    99:\"Don't Know\"\n",
    "})\n",
    "da['DMDMARTLX']"
   ]
  },
  {
   "cell_type": "code",
   "execution_count": 5,
   "metadata": {},
   "outputs": [
    {
     "data": {
      "text/plain": [
       "Married      2780\n",
       "Divorced     1106\n",
       "Separated    1004\n",
       "Unmarried     396\n",
       "Widowed       186\n",
       "Refused         2\n",
       "Name: DMDMARTLX, dtype: int64"
      ]
     },
     "execution_count": 5,
     "metadata": {},
     "output_type": "execute_result"
    }
   ],
   "source": [
    "#for all people \n",
    "da['DMDMARTLX'].value_counts()"
   ]
  },
  {
   "cell_type": "code",
   "execution_count": 6,
   "metadata": {},
   "outputs": [],
   "source": [
    "# Rename Genders \n",
    "da[\"RIAGENDRx\"] =da[\"RIAGENDR\"].replace({\n",
    "    1:\"Male\",\n",
    "    2:\"Female\"\n",
    "})"
   ]
  },
  {
   "cell_type": "code",
   "execution_count": 7,
   "metadata": {},
   "outputs": [],
   "source": [
    "# compare all the groups of age between 30-40 years old \n",
    "# make bins of age and then quering them \n",
    "da[\"agegrp\"]  = pd.cut(da.RIDAGEYR,[18,30,40,50,60,70,80])"
   ]
  },
  {
   "cell_type": "code",
   "execution_count": 8,
   "metadata": {},
   "outputs": [
    {
     "data": {
      "text/plain": [
       "Married      0.562881\n",
       "Divorced     0.188262\n",
       "Separated    0.184451\n",
       "Unmarried    0.038110\n",
       "Widowed      0.025915\n",
       "Refused      0.000381\n",
       "Name: DMDMARTLX, dtype: float64"
      ]
     },
     "execution_count": 8,
     "metadata": {},
     "output_type": "execute_result"
    }
   ],
   "source": [
    "#for men only \n",
    "df_male = da.query('RIAGENDRx == \"Male\"').copy()\n",
    "x = df_male.DMDMARTLX.value_counts()\n",
    "x/x.sum()"
   ]
  },
  {
   "cell_type": "code",
   "execution_count": 9,
   "metadata": {},
   "outputs": [
    {
     "data": {
      "text/plain": [
       "Married      0.457193\n",
       "Divorced     0.214737\n",
       "Separated    0.182456\n",
       "Unmarried    0.103860\n",
       "Widowed      0.041404\n",
       "Refused      0.000351\n",
       "Name: DMDMARTLX, dtype: float64"
      ]
     },
     "execution_count": 9,
     "metadata": {},
     "output_type": "execute_result"
    }
   ],
   "source": [
    "#for women only\n",
    "df_female =da.query('RIAGENDRx == \"Female\"').copy()\n",
    "x = df_female.DMDMARTLX.value_counts()\n",
    "x/x.sum()"
   ]
  },
  {
   "cell_type": "code",
   "execution_count": 10,
   "metadata": {},
   "outputs": [
    {
     "data": {
      "text/plain": [
       "Married      560\n",
       "Separated    217\n",
       "Divorced     213\n",
       "Widowed       30\n",
       "Unmarried      5\n",
       "Refused        1\n",
       "Name: DMDMARTLX, dtype: int64"
      ]
     },
     "execution_count": 10,
     "metadata": {},
     "output_type": "execute_result"
    }
   ],
   "source": [
    "# genral population in our age group\n",
    "df_30 = da[(da.RIDAGEYR >= 30) & (da.RIDAGEYR <= 40)].copy()\n",
    "df_30.DMDMARTLX.value_counts()"
   ]
  },
  {
   "cell_type": "code",
   "execution_count": 11,
   "metadata": {},
   "outputs": [
    {
     "data": {
      "text/plain": [
       "Married      0.535714\n",
       "Separated    0.218045\n",
       "Divorced     0.208647\n",
       "Widowed      0.033835\n",
       "Unmarried    0.003759\n",
       "Name: DMDMARTLX, dtype: float64"
      ]
     },
     "execution_count": 11,
     "metadata": {},
     "output_type": "execute_result"
    }
   ],
   "source": [
    "# for female population\n",
    "y = df_30.query('RIAGENDRx == \"Female\"').DMDMARTLX.value_counts()\n",
    "\n",
    "y/y.sum() "
   ]
  },
  {
   "cell_type": "code",
   "execution_count": 12,
   "metadata": {},
   "outputs": [
    {
     "data": {
      "text/plain": [
       "Married      0.556680\n",
       "Divorced     0.206478\n",
       "Separated    0.204453\n",
       "Widowed      0.024291\n",
       "Unmarried    0.006073\n",
       "Refused      0.002024\n",
       "Name: DMDMARTLX, dtype: float64"
      ]
     },
     "execution_count": 12,
     "metadata": {},
     "output_type": "execute_result"
    }
   ],
   "source": [
    "# for male population\n",
    "m = df_30.query('RIAGENDRx == \"Male\"').DMDMARTLX.value_counts()\n",
    "m/m.sum()"
   ]
  },
  {
   "cell_type": "markdown",
   "metadata": {},
   "source": [
    "__Q1a.__ Briefly comment on some of the differences that you observe between the distribution of marital status between women and men, for people of all ages."
   ]
  },
  {
   "cell_type": "raw",
   "metadata": {},
   "source": [
    "the men appear slightly more married than the women "
   ]
  },
  {
   "cell_type": "markdown",
   "metadata": {},
   "source": [
    "__Q1b.__ Briefly comment on the differences that you observe between the distribution of marital status states for women between the overall population, and for women between the ages of 30 and 40."
   ]
  },
  {
   "cell_type": "raw",
   "metadata": {},
   "source": [
    "the percentage of married female is higher by 10% in the 30-40 age group\n",
    "where the percentage of unmarried female is noticeably very low in the 30-40 age group"
   ]
  },
  {
   "cell_type": "markdown",
   "metadata": {},
   "source": [
    "__Q1c.__ Repeat part b for the men."
   ]
  },
  {
   "cell_type": "raw",
   "metadata": {},
   "source": [
    "we could say that the married percentage is roughly the same in both datasets\n",
    "while the Divorced,Separated are higher by 2% than the general population\n",
    "and the Unmarried  is noticeably very lower than the general population."
   ]
  },
  {
   "cell_type": "markdown",
   "metadata": {},
   "source": [
    "## Question 2\n",
    "\n",
    "Restricting to the female population, stratify the subjects into age bands no wider than ten years, and construct the distribution of marital status within each age band.  Within each age band, present the distribution in terms of proportions that must sum to 1."
   ]
  },
  {
   "cell_type": "code",
   "execution_count": 13,
   "metadata": {},
   "outputs": [
    {
     "name": "stdout",
     "output_type": "stream",
     "text": [
      "DMDMARTLX           Divorced  Married  Refused  Separated  Unmarried  Widowed\n",
      "agegrp   RIAGENDRx                                                           \n",
      "(18, 30] Female        0.204    0.121      NaN      0.498        NaN    0.093\n",
      "(30, 40] Female        0.163    0.198      NaN      0.187      0.007    0.144\n",
      "(40, 50] Female        0.173    0.221      NaN      0.121      0.041    0.280\n",
      "(50, 60] Female        0.188    0.197    1.000      0.081      0.095    0.229\n",
      "(60, 70] Female        0.170    0.163      NaN      0.073      0.220    0.186\n",
      "(70, 80] Female        0.101    0.100      NaN      0.040      0.639    0.068\n"
     ]
    }
   ],
   "source": [
    "# insert your code\n",
    "dx = df_female.groupby([\"agegrp\",\"DMDMARTLX\"])['RIAGENDRx'].value_counts()\n",
    "dx = dx.unstack(1)\n",
    "dx = dx.apply(lambda x : x /x.sum() ,axis = 0 )\n",
    "print(dx.to_string(float_format=\"%.3f\"))"
   ]
  },
  {
   "cell_type": "markdown",
   "metadata": {},
   "source": [
    "__Q2a.__ Comment on the trends that you see in this series of marginal distributions."
   ]
  },
  {
   "cell_type": "raw",
   "metadata": {},
   "source": [
    "the highr percentile of Divorced and Seprated are in group age 18-30 \n",
    "while the highr married is in group age 40-50"
   ]
  },
  {
   "cell_type": "markdown",
   "metadata": {},
   "source": [
    "__Q2b.__ Repeat the construction for males."
   ]
  },
  {
   "cell_type": "code",
   "execution_count": 14,
   "metadata": {},
   "outputs": [
    {
     "name": "stdout",
     "output_type": "stream",
     "text": [
      "DMDMARTLX           Divorced  Married  Refused  Separated  Unmarried  Widowed\n",
      "agegrp   RIAGENDRx                                                           \n",
      "(18, 30] Male          0.196    0.070      NaN      0.541      0.020    0.103\n",
      "(30, 40] Male          0.194    0.175    1.000      0.184      0.020    0.176\n",
      "(40, 50] Male          0.136    0.191      NaN      0.081      0.020    0.162\n",
      "(50, 60] Male          0.184    0.200      NaN      0.097      0.100    0.147\n",
      "(60, 70] Male          0.156    0.197      NaN      0.079      0.170    0.206\n",
      "(70, 80] Male          0.134    0.167      NaN      0.019      0.670    0.206\n"
     ]
    }
   ],
   "source": [
    "# insert your code here\n",
    "dx = df_male.groupby([\"agegrp\",\"DMDMARTLX\"])['RIAGENDRx'].value_counts()\n",
    "dx = dx.unstack(1)\n",
    "dx = dx.apply(lambda x : x /x.sum() ,axis = 0 )\n",
    "print(dx.to_string(float_format=\"%.3f\"))"
   ]
  },
  {
   "cell_type": "markdown",
   "metadata": {},
   "source": [
    "__Q2c.__ Comment on any notable differences that you see when comparing these results for females and for males."
   ]
  },
  {
   "cell_type": "raw",
   "metadata": {},
   "source": [
    "males like females are the highr percentile of Divorced is in group age 18-30 \n",
    "while the highr married is in group age 50-60"
   ]
  },
  {
   "cell_type": "markdown",
   "metadata": {},
   "source": [
    "## Question 3\n",
    "\n",
    "Construct a histogram of the distribution of heights using the BMXHT variable in the NHANES sample."
   ]
  },
  {
   "cell_type": "code",
   "execution_count": 15,
   "metadata": {},
   "outputs": [
    {
     "data": {
      "image/png": "[encoded data removed]",
      "text/plain": [
       "<Figure size 640x480 with 1 Axes>"
      ]
     },
     "metadata": {},
     "output_type": "display_data"
    }
   ],
   "source": [
    "# insert your code here\n",
    "sns.histplot(da.BMXHT)\n",
    "plt.show()"
   ]
  },
  {
   "cell_type": "code",
   "execution_count": 16,
   "metadata": {},
   "outputs": [
    {
     "data": {
      "image/png": "[encoded data removed]",
      "text/plain": [
       "<Figure size 640x480 with 1 Axes>"
      ]
     },
     "metadata": {},
     "output_type": "display_data"
    }
   ],
   "source": [
    "sns.histplot(da.BMXHT,bins= 25)\n",
    "plt.show()"
   ]
  },
  {
   "cell_type": "markdown",
   "metadata": {},
   "source": [
    "__Q3a.__ Use the `bins` argument to [distplot](https://seaborn.pydata.org/generated/seaborn.distplot.html) to produce histograms with different numbers of bins.  Assess whether the default value for this argument gives a meaningful result, and comment on what happens as the number of bins grows excessively large or excessively small. "
   ]
  },
  {
   "cell_type": "raw",
   "metadata": {},
   "source": [
    "if the number of bins is so small or so large that make the reading of the chart \n",
    "defcult and, we can't get any useful information."
   ]
  },
  {
   "cell_type": "markdown",
   "metadata": {},
   "source": [
    "__Q3b.__ Make separate histograms for the heights of women and men, then make a side-by-side boxplot showing the heights of women and men."
   ]
  },
  {
   "cell_type": "code",
   "execution_count": 17,
   "metadata": {},
   "outputs": [
    {
     "data": {
      "image/png": "[encoded data removed]",
      "text/plain": [
       "<Figure size 500x500 with 1 Axes>"
      ]
     },
     "metadata": {},
     "output_type": "display_data"
    },
    {
     "data": {
      "image/png": "[encoded data removed]",
      "text/plain": [
       "<Figure size 500x500 with 1 Axes>"
      ]
     },
     "metadata": {},
     "output_type": "display_data"
    }
   ],
   "source": [
    "sns.displot(df_female.BMXHT,bins= 25)\n",
    "plt.title(\"Histogram of Female Heights\")\n",
    "sns.displot(df_male.BMXHT,bins= 25)\n",
    "plt.title(\"Histogram of Male Heights\")\n",
    "plt.show()"
   ]
  },
  {
   "cell_type": "code",
   "execution_count": 18,
   "metadata": {},
   "outputs": [
    {
     "data": {
      "image/png": "[encoded data removed]",
      "text/plain": [
       "<Figure size 640x480 with 1 Axes>"
      ]
     },
     "metadata": {},
     "output_type": "display_data"
    }
   ],
   "source": [
    "sns.boxplot(x =\"RIAGENDRx\" , y =\"BMXHT\" ,data= da)\n",
    "plt.title(\"boxplot for Males and Females\")\n",
    "plt.show()"
   ]
  },
  {
   "cell_type": "markdown",
   "metadata": {},
   "source": [
    "__Q3c.__ Comment on what features, if any are not represented clearly in the boxplots, and what features, if any, are easier to see in the boxplots than in the histograms."
   ]
  },
  {
   "cell_type": "raw",
   "metadata": {},
   "source": [
    "in histgrams we can see the distribution very clearly and easily.\n",
    "while in boxplot we can see the differences in range and IQR more easily."
   ]
  },
  {
   "cell_type": "markdown",
   "metadata": {},
   "source": [
    "## Question 4\n",
    "\n",
    "Make a boxplot showing the distribution of within-subject differences between the first and second systolic blood pressure measurents ([BPXSY1](https://wwwn.cdc.gov/Nchs/Nhanes/2015-2016/BPX_I.htm#BPXSY1) and [BPXSY2](https://wwwn.cdc.gov/Nchs/Nhanes/2015-2016/BPX_I.htm#BPXSY2))."
   ]
  },
  {
   "cell_type": "code",
   "execution_count": 37,
   "metadata": {},
   "outputs": [
    {
     "data": {
      "text/plain": [
       "<AxesSubplot: >"
      ]
     },
     "execution_count": 37,
     "metadata": {},
     "output_type": "execute_result"
    },
    {
     "data": {
      "image/png": "[encoded data removed]",
      "text/plain": [
       "<Figure size 640x480 with 1 Axes>"
      ]
     },
     "metadata": {},
     "output_type": "display_data"
    }
   ],
   "source": [
    "# insert your code here\n",
    "sns.boxplot(data=df_male.loc[:, [\"BPXSY1\", \"BPXSY2\"]])"
   ]
  },
  {
   "cell_type": "markdown",
   "metadata": {},
   "source": [
    "__Q4a.__ What proportion of the subjects have a lower SBP on the second reading compared to the first?"
   ]
  },
  {
   "cell_type": "code",
   "execution_count": 38,
   "metadata": {},
   "outputs": [
    {
     "data": {
      "text/plain": [
       "0.45874464518532315"
      ]
     },
     "execution_count": 38,
     "metadata": {},
     "output_type": "execute_result"
    }
   ],
   "source": [
    "# insert your code here\n",
    "diff = da.BPXSY1 - da.BPXSY2\n",
    "diff = diff.dropna()\n",
    "diff_flag = (diff > 0)\n",
    "\n",
    "np.mean(diff_flag)"
   ]
  },
  {
   "cell_type": "markdown",
   "metadata": {},
   "source": [
    "__Q4b.__ Make side-by-side boxplots of the two systolic blood pressure variables."
   ]
  },
  {
   "cell_type": "code",
   "execution_count": 39,
   "metadata": {},
   "outputs": [
    {
     "data": {
      "image/png": "[encoded data removed]",
      "text/plain": [
       "<Figure size 640x480 with 1 Axes>"
      ]
     },
     "metadata": {},
     "output_type": "display_data"
    }
   ],
   "source": [
    "# insert your code here\n",
    "bp = sns.boxplot(data=da.loc[:, [\"BPXSY1\", \"BPXSY2\"]], orient=\"h\")\n",
    "bp.set_ylabel(\"Blood pressure in mm/Hg\")\n",
    "plt.show()"
   ]
  },
  {
   "cell_type": "markdown",
   "metadata": {},
   "source": [
    "__Q4c.__ Comment on the variation within either the first or second systolic blood pressure measurements, and the variation in the within-subject differences between the first and second systolic blood pressure measurements."
   ]
  },
  {
   "cell_type": "raw",
   "metadata": {},
   "source": [
    "we notice that 45 % have their bool presure raisen in the first measure than the \n",
    "sconde "
   ]
  },
  {
   "cell_type": "markdown",
   "metadata": {},
   "source": [
    "## Question 5\n",
    "\n",
    "Construct a frequency table of household sizes for people within each educational attainment category (the relevant variable is [DMDEDUC2](https://wwwn.cdc.gov/Nchs/Nhanes/2015-2016/DEMO_I.htm#DMDEDUC2)).  Convert the frequencies to proportions."
   ]
  },
  {
   "cell_type": "code",
   "execution_count": 44,
   "metadata": {},
   "outputs": [
    {
     "data": {
      "text/plain": [
       "Some college/AA    0.296127\n",
       "College            0.249543\n",
       "HS/GED             0.216661\n",
       "<9                 0.119657\n",
       "9-11               0.117464\n",
       "Don't know         0.000548\n",
       "Name: DMDEDUC2x, dtype: float64"
      ]
     },
     "execution_count": 44,
     "metadata": {},
     "output_type": "execute_result"
    }
   ],
   "source": [
    "# insert your code here\n",
    "da[\"DMDEDUC2x\"] = da.DMDEDUC2.replace({1: \"<9\", 2: \"9-11\", 3: \"HS/GED\", 4: \"Some college/AA\", 5: \"College\", \n",
    "                                       7: \"Refused\", 9: \"Don't know\"})\n",
    "x = da.DMDEDUC2x.value_counts()\n",
    "x/x.sum()"
   ]
  },
  {
   "cell_type": "code",
   "execution_count": 72,
   "metadata": {},
   "outputs": [
    {
     "data": {
      "text/html": [
       "<div>\n",
       "<style scoped>\n",
       "    .dataframe tbody tr th:only-of-type {\n",
       "        vertical-align: middle;\n",
       "    }\n",
       "\n",
       "    .dataframe tbody tr th {\n",
       "        vertical-align: top;\n",
       "    }\n",
       "\n",
       "    .dataframe thead th {\n",
       "        text-align: right;\n",
       "    }\n",
       "</style>\n",
       "<table border=\"1\" class=\"dataframe\">\n",
       "  <thead>\n",
       "    <tr style=\"text-align: right;\">\n",
       "      <th>DMDEDUC2x</th>\n",
       "      <th>9-11</th>\n",
       "      <th>&lt;9</th>\n",
       "      <th>College</th>\n",
       "      <th>HS/GED</th>\n",
       "      <th>Some college/AA</th>\n",
       "    </tr>\n",
       "    <tr>\n",
       "      <th>DMDHHSIZ</th>\n",
       "      <th></th>\n",
       "      <th></th>\n",
       "      <th></th>\n",
       "      <th></th>\n",
       "      <th></th>\n",
       "    </tr>\n",
       "  </thead>\n",
       "  <tbody>\n",
       "    <tr>\n",
       "      <th>1</th>\n",
       "      <td>0.013709</td>\n",
       "      <td>0.013160</td>\n",
       "      <td>0.035642</td>\n",
       "      <td>0.033084</td>\n",
       "      <td>0.044782</td>\n",
       "    </tr>\n",
       "    <tr>\n",
       "      <th>2</th>\n",
       "      <td>0.026138</td>\n",
       "      <td>0.026869</td>\n",
       "      <td>0.086821</td>\n",
       "      <td>0.058673</td>\n",
       "      <td>0.079693</td>\n",
       "    </tr>\n",
       "    <tr>\n",
       "      <th>3</th>\n",
       "      <td>0.019192</td>\n",
       "      <td>0.017547</td>\n",
       "      <td>0.048437</td>\n",
       "      <td>0.037105</td>\n",
       "      <td>0.057211</td>\n",
       "    </tr>\n",
       "    <tr>\n",
       "      <th>4</th>\n",
       "      <td>0.017913</td>\n",
       "      <td>0.015902</td>\n",
       "      <td>0.041309</td>\n",
       "      <td>0.035094</td>\n",
       "      <td>0.050082</td>\n",
       "    </tr>\n",
       "    <tr>\n",
       "      <th>5</th>\n",
       "      <td>0.017182</td>\n",
       "      <td>0.017730</td>\n",
       "      <td>0.023762</td>\n",
       "      <td>0.023762</td>\n",
       "      <td>0.036191</td>\n",
       "    </tr>\n",
       "    <tr>\n",
       "      <th>6</th>\n",
       "      <td>0.013343</td>\n",
       "      <td>0.012978</td>\n",
       "      <td>0.007311</td>\n",
       "      <td>0.014257</td>\n",
       "      <td>0.014988</td>\n",
       "    </tr>\n",
       "    <tr>\n",
       "      <th>7</th>\n",
       "      <td>0.010053</td>\n",
       "      <td>0.015536</td>\n",
       "      <td>0.006397</td>\n",
       "      <td>0.014805</td>\n",
       "      <td>0.013343</td>\n",
       "    </tr>\n",
       "  </tbody>\n",
       "</table>\n",
       "</div>"
      ],
      "text/plain": [
       "DMDEDUC2x      9-11        <9   College    HS/GED  Some college/AA\n",
       "DMDHHSIZ                                                          \n",
       "1          0.013709  0.013160  0.035642  0.033084         0.044782\n",
       "2          0.026138  0.026869  0.086821  0.058673         0.079693\n",
       "3          0.019192  0.017547  0.048437  0.037105         0.057211\n",
       "4          0.017913  0.015902  0.041309  0.035094         0.050082\n",
       "5          0.017182  0.017730  0.023762  0.023762         0.036191\n",
       "6          0.013343  0.012978  0.007311  0.014257         0.014988\n",
       "7          0.010053  0.015536  0.006397  0.014805         0.013343"
      ]
     },
     "execution_count": 72,
     "metadata": {},
     "output_type": "execute_result"
    }
   ],
   "source": [
    "dx = da.loc[~da.DMDEDUC2x.isin([\"Don't know\", \"Missing\"]), :] \n",
    "dx = dx.groupby('DMDHHSIZ')['DMDEDUC2x'].value_counts()\n",
    "dx = dx /dx.sum()\n",
    "dx = dx.unstack()\n",
    "dx\n"
   ]
  },
  {
   "cell_type": "markdown",
   "metadata": {},
   "source": [
    "__Q5a.__ Comment on any major differences among the distributions."
   ]
  },
  {
   "cell_type": "raw",
   "metadata": {},
   "source": [
    "we can see that housholde of two is has the most percentage in both some_College\n",
    "and 9-11 \n",
    "where are from 5-7 housholde members the percentage of some_College drops very sharp \n"
   ]
  },
  {
   "cell_type": "markdown",
   "metadata": {},
   "source": [
    "__Q5b.__ Restrict the sample to people between 30 and 40 years of age.  Then calculate the median household size for women and men within each level of educational attainment."
   ]
  },
  {
   "cell_type": "code",
   "execution_count": 89,
   "metadata": {},
   "outputs": [
    {
     "data": {
      "text/html": [
       "<div>\n",
       "<style scoped>\n",
       "    .dataframe tbody tr th:only-of-type {\n",
       "        vertical-align: middle;\n",
       "    }\n",
       "\n",
       "    .dataframe tbody tr th {\n",
       "        vertical-align: top;\n",
       "    }\n",
       "\n",
       "    .dataframe thead th {\n",
       "        text-align: right;\n",
       "    }\n",
       "</style>\n",
       "<table border=\"1\" class=\"dataframe\">\n",
       "  <thead>\n",
       "    <tr style=\"text-align: right;\">\n",
       "      <th>DMDHHSIZ</th>\n",
       "      <th>1</th>\n",
       "      <th>2</th>\n",
       "      <th>3</th>\n",
       "      <th>4</th>\n",
       "      <th>5</th>\n",
       "      <th>6</th>\n",
       "      <th>7</th>\n",
       "    </tr>\n",
       "    <tr>\n",
       "      <th>RIAGENDRx</th>\n",
       "      <th></th>\n",
       "      <th></th>\n",
       "      <th></th>\n",
       "      <th></th>\n",
       "      <th></th>\n",
       "      <th></th>\n",
       "      <th></th>\n",
       "    </tr>\n",
       "  </thead>\n",
       "  <tbody>\n",
       "    <tr>\n",
       "      <th>Female</th>\n",
       "      <td>5.0</td>\n",
       "      <td>5.0</td>\n",
       "      <td>4.0</td>\n",
       "      <td>4.0</td>\n",
       "      <td>4.0</td>\n",
       "      <td>3.0</td>\n",
       "      <td>3.0</td>\n",
       "    </tr>\n",
       "    <tr>\n",
       "      <th>Male</th>\n",
       "      <td>4.0</td>\n",
       "      <td>4.0</td>\n",
       "      <td>4.0</td>\n",
       "      <td>4.0</td>\n",
       "      <td>3.0</td>\n",
       "      <td>3.0</td>\n",
       "      <td>3.0</td>\n",
       "    </tr>\n",
       "  </tbody>\n",
       "</table>\n",
       "</div>"
      ],
      "text/plain": [
       "DMDHHSIZ     1    2    3    4    5    6    7\n",
       "RIAGENDRx                                   \n",
       "Female     5.0  5.0  4.0  4.0  4.0  3.0  3.0\n",
       "Male       4.0  4.0  4.0  4.0  3.0  3.0  3.0"
      ]
     },
     "execution_count": 89,
     "metadata": {},
     "output_type": "execute_result"
    }
   ],
   "source": [
    "# insert your code here\n",
    "# we will use our data fram df_30 which has the age group that we intersted in \n",
    "# add column to name the education level right\n",
    "df_30[\"DMDEDUC2x\"] = df_30.DMDEDUC2.replace({1: \"<9\", 2: \"9-11\", 3: \"HS/GED\", 4: \"Some college/AA\", 5: \"College\", \n",
    "                                       7: \"Refused\", 9: \"Don't know\"})\n",
    "\n",
    "dx = df_30.loc[~df_30.DMDEDUC2x.isin([\"Don't know\", \"Missing\"]), :] \n",
    "dx = dx.groupby(['DMDHHSIZ','RIAGENDRx'])['DMDEDUC2'].median()\n",
    "dx = dx.unstack(0)\n",
    "dx"
   ]
  },
  {
   "attachments": {},
   "cell_type": "markdown",
   "metadata": {},
   "source": [
    "## Question 6\n",
    "\n",
    "The participants can be clustered into \"maked variance units\" (MVU) based on every combination of the variables [SDMVSTRA](https://wwwn.cdc.gov/Nchs/Nhanes/2015-2016/DEMO_I.htm#SDMVSTRA) and [SDMVPSU](https://wwwn.cdc.gov/Nchs/Nhanes/2015-2016/DEMO_I.htm#SDMVPSU).  Calculate the mean age ([RIDAGEYR](https://wwwn.cdc.gov/Nchs/Nhanes/2015-2016/DEMO_I.htm#RIDAGEYR)), height ([BMXHT](https://wwwn.cdc.gov/Nchs/Nhanes/2015-2016/BMX_I.htm#BMXHT)), and BMI ([BMXBMI](https://wwwn.cdc.gov/Nchs/Nhanes/2015-2016/BMX_I.htm#BMXBMI)) for each gender ([RIAGENDR](https://wwwn.cdc.gov/Nchs/Nhanes/2015-2016/DEMO_I.htm#RIAGENDR)), within each MVU, and report the ratio between the largest and smallest mean (e.g. for height) across the MVUs."
   ]
  },
  {
   "cell_type": "code",
   "execution_count": 103,
   "metadata": {},
   "outputs": [
    {
     "name": "stderr",
     "output_type": "stream",
     "text": [
      "C:\\Users\\engsa\\AppData\\Local\\Temp\\ipykernel_4552\\1134690773.py:3: FutureWarning: Indexing with multiple keys (implicitly converted to a tuple of keys) will be deprecated, use a list instead.\n",
      "  df_mvu = da.groupby(['SDMVSTRA','SDMVPSU','RIAGENDRx'])['RIDAGEYR','BMXHT','BMXBMI'].mean()\n"
     ]
    },
    {
     "data": {
      "text/html": [
       "<div>\n",
       "<style scoped>\n",
       "    .dataframe tbody tr th:only-of-type {\n",
       "        vertical-align: middle;\n",
       "    }\n",
       "\n",
       "    .dataframe tbody tr th {\n",
       "        vertical-align: top;\n",
       "    }\n",
       "\n",
       "    .dataframe thead tr th {\n",
       "        text-align: left;\n",
       "    }\n",
       "\n",
       "    .dataframe thead tr:last-of-type th {\n",
       "        text-align: right;\n",
       "    }\n",
       "</style>\n",
       "<table border=\"1\" class=\"dataframe\">\n",
       "  <thead>\n",
       "    <tr>\n",
       "      <th></th>\n",
       "      <th></th>\n",
       "      <th colspan=\"2\" halign=\"left\">RIDAGEYR</th>\n",
       "      <th colspan=\"2\" halign=\"left\">BMXHT</th>\n",
       "      <th colspan=\"2\" halign=\"left\">BMXBMI</th>\n",
       "    </tr>\n",
       "    <tr>\n",
       "      <th></th>\n",
       "      <th>RIAGENDRx</th>\n",
       "      <th>Female</th>\n",
       "      <th>Male</th>\n",
       "      <th>Female</th>\n",
       "      <th>Male</th>\n",
       "      <th>Female</th>\n",
       "      <th>Male</th>\n",
       "    </tr>\n",
       "    <tr>\n",
       "      <th>SDMVSTRA</th>\n",
       "      <th>SDMVPSU</th>\n",
       "      <th></th>\n",
       "      <th></th>\n",
       "      <th></th>\n",
       "      <th></th>\n",
       "      <th></th>\n",
       "      <th></th>\n",
       "    </tr>\n",
       "  </thead>\n",
       "  <tbody>\n",
       "    <tr>\n",
       "      <th rowspan=\"2\" valign=\"top\">119</th>\n",
       "      <th>1</th>\n",
       "      <td>47.663265</td>\n",
       "      <td>47.861111</td>\n",
       "      <td>159.570408</td>\n",
       "      <td>172.741667</td>\n",
       "      <td>30.052041</td>\n",
       "      <td>26.958333</td>\n",
       "    </tr>\n",
       "    <tr>\n",
       "      <th>2</th>\n",
       "      <td>52.987952</td>\n",
       "      <td>54.363636</td>\n",
       "      <td>159.244578</td>\n",
       "      <td>172.906818</td>\n",
       "      <td>27.849398</td>\n",
       "      <td>27.160465</td>\n",
       "    </tr>\n",
       "    <tr>\n",
       "      <th rowspan=\"2\" valign=\"top\">120</th>\n",
       "      <th>1</th>\n",
       "      <td>43.636364</td>\n",
       "      <td>43.130000</td>\n",
       "      <td>155.402041</td>\n",
       "      <td>169.537755</td>\n",
       "      <td>32.419388</td>\n",
       "      <td>30.939175</td>\n",
       "    </tr>\n",
       "    <tr>\n",
       "      <th>2</th>\n",
       "      <td>43.736111</td>\n",
       "      <td>45.219178</td>\n",
       "      <td>159.218056</td>\n",
       "      <td>173.075342</td>\n",
       "      <td>27.400000</td>\n",
       "      <td>27.727397</td>\n",
       "    </tr>\n",
       "    <tr>\n",
       "      <th rowspan=\"2\" valign=\"top\">121</th>\n",
       "      <th>1</th>\n",
       "      <td>44.397959</td>\n",
       "      <td>46.750000</td>\n",
       "      <td>158.871579</td>\n",
       "      <td>172.177885</td>\n",
       "      <td>30.856842</td>\n",
       "      <td>29.416505</td>\n",
       "    </tr>\n",
       "    <tr>\n",
       "      <th>2</th>\n",
       "      <td>44.376344</td>\n",
       "      <td>42.063158</td>\n",
       "      <td>160.229032</td>\n",
       "      <td>174.764516</td>\n",
       "      <td>26.470968</td>\n",
       "      <td>26.273118</td>\n",
       "    </tr>\n",
       "    <tr>\n",
       "      <th rowspan=\"2\" valign=\"top\">122</th>\n",
       "      <th>1</th>\n",
       "      <td>42.897436</td>\n",
       "      <td>44.653061</td>\n",
       "      <td>161.315385</td>\n",
       "      <td>173.998969</td>\n",
       "      <td>29.447436</td>\n",
       "      <td>28.528866</td>\n",
       "    </tr>\n",
       "    <tr>\n",
       "      <th>2</th>\n",
       "      <td>47.333333</td>\n",
       "      <td>44.320000</td>\n",
       "      <td>157.231111</td>\n",
       "      <td>170.332323</td>\n",
       "      <td>26.611111</td>\n",
       "      <td>25.744444</td>\n",
       "    </tr>\n",
       "    <tr>\n",
       "      <th rowspan=\"2\" valign=\"top\">123</th>\n",
       "      <th>1</th>\n",
       "      <td>44.841121</td>\n",
       "      <td>47.829787</td>\n",
       "      <td>162.059615</td>\n",
       "      <td>174.315217</td>\n",
       "      <td>29.905769</td>\n",
       "      <td>29.231522</td>\n",
       "    </tr>\n",
       "    <tr>\n",
       "      <th>2</th>\n",
       "      <td>46.457447</td>\n",
       "      <td>52.126582</td>\n",
       "      <td>160.476596</td>\n",
       "      <td>174.454430</td>\n",
       "      <td>30.641489</td>\n",
       "      <td>28.811392</td>\n",
       "    </tr>\n",
       "    <tr>\n",
       "      <th rowspan=\"2\" valign=\"top\">124</th>\n",
       "      <th>1</th>\n",
       "      <td>51.664000</td>\n",
       "      <td>50.750000</td>\n",
       "      <td>158.788710</td>\n",
       "      <td>172.109009</td>\n",
       "      <td>29.533065</td>\n",
       "      <td>28.614414</td>\n",
       "    </tr>\n",
       "    <tr>\n",
       "      <th>2</th>\n",
       "      <td>42.541667</td>\n",
       "      <td>48.245614</td>\n",
       "      <td>162.853521</td>\n",
       "      <td>174.291228</td>\n",
       "      <td>28.640845</td>\n",
       "      <td>27.714035</td>\n",
       "    </tr>\n",
       "    <tr>\n",
       "      <th rowspan=\"2\" valign=\"top\">125</th>\n",
       "      <th>1</th>\n",
       "      <td>50.900901</td>\n",
       "      <td>55.165289</td>\n",
       "      <td>160.762385</td>\n",
       "      <td>173.631092</td>\n",
       "      <td>30.385321</td>\n",
       "      <td>29.727731</td>\n",
       "    </tr>\n",
       "    <tr>\n",
       "      <th>2</th>\n",
       "      <td>51.660000</td>\n",
       "      <td>49.705882</td>\n",
       "      <td>160.021429</td>\n",
       "      <td>174.456863</td>\n",
       "      <td>28.564286</td>\n",
       "      <td>29.143564</td>\n",
       "    </tr>\n",
       "    <tr>\n",
       "      <th rowspan=\"2\" valign=\"top\">126</th>\n",
       "      <th>1</th>\n",
       "      <td>46.229167</td>\n",
       "      <td>48.416667</td>\n",
       "      <td>160.387500</td>\n",
       "      <td>175.149398</td>\n",
       "      <td>31.262500</td>\n",
       "      <td>29.033333</td>\n",
       "    </tr>\n",
       "    <tr>\n",
       "      <th>2</th>\n",
       "      <td>47.205882</td>\n",
       "      <td>48.666667</td>\n",
       "      <td>160.892000</td>\n",
       "      <td>174.713043</td>\n",
       "      <td>29.612121</td>\n",
       "      <td>29.039130</td>\n",
       "    </tr>\n",
       "    <tr>\n",
       "      <th rowspan=\"2\" valign=\"top\">127</th>\n",
       "      <th>1</th>\n",
       "      <td>49.694444</td>\n",
       "      <td>53.137931</td>\n",
       "      <td>157.422430</td>\n",
       "      <td>171.545349</td>\n",
       "      <td>32.189720</td>\n",
       "      <td>31.062353</td>\n",
       "    </tr>\n",
       "    <tr>\n",
       "      <th>2</th>\n",
       "      <td>51.486239</td>\n",
       "      <td>54.070588</td>\n",
       "      <td>159.022936</td>\n",
       "      <td>173.366667</td>\n",
       "      <td>30.770642</td>\n",
       "      <td>30.557831</td>\n",
       "    </tr>\n",
       "    <tr>\n",
       "      <th rowspan=\"2\" valign=\"top\">128</th>\n",
       "      <th>1</th>\n",
       "      <td>55.638462</td>\n",
       "      <td>53.673267</td>\n",
       "      <td>156.339063</td>\n",
       "      <td>169.325000</td>\n",
       "      <td>32.303125</td>\n",
       "      <td>31.749000</td>\n",
       "    </tr>\n",
       "    <tr>\n",
       "      <th>2</th>\n",
       "      <td>45.589744</td>\n",
       "      <td>45.822785</td>\n",
       "      <td>160.437179</td>\n",
       "      <td>172.400000</td>\n",
       "      <td>27.491026</td>\n",
       "      <td>26.835443</td>\n",
       "    </tr>\n",
       "    <tr>\n",
       "      <th rowspan=\"2\" valign=\"top\">129</th>\n",
       "      <th>1</th>\n",
       "      <td>45.329787</td>\n",
       "      <td>43.922222</td>\n",
       "      <td>156.900000</td>\n",
       "      <td>171.094318</td>\n",
       "      <td>29.019149</td>\n",
       "      <td>26.493182</td>\n",
       "    </tr>\n",
       "    <tr>\n",
       "      <th>2</th>\n",
       "      <td>43.500000</td>\n",
       "      <td>45.775510</td>\n",
       "      <td>161.034259</td>\n",
       "      <td>173.138298</td>\n",
       "      <td>29.429630</td>\n",
       "      <td>28.961702</td>\n",
       "    </tr>\n",
       "    <tr>\n",
       "      <th rowspan=\"2\" valign=\"top\">130</th>\n",
       "      <th>1</th>\n",
       "      <td>47.810526</td>\n",
       "      <td>50.516854</td>\n",
       "      <td>161.977895</td>\n",
       "      <td>176.974157</td>\n",
       "      <td>30.700000</td>\n",
       "      <td>30.337079</td>\n",
       "    </tr>\n",
       "    <tr>\n",
       "      <th>2</th>\n",
       "      <td>50.833333</td>\n",
       "      <td>50.535354</td>\n",
       "      <td>160.060577</td>\n",
       "      <td>175.061224</td>\n",
       "      <td>31.490385</td>\n",
       "      <td>29.237755</td>\n",
       "    </tr>\n",
       "    <tr>\n",
       "      <th rowspan=\"2\" valign=\"top\">131</th>\n",
       "      <th>1</th>\n",
       "      <td>54.893617</td>\n",
       "      <td>53.140187</td>\n",
       "      <td>161.989362</td>\n",
       "      <td>175.610476</td>\n",
       "      <td>30.061702</td>\n",
       "      <td>28.259615</td>\n",
       "    </tr>\n",
       "    <tr>\n",
       "      <th>2</th>\n",
       "      <td>45.000000</td>\n",
       "      <td>46.778846</td>\n",
       "      <td>161.673810</td>\n",
       "      <td>175.091346</td>\n",
       "      <td>32.984127</td>\n",
       "      <td>30.077885</td>\n",
       "    </tr>\n",
       "    <tr>\n",
       "      <th rowspan=\"2\" valign=\"top\">132</th>\n",
       "      <th>1</th>\n",
       "      <td>43.210526</td>\n",
       "      <td>42.380435</td>\n",
       "      <td>161.508421</td>\n",
       "      <td>172.534066</td>\n",
       "      <td>29.848421</td>\n",
       "      <td>28.546154</td>\n",
       "    </tr>\n",
       "    <tr>\n",
       "      <th>2</th>\n",
       "      <td>51.700000</td>\n",
       "      <td>49.038760</td>\n",
       "      <td>159.138281</td>\n",
       "      <td>172.809524</td>\n",
       "      <td>30.540625</td>\n",
       "      <td>28.966667</td>\n",
       "    </tr>\n",
       "    <tr>\n",
       "      <th rowspan=\"2\" valign=\"top\">133</th>\n",
       "      <th>1</th>\n",
       "      <td>45.105882</td>\n",
       "      <td>44.054795</td>\n",
       "      <td>158.295122</td>\n",
       "      <td>171.509722</td>\n",
       "      <td>27.959259</td>\n",
       "      <td>27.495833</td>\n",
       "    </tr>\n",
       "    <tr>\n",
       "      <th>2</th>\n",
       "      <td>47.063158</td>\n",
       "      <td>47.489796</td>\n",
       "      <td>158.627368</td>\n",
       "      <td>171.179167</td>\n",
       "      <td>29.000000</td>\n",
       "      <td>27.966667</td>\n",
       "    </tr>\n",
       "  </tbody>\n",
       "</table>\n",
       "</div>"
      ],
      "text/plain": [
       "                   RIDAGEYR                  BMXHT                 BMXBMI  \\\n",
       "RIAGENDRx            Female       Male      Female        Male     Female   \n",
       "SDMVSTRA SDMVPSU                                                            \n",
       "119      1        47.663265  47.861111  159.570408  172.741667  30.052041   \n",
       "         2        52.987952  54.363636  159.244578  172.906818  27.849398   \n",
       "120      1        43.636364  43.130000  155.402041  169.537755  32.419388   \n",
       "         2        43.736111  45.219178  159.218056  173.075342  27.400000   \n",
       "121      1        44.397959  46.750000  158.871579  172.177885  30.856842   \n",
       "         2        44.376344  42.063158  160.229032  174.764516  26.470968   \n",
       "122      1        42.897436  44.653061  161.315385  173.998969  29.447436   \n",
       "         2        47.333333  44.320000  157.231111  170.332323  26.611111   \n",
       "123      1        44.841121  47.829787  162.059615  174.315217  29.905769   \n",
       "         2        46.457447  52.126582  160.476596  174.454430  30.641489   \n",
       "124      1        51.664000  50.750000  158.788710  172.109009  29.533065   \n",
       "         2        42.541667  48.245614  162.853521  174.291228  28.640845   \n",
       "125      1        50.900901  55.165289  160.762385  173.631092  30.385321   \n",
       "         2        51.660000  49.705882  160.021429  174.456863  28.564286   \n",
       "126      1        46.229167  48.416667  160.387500  175.149398  31.262500   \n",
       "         2        47.205882  48.666667  160.892000  174.713043  29.612121   \n",
       "127      1        49.694444  53.137931  157.422430  171.545349  32.189720   \n",
       "         2        51.486239  54.070588  159.022936  173.366667  30.770642   \n",
       "128      1        55.638462  53.673267  156.339063  169.325000  32.303125   \n",
       "         2        45.589744  45.822785  160.437179  172.400000  27.491026   \n",
       "129      1        45.329787  43.922222  156.900000  171.094318  29.019149   \n",
       "         2        43.500000  45.775510  161.034259  173.138298  29.429630   \n",
       "130      1        47.810526  50.516854  161.977895  176.974157  30.700000   \n",
       "         2        50.833333  50.535354  160.060577  175.061224  31.490385   \n",
       "131      1        54.893617  53.140187  161.989362  175.610476  30.061702   \n",
       "         2        45.000000  46.778846  161.673810  175.091346  32.984127   \n",
       "132      1        43.210526  42.380435  161.508421  172.534066  29.848421   \n",
       "         2        51.700000  49.038760  159.138281  172.809524  30.540625   \n",
       "133      1        45.105882  44.054795  158.295122  171.509722  27.959259   \n",
       "         2        47.063158  47.489796  158.627368  171.179167  29.000000   \n",
       "\n",
       "                             \n",
       "RIAGENDRx              Male  \n",
       "SDMVSTRA SDMVPSU             \n",
       "119      1        26.958333  \n",
       "         2        27.160465  \n",
       "120      1        30.939175  \n",
       "         2        27.727397  \n",
       "121      1        29.416505  \n",
       "         2        26.273118  \n",
       "122      1        28.528866  \n",
       "         2        25.744444  \n",
       "123      1        29.231522  \n",
       "         2        28.811392  \n",
       "124      1        28.614414  \n",
       "         2        27.714035  \n",
       "125      1        29.727731  \n",
       "         2        29.143564  \n",
       "126      1        29.033333  \n",
       "         2        29.039130  \n",
       "127      1        31.062353  \n",
       "         2        30.557831  \n",
       "128      1        31.749000  \n",
       "         2        26.835443  \n",
       "129      1        26.493182  \n",
       "         2        28.961702  \n",
       "130      1        30.337079  \n",
       "         2        29.237755  \n",
       "131      1        28.259615  \n",
       "         2        30.077885  \n",
       "132      1        28.546154  \n",
       "         2        28.966667  \n",
       "133      1        27.495833  \n",
       "         2        27.966667  "
      ]
     },
     "execution_count": 103,
     "metadata": {},
     "output_type": "execute_result"
    }
   ],
   "source": [
    "# insert your code here\n",
    "# da[['SDMVSTRA','SDMVPSU','RIDAGEYR','BMXHT','BMXBMI','RIAGENDR']]\n",
    "df_mvu = da.groupby(['SDMVSTRA','SDMVPSU','RIAGENDRx'])['RIDAGEYR','BMXHT','BMXBMI'].mean()\n",
    "df_mvu.unstack(2)"
   ]
  },
  {
   "cell_type": "markdown",
   "metadata": {},
   "source": [
    "__Q6a.__ Comment on the extent to which mean age, height, and BMI vary among the MVUs."
   ]
  },
  {
   "cell_type": "raw",
   "metadata": {},
   "source": [
    "as we can see there some changes between SDMVSTRA and SDMVPSU\n",
    "some are small and littel once are vary but not too much \n",
    "across all the charchtaristics "
   ]
  },
  {
   "cell_type": "markdown",
   "metadata": {},
   "source": [
    "__Q6b.__ Calculate the inter-quartile range (IQR) for age, height, and BMI for each gender and each MVU.  Report the ratio between the largest and smalles IQR across the MVUs."
   ]
  },
  {
   "cell_type": "code",
   "execution_count": 105,
   "metadata": {},
   "outputs": [
    {
     "name": "stderr",
     "output_type": "stream",
     "text": [
      "C:\\Users\\engsa\\AppData\\Local\\Temp\\ipykernel_4552\\2044913236.py:2: FutureWarning: Indexing with multiple keys (implicitly converted to a tuple of keys) will be deprecated, use a list instead.\n",
      "  df_iqr = da.groupby(['SDMVSTRA','SDMVPSU','RIAGENDRx'])['RIDAGEYR','BMXHT','BMXBMI']\n"
     ]
    },
    {
     "ename": "TypeError",
     "evalue": "GroupBy.quantile() got an unexpected keyword argument 'axis'",
     "output_type": "error",
     "traceback": [
      "\u001b[1;31m---------------------------------------------------------------------------\u001b[0m",
      "\u001b[1;31mTypeError\u001b[0m                                 Traceback (most recent call last)",
      "Cell \u001b[1;32mIn[105], line 3\u001b[0m\n\u001b[0;32m      1\u001b[0m \u001b[39m# insert your code here\u001b[39;00m\n\u001b[0;32m      2\u001b[0m df_iqr \u001b[39m=\u001b[39m da\u001b[39m.\u001b[39mgroupby([\u001b[39m'\u001b[39m\u001b[39mSDMVSTRA\u001b[39m\u001b[39m'\u001b[39m,\u001b[39m'\u001b[39m\u001b[39mSDMVPSU\u001b[39m\u001b[39m'\u001b[39m,\u001b[39m'\u001b[39m\u001b[39mRIAGENDRx\u001b[39m\u001b[39m'\u001b[39m])[\u001b[39m'\u001b[39m\u001b[39mRIDAGEYR\u001b[39m\u001b[39m'\u001b[39m,\u001b[39m'\u001b[39m\u001b[39mBMXHT\u001b[39m\u001b[39m'\u001b[39m,\u001b[39m'\u001b[39m\u001b[39mBMXBMI\u001b[39m\u001b[39m'\u001b[39m]\n\u001b[1;32m----> 3\u001b[0m df_iqr \u001b[39m=\u001b[39m df_iqr\u001b[39m.\u001b[39;49mquantile([\u001b[39m0.75\u001b[39;49m] ,axis\u001b[39m=\u001b[39;49m\u001b[39m0\u001b[39;49m, numeric_only\u001b[39m=\u001b[39;49m\u001b[39mTrue\u001b[39;49;00m) \u001b[39m-\u001b[39mdf_iqr\u001b[39m.\u001b[39mquantile([\u001b[39m0.25\u001b[39m], axis\u001b[39m=\u001b[39m\u001b[39m0\u001b[39m, numeric_only\u001b[39m=\u001b[39m\u001b[39mTrue\u001b[39;00m)\n\u001b[0;32m      4\u001b[0m df_iqr\u001b[39m.\u001b[39munstack(\u001b[39m2\u001b[39m)\n",
      "\u001b[1;31mTypeError\u001b[0m: GroupBy.quantile() got an unexpected keyword argument 'axis'"
     ]
    }
   ],
   "source": [
    "# insert your code here\n",
    "df_iqr = da.groupby(['SDMVSTRA','SDMVPSU','RIAGENDRx'])['RIDAGEYR','BMXHT','BMXBMI']\n",
    "df_iqr = df_iqr.quantile([0.75]) -df_iqr.quantile([0.25])\n",
    "df_iqr.unstack(2)"
   ]
  },
  {
   "cell_type": "markdown",
   "metadata": {},
   "source": [
    "__Q6c.__ Comment on the extent to which the IQR for age, height, and BMI vary among the MVUs."
   ]
  },
  {
   "cell_type": "raw",
   "metadata": {},
   "source": []
  }
 ],
 "metadata": {
  "kernelspec": {
   "display_name": "ds",
   "language": "python",
   "name": "python3"
  },
  "language_info": {
   "codemirror_mode": {
    "name": "ipython",
    "version": 3
   },
   "file_extension": ".py",
   "mimetype": "text/x-python",
   "name": "python",
   "nbconvert_exporter": "python",
   "pygments_lexer": "ipython3",
   "version": "3.11.0"
  }
 },
 "nbformat": 4,
 "nbformat_minor": 4
}
