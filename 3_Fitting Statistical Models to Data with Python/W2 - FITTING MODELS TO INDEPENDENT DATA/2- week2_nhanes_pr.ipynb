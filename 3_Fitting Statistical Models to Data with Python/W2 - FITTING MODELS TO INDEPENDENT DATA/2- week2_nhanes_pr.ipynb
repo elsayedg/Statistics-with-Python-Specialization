{
 "cells": [
  {
   "attachments": {},
   "cell_type": "markdown",
   "metadata": {
    "colab_type": "text",
    "id": "Drk8n9Fugd9R"
   },
   "source": [
    "# Linear Regression with NHANES Data\n",
    "\n",
    "This tutorial will be taking an excerpt from the NHANES case study provided in this week and reviewing the linear regression portion.  We will cover model parameters such as coefficients, r-squared, and correlation.  Additionally, we will construct models utilzing more than one predictor, introduce how categorical variables are handled, and generate visualizations of our models.\n",
    "\n",
    "As with our previous work, we will be using the\n",
    "[Pandas](http://pandas.pydata.org) library for data management, the\n",
    "[Numpy](http://www.numpy.org) library for numerical calculations, and\n",
    "the [Statsmodels](http://www.statsmodels.org) library for statistical\n",
    "modeling.\n",
    "\n",
    "We begin by importing the libraries that we will be using:"
   ]
  },
  {
   "cell_type": "code",
   "execution_count": 1,
   "metadata": {
    "colab": {},
    "colab_type": "code",
    "id": "hKJ2797Egd9T"
   },
   "outputs": [],
   "source": [
    "%matplotlib inline\n",
    "import matplotlib.pyplot as plt\n",
    "import seaborn as sns\n",
    "import pandas as pd\n",
    "import statsmodels.api as sm\n",
    "import numpy as np"
   ]
  },
  {
   "cell_type": "code",
   "execution_count": 2,
   "metadata": {
    "colab": {},
    "colab_type": "code",
    "id": "VjPLPhj1gd9W"
   },
   "outputs": [],
   "source": [
    "url = \"nhanes_2015_2016.csv\"\n",
    "da = pd.read_csv(url)"
   ]
  },
  {
   "cell_type": "code",
   "execution_count": 3,
   "metadata": {},
   "outputs": [
    {
     "data": {
      "text/plain": [
       "0       1.290261\n",
       "1       1.102965\n",
       "2       1.623231\n",
       "3       1.165397\n",
       "4       0.874047\n",
       "          ...   \n",
       "5730    1.581610\n",
       "5731    0.541077\n",
       "5732    1.664852\n",
       "5733    0.728373\n",
       "5734    0.499456\n",
       "Name: RIDAGEYR, Length: 5735, dtype: float64"
      ]
     },
     "execution_count": 3,
     "metadata": {},
     "output_type": "execute_result"
    }
   ],
   "source": [
    "da.RIDAGEYR/da.RIDAGEYR.mean()"
   ]
  },
  {
   "cell_type": "code",
   "execution_count": 4,
   "metadata": {
    "colab": {},
    "colab_type": "code",
    "id": "yCAc2JGegd9Z"
   },
   "outputs": [],
   "source": [
    "# Drop unused columns, drop rows with any missing values.\n",
    "vars = [\"BPXSY1\", \"RIDAGEYR\", \"RIAGENDR\",\n",
    "        \"RIDRETH1\", \"DMDEDUC2\", \"BMXBMI\", \"SMQ020\"]\n",
    "da = da[vars].dropna()"
   ]
  },
  {
   "cell_type": "code",
   "execution_count": 5,
   "metadata": {
    "colab": {},
    "colab_type": "code",
    "id": "0bk9HZGMgd9b",
    "outputId": "57ad69ff-584a-49aa-f019-e08e4b7b54fc"
   },
   "outputs": [
    {
     "data": {
      "text/html": [
       "<div>\n",
       "<style scoped>\n",
       "    .dataframe tbody tr th:only-of-type {\n",
       "        vertical-align: middle;\n",
       "    }\n",
       "\n",
       "    .dataframe tbody tr th {\n",
       "        vertical-align: top;\n",
       "    }\n",
       "\n",
       "    .dataframe thead th {\n",
       "        text-align: right;\n",
       "    }\n",
       "</style>\n",
       "<table border=\"1\" class=\"dataframe\">\n",
       "  <thead>\n",
       "    <tr style=\"text-align: right;\">\n",
       "      <th></th>\n",
       "      <th>BPXSY1</th>\n",
       "      <th>RIDAGEYR</th>\n",
       "      <th>RIAGENDR</th>\n",
       "      <th>RIDRETH1</th>\n",
       "      <th>DMDEDUC2</th>\n",
       "      <th>BMXBMI</th>\n",
       "      <th>SMQ020</th>\n",
       "    </tr>\n",
       "  </thead>\n",
       "  <tbody>\n",
       "    <tr>\n",
       "      <th>0</th>\n",
       "      <td>128.0</td>\n",
       "      <td>62</td>\n",
       "      <td>1</td>\n",
       "      <td>3</td>\n",
       "      <td>5.0</td>\n",
       "      <td>27.8</td>\n",
       "      <td>1</td>\n",
       "    </tr>\n",
       "    <tr>\n",
       "      <th>1</th>\n",
       "      <td>146.0</td>\n",
       "      <td>53</td>\n",
       "      <td>1</td>\n",
       "      <td>3</td>\n",
       "      <td>3.0</td>\n",
       "      <td>30.8</td>\n",
       "      <td>1</td>\n",
       "    </tr>\n",
       "    <tr>\n",
       "      <th>2</th>\n",
       "      <td>138.0</td>\n",
       "      <td>78</td>\n",
       "      <td>1</td>\n",
       "      <td>3</td>\n",
       "      <td>3.0</td>\n",
       "      <td>28.8</td>\n",
       "      <td>1</td>\n",
       "    </tr>\n",
       "    <tr>\n",
       "      <th>3</th>\n",
       "      <td>132.0</td>\n",
       "      <td>56</td>\n",
       "      <td>2</td>\n",
       "      <td>3</td>\n",
       "      <td>5.0</td>\n",
       "      <td>42.4</td>\n",
       "      <td>2</td>\n",
       "    </tr>\n",
       "    <tr>\n",
       "      <th>4</th>\n",
       "      <td>100.0</td>\n",
       "      <td>42</td>\n",
       "      <td>2</td>\n",
       "      <td>4</td>\n",
       "      <td>4.0</td>\n",
       "      <td>20.3</td>\n",
       "      <td>2</td>\n",
       "    </tr>\n",
       "  </tbody>\n",
       "</table>\n",
       "</div>"
      ],
      "text/plain": [
       "   BPXSY1  RIDAGEYR  RIAGENDR  RIDRETH1  DMDEDUC2  BMXBMI  SMQ020\n",
       "0   128.0        62         1         3       5.0    27.8       1\n",
       "1   146.0        53         1         3       3.0    30.8       1\n",
       "2   138.0        78         1         3       3.0    28.8       1\n",
       "3   132.0        56         2         3       5.0    42.4       2\n",
       "4   100.0        42         2         4       4.0    20.3       2"
      ]
     },
     "execution_count": 5,
     "metadata": {},
     "output_type": "execute_result"
    }
   ],
   "source": [
    "da.head()"
   ]
  },
  {
   "attachments": {},
   "cell_type": "markdown",
   "metadata": {
    "colab_type": "text",
    "id": "bn3-A4H6gd9g"
   },
   "source": [
    "## Linear regression\n",
    "\n",
    "\n",
    "### Simple Linear Regression with One Covariate"
   ]
  },
  {
   "cell_type": "code",
   "execution_count": 6,
   "metadata": {
    "colab": {},
    "colab_type": "code",
    "id": "XfDp1slKgd9h",
    "outputId": "287ba8c7-859b-4e85-b354-506c278039f3"
   },
   "outputs": [
    {
     "data": {
      "text/html": [
       "<table class=\"simpletable\">\n",
       "<caption>OLS Regression Results</caption>\n",
       "<tr>\n",
       "  <th>Dep. Variable:</th>         <td>BPXSY1</td>      <th>  R-squared:         </th> <td>   0.207</td> \n",
       "</tr>\n",
       "<tr>\n",
       "  <th>Model:</th>                   <td>OLS</td>       <th>  Adj. R-squared:    </th> <td>   0.207</td> \n",
       "</tr>\n",
       "<tr>\n",
       "  <th>Method:</th>             <td>Least Squares</td>  <th>  F-statistic:       </th> <td>   1333.</td> \n",
       "</tr>\n",
       "<tr>\n",
       "  <th>Date:</th>             <td>Sun, 11 Jun 2023</td> <th>  Prob (F-statistic):</th> <td>2.09e-259</td>\n",
       "</tr>\n",
       "<tr>\n",
       "  <th>Time:</th>                 <td>10:24:20</td>     <th>  Log-Likelihood:    </th> <td> -21530.</td> \n",
       "</tr>\n",
       "<tr>\n",
       "  <th>No. Observations:</th>      <td>  5102</td>      <th>  AIC:               </th> <td>4.306e+04</td>\n",
       "</tr>\n",
       "<tr>\n",
       "  <th>Df Residuals:</th>          <td>  5100</td>      <th>  BIC:               </th> <td>4.308e+04</td>\n",
       "</tr>\n",
       "<tr>\n",
       "  <th>Df Model:</th>              <td>     1</td>      <th>                     </th>     <td> </td>    \n",
       "</tr>\n",
       "<tr>\n",
       "  <th>Covariance Type:</th>      <td>nonrobust</td>    <th>                     </th>     <td> </td>    \n",
       "</tr>\n",
       "</table>\n",
       "<table class=\"simpletable\">\n",
       "<tr>\n",
       "      <td></td>         <th>coef</th>     <th>std err</th>      <th>t</th>      <th>P>|t|</th>  <th>[0.025</th>    <th>0.975]</th>  \n",
       "</tr>\n",
       "<tr>\n",
       "  <th>Intercept</th> <td>  102.0935</td> <td>    0.685</td> <td>  149.120</td> <td> 0.000</td> <td>  100.751</td> <td>  103.436</td>\n",
       "</tr>\n",
       "<tr>\n",
       "  <th>RIDAGEYR</th>  <td>    0.4759</td> <td>    0.013</td> <td>   36.504</td> <td> 0.000</td> <td>    0.450</td> <td>    0.501</td>\n",
       "</tr>\n",
       "</table>\n",
       "<table class=\"simpletable\">\n",
       "<tr>\n",
       "  <th>Omnibus:</th>       <td>690.261</td> <th>  Durbin-Watson:     </th> <td>   2.039</td>\n",
       "</tr>\n",
       "<tr>\n",
       "  <th>Prob(Omnibus):</th> <td> 0.000</td>  <th>  Jarque-Bera (JB):  </th> <td>1505.999</td>\n",
       "</tr>\n",
       "<tr>\n",
       "  <th>Skew:</th>          <td> 0.810</td>  <th>  Prob(JB):          </th> <td>    0.00</td>\n",
       "</tr>\n",
       "<tr>\n",
       "  <th>Kurtosis:</th>      <td> 5.112</td>  <th>  Cond. No.          </th> <td>    156.</td>\n",
       "</tr>\n",
       "</table><br/><br/>Notes:<br/>[1] Standard Errors assume that the covariance matrix of the errors is correctly specified."
      ],
      "text/plain": [
       "<class 'statsmodels.iolib.summary.Summary'>\n",
       "\"\"\"\n",
       "                            OLS Regression Results                            \n",
       "==============================================================================\n",
       "Dep. Variable:                 BPXSY1   R-squared:                       0.207\n",
       "Model:                            OLS   Adj. R-squared:                  0.207\n",
       "Method:                 Least Squares   F-statistic:                     1333.\n",
       "Date:                Sun, 11 Jun 2023   Prob (F-statistic):          2.09e-259\n",
       "Time:                        10:24:20   Log-Likelihood:                -21530.\n",
       "No. Observations:                5102   AIC:                         4.306e+04\n",
       "Df Residuals:                    5100   BIC:                         4.308e+04\n",
       "Df Model:                           1                                         \n",
       "Covariance Type:            nonrobust                                         \n",
       "==============================================================================\n",
       "                 coef    std err          t      P>|t|      [0.025      0.975]\n",
       "------------------------------------------------------------------------------\n",
       "Intercept    102.0935      0.685    149.120      0.000     100.751     103.436\n",
       "RIDAGEYR       0.4759      0.013     36.504      0.000       0.450       0.501\n",
       "==============================================================================\n",
       "Omnibus:                      690.261   Durbin-Watson:                   2.039\n",
       "Prob(Omnibus):                  0.000   Jarque-Bera (JB):             1505.999\n",
       "Skew:                           0.810   Prob(JB):                         0.00\n",
       "Kurtosis:                       5.112   Cond. No.                         156.\n",
       "==============================================================================\n",
       "\n",
       "Notes:\n",
       "[1] Standard Errors assume that the covariance matrix of the errors is correctly specified.\n",
       "\"\"\""
      ]
     },
     "execution_count": 6,
     "metadata": {},
     "output_type": "execute_result"
    }
   ],
   "source": [
    "# OLS Model of BPXSY1 with RIDAGEYR\n",
    "model = sm.OLS.from_formula(\"BPXSY1 ~ RIDAGEYR\", data=da)\n",
    "result = model.fit()\n",
    "result.summary()"
   ]
  },
  {
   "cell_type": "code",
   "execution_count": 7,
   "metadata": {
    "colab": {},
    "colab_type": "code",
    "id": "ykkYJIjogd9l",
    "outputId": "ee9589b1-3004-4ce5-ab4d-7ea3a8055fbf"
   },
   "outputs": [
    {
     "data": {
      "text/plain": [
       "18.486559500782416"
      ]
     },
     "execution_count": 7,
     "metadata": {},
     "output_type": "execute_result"
    }
   ],
   "source": [
    "da.BPXSY1.std()"
   ]
  },
  {
   "attachments": {},
   "cell_type": "markdown",
   "metadata": {
    "colab_type": "text",
    "id": "rs88E0iMgd9n"
   },
   "source": [
    "### R-squared and correlation\n",
    "\n",
    "The primary summary statistic for assessing the strength of a\n",
    "predictive relationship in a regression model is the *R-squared*, which is\n",
    "shown to be 0.207 in the regression output above.  This means that 21%\n",
    "of the variation in SBP is explained by age.  Note that this value is\n",
    "exactly the same as the squared Pearson correlation coefficient\n",
    "between SBP and age, as shown below."
   ]
  },
  {
   "cell_type": "code",
   "execution_count": 8,
   "metadata": {
    "colab": {},
    "colab_type": "code",
    "id": "ziJPW3M-gd9p",
    "outputId": "1382b4aa-a528-4f30-a575-6399995813ff"
   },
   "outputs": [
    {
     "name": "stdout",
     "output_type": "stream",
     "text": [
      "0.2071545962518702\n"
     ]
    }
   ],
   "source": [
    "cc = da[[\"BPXSY1\", \"RIDAGEYR\"]].corr()\n",
    "print(cc.BPXSY1.RIDAGEYR**2)"
   ]
  },
  {
   "attachments": {},
   "cell_type": "markdown",
   "metadata": {
    "colab_type": "text",
    "id": "1AmPwraTgd9s"
   },
   "source": [
    "### Adding a Second Predictor\n",
    "\n",
    "Now we will add gender to our initial model so we have two predictors, age and gender."
   ]
  },
  {
   "cell_type": "code",
   "execution_count": 9,
   "metadata": {
    "colab": {},
    "colab_type": "code",
    "id": "ztS5b0ptgd9t"
   },
   "outputs": [],
   "source": [
    "# Create a labeled version of the gender variable\n",
    "da[\"RIAGENDRx\"] = da.RIAGENDR.replace({1: \"Male\", 2: \"Female\"})"
   ]
  },
  {
   "cell_type": "code",
   "execution_count": 10,
   "metadata": {
    "colab": {},
    "colab_type": "code",
    "id": "1VSTpMLWgd9u",
    "outputId": "8ad2ccc3-cb12-48f0-d4da-2aeddbf638b7"
   },
   "outputs": [
    {
     "data": {
      "text/html": [
       "<table class=\"simpletable\">\n",
       "<caption>OLS Regression Results</caption>\n",
       "<tr>\n",
       "  <th>Dep. Variable:</th>         <td>BPXSY1</td>      <th>  R-squared:         </th> <td>   0.215</td> \n",
       "</tr>\n",
       "<tr>\n",
       "  <th>Model:</th>                   <td>OLS</td>       <th>  Adj. R-squared:    </th> <td>   0.214</td> \n",
       "</tr>\n",
       "<tr>\n",
       "  <th>Method:</th>             <td>Least Squares</td>  <th>  F-statistic:       </th> <td>   697.4</td> \n",
       "</tr>\n",
       "<tr>\n",
       "  <th>Date:</th>             <td>Sun, 11 Jun 2023</td> <th>  Prob (F-statistic):</th> <td>1.87e-268</td>\n",
       "</tr>\n",
       "<tr>\n",
       "  <th>Time:</th>                 <td>10:24:21</td>     <th>  Log-Likelihood:    </th> <td> -21505.</td> \n",
       "</tr>\n",
       "<tr>\n",
       "  <th>No. Observations:</th>      <td>  5102</td>      <th>  AIC:               </th> <td>4.302e+04</td>\n",
       "</tr>\n",
       "<tr>\n",
       "  <th>Df Residuals:</th>          <td>  5099</td>      <th>  BIC:               </th> <td>4.304e+04</td>\n",
       "</tr>\n",
       "<tr>\n",
       "  <th>Df Model:</th>              <td>     2</td>      <th>                     </th>     <td> </td>    \n",
       "</tr>\n",
       "<tr>\n",
       "  <th>Covariance Type:</th>      <td>nonrobust</td>    <th>                     </th>     <td> </td>    \n",
       "</tr>\n",
       "</table>\n",
       "<table class=\"simpletable\">\n",
       "<tr>\n",
       "          <td></td>             <th>coef</th>     <th>std err</th>      <th>t</th>      <th>P>|t|</th>  <th>[0.025</th>    <th>0.975]</th>  \n",
       "</tr>\n",
       "<tr>\n",
       "  <th>Intercept</th>         <td>  100.6305</td> <td>    0.712</td> <td>  141.257</td> <td> 0.000</td> <td>   99.234</td> <td>  102.027</td>\n",
       "</tr>\n",
       "<tr>\n",
       "  <th>RIAGENDRx[T.Male]</th> <td>    3.2322</td> <td>    0.459</td> <td>    7.040</td> <td> 0.000</td> <td>    2.332</td> <td>    4.132</td>\n",
       "</tr>\n",
       "<tr>\n",
       "  <th>RIDAGEYR</th>          <td>    0.4739</td> <td>    0.013</td> <td>   36.518</td> <td> 0.000</td> <td>    0.448</td> <td>    0.499</td>\n",
       "</tr>\n",
       "</table>\n",
       "<table class=\"simpletable\">\n",
       "<tr>\n",
       "  <th>Omnibus:</th>       <td>706.732</td> <th>  Durbin-Watson:     </th> <td>   2.036</td>\n",
       "</tr>\n",
       "<tr>\n",
       "  <th>Prob(Omnibus):</th> <td> 0.000</td>  <th>  Jarque-Bera (JB):  </th> <td>1582.730</td>\n",
       "</tr>\n",
       "<tr>\n",
       "  <th>Skew:</th>          <td> 0.818</td>  <th>  Prob(JB):          </th> <td>    0.00</td>\n",
       "</tr>\n",
       "<tr>\n",
       "  <th>Kurtosis:</th>      <td> 5.184</td>  <th>  Cond. No.          </th> <td>    168.</td>\n",
       "</tr>\n",
       "</table><br/><br/>Notes:<br/>[1] Standard Errors assume that the covariance matrix of the errors is correctly specified."
      ],
      "text/plain": [
       "<class 'statsmodels.iolib.summary.Summary'>\n",
       "\"\"\"\n",
       "                            OLS Regression Results                            \n",
       "==============================================================================\n",
       "Dep. Variable:                 BPXSY1   R-squared:                       0.215\n",
       "Model:                            OLS   Adj. R-squared:                  0.214\n",
       "Method:                 Least Squares   F-statistic:                     697.4\n",
       "Date:                Sun, 11 Jun 2023   Prob (F-statistic):          1.87e-268\n",
       "Time:                        10:24:21   Log-Likelihood:                -21505.\n",
       "No. Observations:                5102   AIC:                         4.302e+04\n",
       "Df Residuals:                    5099   BIC:                         4.304e+04\n",
       "Df Model:                           2                                         \n",
       "Covariance Type:            nonrobust                                         \n",
       "=====================================================================================\n",
       "                        coef    std err          t      P>|t|      [0.025      0.975]\n",
       "-------------------------------------------------------------------------------------\n",
       "Intercept           100.6305      0.712    141.257      0.000      99.234     102.027\n",
       "RIAGENDRx[T.Male]     3.2322      0.459      7.040      0.000       2.332       4.132\n",
       "RIDAGEYR              0.4739      0.013     36.518      0.000       0.448       0.499\n",
       "==============================================================================\n",
       "Omnibus:                      706.732   Durbin-Watson:                   2.036\n",
       "Prob(Omnibus):                  0.000   Jarque-Bera (JB):             1582.730\n",
       "Skew:                           0.818   Prob(JB):                         0.00\n",
       "Kurtosis:                       5.184   Cond. No.                         168.\n",
       "==============================================================================\n",
       "\n",
       "Notes:\n",
       "[1] Standard Errors assume that the covariance matrix of the errors is correctly specified.\n",
       "\"\"\""
      ]
     },
     "execution_count": 10,
     "metadata": {},
     "output_type": "execute_result"
    }
   ],
   "source": [
    "model = sm.OLS.from_formula(\"BPXSY1 ~ RIDAGEYR + RIAGENDRx\", data=da)\n",
    "result = model.fit()\n",
    "result.summary()"
   ]
  },
  {
   "attachments": {},
   "cell_type": "markdown",
   "metadata": {
    "colab_type": "text",
    "id": "xfPLqR0agd9y"
   },
   "source": [
    "The syntax `RIDAGEYR + RIAGENDRx` in the cell above does not mean\n",
    "that these two variables are literally added together.  Instead,\n",
    "it means that these variables are both included in the model as\n",
    "predictors of blood pressure (`BPXSY1`).\n",
    "\n",
    "The model that was fit above uses both age and gender to explain the\n",
    "variation in SBP.  It finds that two people with the same gender whose\n",
    "ages differ by one year tend to have blood pressure values differing\n",
    "by 0.47 units, which is essentially the same gender parameter that we found above in\n",
    "the model based on age alone.  This model also shows us that comparing\n",
    "a man and a woman of the same age, the man will on average have 3.23 units\n",
    "greater SBP.\n",
    "\n",
    "It is very important to emphasize that the age coefficient of 0.47 is\n",
    "only meaningful when comparing two people of the same gender, and the\n",
    "gender coefficient of 3.23 is only meaningful when comparing two\n",
    "people of the same age.\n",
    "Moreover, these effects are additive, meaning that if we compare, say, a 50 year\n",
    "old man to a 40 year old woman, the man's blood pressure will on\n",
    "average be around 3.23 + 10*0.47 = 7.93 units higher, with the first\n",
    "term in this sum being attributable to gender, and the second term\n",
    "being attributable to age.\n",
    "\n",
    "We noted above that the regression coefficient for age did not change\n",
    "by much when we added gender to the model.  It is important to note\n",
    "however that in general, the estimated coefficient of a variable in a\n",
    "regression model will change when other variables are added or\n",
    "removed.  We see here that a coefficient is nearly unchanged if any\n",
    "variables that are added to or removed from the model are\n",
    "approximately uncorrelated with the other covariates that are already\n",
    "in the model.\n",
    "\n",
    "Below we confirm that gender and age are nearly uncorrelated in this\n",
    "data set (the correlation of around -0.02 is negligible):"
   ]
  },
  {
   "cell_type": "code",
   "execution_count": 11,
   "metadata": {
    "colab": {},
    "colab_type": "code",
    "id": "pQXMD09lgd9z",
    "outputId": "a7d887fa-c813-4d90-8c8b-0bc3df23c289"
   },
   "outputs": [
    {
     "data": {
      "text/html": [
       "<div>\n",
       "<style scoped>\n",
       "    .dataframe tbody tr th:only-of-type {\n",
       "        vertical-align: middle;\n",
       "    }\n",
       "\n",
       "    .dataframe tbody tr th {\n",
       "        vertical-align: top;\n",
       "    }\n",
       "\n",
       "    .dataframe thead th {\n",
       "        text-align: right;\n",
       "    }\n",
       "</style>\n",
       "<table border=\"1\" class=\"dataframe\">\n",
       "  <thead>\n",
       "    <tr style=\"text-align: right;\">\n",
       "      <th></th>\n",
       "      <th>RIDAGEYR</th>\n",
       "      <th>RIAGENDR</th>\n",
       "    </tr>\n",
       "  </thead>\n",
       "  <tbody>\n",
       "    <tr>\n",
       "      <th>RIDAGEYR</th>\n",
       "      <td>1.000000</td>\n",
       "      <td>-0.021398</td>\n",
       "    </tr>\n",
       "    <tr>\n",
       "      <th>RIAGENDR</th>\n",
       "      <td>-0.021398</td>\n",
       "      <td>1.000000</td>\n",
       "    </tr>\n",
       "  </tbody>\n",
       "</table>\n",
       "</div>"
      ],
      "text/plain": [
       "          RIDAGEYR  RIAGENDR\n",
       "RIDAGEYR  1.000000 -0.021398\n",
       "RIAGENDR -0.021398  1.000000"
      ]
     },
     "execution_count": 11,
     "metadata": {},
     "output_type": "execute_result"
    }
   ],
   "source": [
    "# We need to use the original, numerical version of the gender\n",
    "# variable to calculate the correlation coefficient.\n",
    "da[[\"RIDAGEYR\", \"RIAGENDR\"]].corr()"
   ]
  },
  {
   "attachments": {},
   "cell_type": "markdown",
   "metadata": {
    "colab_type": "text",
    "id": "k0Tl6mtngd92"
   },
   "source": [
    "### A model with three variables\n",
    "\n",
    "Next we add a third variable, body mass index (BMI), to the model predicting SBP.\n",
    "[BMI](https://en.wikipedia.org/wiki/Body_mass_index) is a measure that is used\n",
    "to assess if a person has healthy weight given their height.\n",
    "[BMXBMI](https://wwwn.cdc.gov/Nchs/Nhanes/2015-2016/BMX_I.htm#BMXBMI)\n",
    "is the NHANES variable containing the BMI value for each subject."
   ]
  },
  {
   "cell_type": "code",
   "execution_count": 12,
   "metadata": {
    "colab": {},
    "colab_type": "code",
    "id": "mxFsbNOFgd93",
    "outputId": "d6324212-40a1-43ac-b872-c5c037d4dcbf"
   },
   "outputs": [
    {
     "data": {
      "text/html": [
       "<table class=\"simpletable\">\n",
       "<caption>OLS Regression Results</caption>\n",
       "<tr>\n",
       "  <th>Dep. Variable:</th>         <td>BPXSY1</td>      <th>  R-squared:         </th> <td>   0.228</td> \n",
       "</tr>\n",
       "<tr>\n",
       "  <th>Model:</th>                   <td>OLS</td>       <th>  Adj. R-squared:    </th> <td>   0.228</td> \n",
       "</tr>\n",
       "<tr>\n",
       "  <th>Method:</th>             <td>Least Squares</td>  <th>  F-statistic:       </th> <td>   502.0</td> \n",
       "</tr>\n",
       "<tr>\n",
       "  <th>Date:</th>             <td>Sun, 11 Jun 2023</td> <th>  Prob (F-statistic):</th> <td>8.54e-286</td>\n",
       "</tr>\n",
       "<tr>\n",
       "  <th>Time:</th>                 <td>10:24:21</td>     <th>  Log-Likelihood:    </th> <td> -21461.</td> \n",
       "</tr>\n",
       "<tr>\n",
       "  <th>No. Observations:</th>      <td>  5102</td>      <th>  AIC:               </th> <td>4.293e+04</td>\n",
       "</tr>\n",
       "<tr>\n",
       "  <th>Df Residuals:</th>          <td>  5098</td>      <th>  BIC:               </th> <td>4.296e+04</td>\n",
       "</tr>\n",
       "<tr>\n",
       "  <th>Df Model:</th>              <td>     3</td>      <th>                     </th>     <td> </td>    \n",
       "</tr>\n",
       "<tr>\n",
       "  <th>Covariance Type:</th>      <td>nonrobust</td>    <th>                     </th>     <td> </td>    \n",
       "</tr>\n",
       "</table>\n",
       "<table class=\"simpletable\">\n",
       "<tr>\n",
       "          <td></td>             <th>coef</th>     <th>std err</th>      <th>t</th>      <th>P>|t|</th>  <th>[0.025</th>    <th>0.975]</th>  \n",
       "</tr>\n",
       "<tr>\n",
       "  <th>Intercept</th>         <td>   91.5840</td> <td>    1.198</td> <td>   76.456</td> <td> 0.000</td> <td>   89.236</td> <td>   93.932</td>\n",
       "</tr>\n",
       "<tr>\n",
       "  <th>RIAGENDRx[T.Male]</th> <td>    3.5783</td> <td>    0.457</td> <td>    7.833</td> <td> 0.000</td> <td>    2.683</td> <td>    4.474</td>\n",
       "</tr>\n",
       "<tr>\n",
       "  <th>RIDAGEYR</th>          <td>    0.4709</td> <td>    0.013</td> <td>   36.582</td> <td> 0.000</td> <td>    0.446</td> <td>    0.496</td>\n",
       "</tr>\n",
       "<tr>\n",
       "  <th>BMXBMI</th>            <td>    0.3060</td> <td>    0.033</td> <td>    9.351</td> <td> 0.000</td> <td>    0.242</td> <td>    0.370</td>\n",
       "</tr>\n",
       "</table>\n",
       "<table class=\"simpletable\">\n",
       "<tr>\n",
       "  <th>Omnibus:</th>       <td>752.325</td> <th>  Durbin-Watson:     </th> <td>   2.040</td>\n",
       "</tr>\n",
       "<tr>\n",
       "  <th>Prob(Omnibus):</th> <td> 0.000</td>  <th>  Jarque-Bera (JB):  </th> <td>1776.087</td>\n",
       "</tr>\n",
       "<tr>\n",
       "  <th>Skew:</th>          <td> 0.847</td>  <th>  Prob(JB):          </th> <td>    0.00</td>\n",
       "</tr>\n",
       "<tr>\n",
       "  <th>Kurtosis:</th>      <td> 5.343</td>  <th>  Cond. No.          </th> <td>    316.</td>\n",
       "</tr>\n",
       "</table><br/><br/>Notes:<br/>[1] Standard Errors assume that the covariance matrix of the errors is correctly specified."
      ],
      "text/plain": [
       "<class 'statsmodels.iolib.summary.Summary'>\n",
       "\"\"\"\n",
       "                            OLS Regression Results                            \n",
       "==============================================================================\n",
       "Dep. Variable:                 BPXSY1   R-squared:                       0.228\n",
       "Model:                            OLS   Adj. R-squared:                  0.228\n",
       "Method:                 Least Squares   F-statistic:                     502.0\n",
       "Date:                Sun, 11 Jun 2023   Prob (F-statistic):          8.54e-286\n",
       "Time:                        10:24:21   Log-Likelihood:                -21461.\n",
       "No. Observations:                5102   AIC:                         4.293e+04\n",
       "Df Residuals:                    5098   BIC:                         4.296e+04\n",
       "Df Model:                           3                                         \n",
       "Covariance Type:            nonrobust                                         \n",
       "=====================================================================================\n",
       "                        coef    std err          t      P>|t|      [0.025      0.975]\n",
       "-------------------------------------------------------------------------------------\n",
       "Intercept            91.5840      1.198     76.456      0.000      89.236      93.932\n",
       "RIAGENDRx[T.Male]     3.5783      0.457      7.833      0.000       2.683       4.474\n",
       "RIDAGEYR              0.4709      0.013     36.582      0.000       0.446       0.496\n",
       "BMXBMI                0.3060      0.033      9.351      0.000       0.242       0.370\n",
       "==============================================================================\n",
       "Omnibus:                      752.325   Durbin-Watson:                   2.040\n",
       "Prob(Omnibus):                  0.000   Jarque-Bera (JB):             1776.087\n",
       "Skew:                           0.847   Prob(JB):                         0.00\n",
       "Kurtosis:                       5.343   Cond. No.                         316.\n",
       "==============================================================================\n",
       "\n",
       "Notes:\n",
       "[1] Standard Errors assume that the covariance matrix of the errors is correctly specified.\n",
       "\"\"\""
      ]
     },
     "execution_count": 12,
     "metadata": {},
     "output_type": "execute_result"
    }
   ],
   "source": [
    "model = sm.OLS.from_formula(\"BPXSY1 ~ RIDAGEYR + BMXBMI + RIAGENDRx\", data=da)\n",
    "result = model.fit()\n",
    "result.summary()"
   ]
  },
  {
   "attachments": {},
   "cell_type": "markdown",
   "metadata": {
    "colab_type": "text",
    "id": "NmdQDd1ugd96"
   },
   "source": [
    "Not surprisingly, BMI is positively associated with SBP.  Given two\n",
    "subjects with the same gender and age, and whose BMI differs by 1\n",
    "unit, the person with greater BMI will have, on average, 0.31 units\n",
    "greater systolic blood pressure (SBP).  Also note that after adding\n",
    "BMI to the model, the coefficient for gender became somewhat greater.\n",
    "This is due to the fact that the three covariates in the model, age,\n",
    "gender, and BMI, are mutually correlated, as shown next:"
   ]
  },
  {
   "cell_type": "code",
   "execution_count": 13,
   "metadata": {
    "colab": {},
    "colab_type": "code",
    "id": "BweSe7ozgd97",
    "outputId": "fc64c74e-d096-4577-c666-9ca1d0048a8c"
   },
   "outputs": [
    {
     "data": {
      "text/html": [
       "<div>\n",
       "<style scoped>\n",
       "    .dataframe tbody tr th:only-of-type {\n",
       "        vertical-align: middle;\n",
       "    }\n",
       "\n",
       "    .dataframe tbody tr th {\n",
       "        vertical-align: top;\n",
       "    }\n",
       "\n",
       "    .dataframe thead th {\n",
       "        text-align: right;\n",
       "    }\n",
       "</style>\n",
       "<table border=\"1\" class=\"dataframe\">\n",
       "  <thead>\n",
       "    <tr style=\"text-align: right;\">\n",
       "      <th></th>\n",
       "      <th>RIDAGEYR</th>\n",
       "      <th>RIAGENDR</th>\n",
       "      <th>BMXBMI</th>\n",
       "    </tr>\n",
       "  </thead>\n",
       "  <tbody>\n",
       "    <tr>\n",
       "      <th>RIDAGEYR</th>\n",
       "      <td>1.000000</td>\n",
       "      <td>-0.021398</td>\n",
       "      <td>0.023089</td>\n",
       "    </tr>\n",
       "    <tr>\n",
       "      <th>RIAGENDR</th>\n",
       "      <td>-0.021398</td>\n",
       "      <td>1.000000</td>\n",
       "      <td>0.080463</td>\n",
       "    </tr>\n",
       "    <tr>\n",
       "      <th>BMXBMI</th>\n",
       "      <td>0.023089</td>\n",
       "      <td>0.080463</td>\n",
       "      <td>1.000000</td>\n",
       "    </tr>\n",
       "  </tbody>\n",
       "</table>\n",
       "</div>"
      ],
      "text/plain": [
       "          RIDAGEYR  RIAGENDR    BMXBMI\n",
       "RIDAGEYR  1.000000 -0.021398  0.023089\n",
       "RIAGENDR -0.021398  1.000000  0.080463\n",
       "BMXBMI    0.023089  0.080463  1.000000"
      ]
     },
     "execution_count": 13,
     "metadata": {},
     "output_type": "execute_result"
    }
   ],
   "source": [
    "da[[\"RIDAGEYR\", \"RIAGENDR\", \"BMXBMI\"]].corr()"
   ]
  },
  {
   "attachments": {},
   "cell_type": "markdown",
   "metadata": {
    "colab_type": "text",
    "id": "Ksj41HDQgd-B"
   },
   "source": [
    "Although the correlations among these three variables are not strong,\n",
    "they are sufficient to induce fairly substantial differences in the\n",
    "regression coefficients (e.g. the gender coefficient changes from 3.23\n",
    "to 3.58).  In this example, the gender effect becomes larger after we\n",
    "control for BMI - we can take this to mean that BMI was masking part\n",
    "of the association between gender and blood pressure.  In other settings, including\n",
    "additional covariates can reduce the association between a covariate\n",
    "and an outcome.\n",
    "\n",
    "### Visualization of the Fitted Models\n",
    "\n",
    "In this section we demonstrate some graphing techniques that can be\n",
    "used to gain a better understanding of a regression model that has\n",
    "been fit to data."
   ]
  },
  {
   "cell_type": "code",
   "execution_count": 14,
   "metadata": {
    "colab": {},
    "colab_type": "code",
    "id": "bo4n664cgd-C",
    "outputId": "d52b0012-b92a-4db8-8e9e-115ba106c0ca"
   },
   "outputs": [
    {
     "ename": "TypeError",
     "evalue": "lineplot() takes from 0 to 1 positional arguments but 2 were given",
     "output_type": "error",
     "traceback": [
      "\u001b[1;31m---------------------------------------------------------------------------\u001b[0m",
      "\u001b[1;31mTypeError\u001b[0m                                 Traceback (most recent call last)",
      "Cell \u001b[1;32mIn[14], line 12\u001b[0m\n\u001b[0;32m      6\u001b[0m values \u001b[39m=\u001b[39m {\u001b[39m\"\u001b[39m\u001b[39mRIAGENDRx\u001b[39m\u001b[39m\"\u001b[39m: \u001b[39m\"\u001b[39m\u001b[39mFemale\u001b[39m\u001b[39m\"\u001b[39m, \u001b[39m\"\u001b[39m\u001b[39mRIAGENDR\u001b[39m\u001b[39m\"\u001b[39m: \u001b[39m1\u001b[39m, \u001b[39m\"\u001b[39m\u001b[39mBMXBMI\u001b[39m\u001b[39m\"\u001b[39m: \u001b[39m25\u001b[39m,\n\u001b[0;32m      7\u001b[0m           \u001b[39m\"\u001b[39m\u001b[39mDMDEDUC2\u001b[39m\u001b[39m\"\u001b[39m: \u001b[39m1\u001b[39m, \u001b[39m\"\u001b[39m\u001b[39mRIDRETH1\u001b[39m\u001b[39m\"\u001b[39m: \u001b[39m1\u001b[39m, \u001b[39m\"\u001b[39m\u001b[39mSMQ020\u001b[39m\u001b[39m\"\u001b[39m: \u001b[39m1\u001b[39m}\n\u001b[0;32m      9\u001b[0m pr, cb, fv \u001b[39m=\u001b[39m predict_functional(result, \u001b[39m\"\u001b[39m\u001b[39mRIDAGEYR\u001b[39m\u001b[39m\"\u001b[39m,\n\u001b[0;32m     10\u001b[0m                                 values\u001b[39m=\u001b[39mvalues, ci_method\u001b[39m=\u001b[39m\u001b[39m\"\u001b[39m\u001b[39msimultaneous\u001b[39m\u001b[39m\"\u001b[39m)\n\u001b[1;32m---> 12\u001b[0m ax \u001b[39m=\u001b[39m sns\u001b[39m.\u001b[39;49mlineplot(fv, pr, lw\u001b[39m=\u001b[39;49m\u001b[39m4\u001b[39;49m)\n\u001b[0;32m     13\u001b[0m ax\u001b[39m.\u001b[39mfill_between(fv, cb[:, \u001b[39m0\u001b[39m], cb[:, \u001b[39m1\u001b[39m], color\u001b[39m=\u001b[39m\u001b[39m'\u001b[39m\u001b[39mgrey\u001b[39m\u001b[39m'\u001b[39m, alpha\u001b[39m=\u001b[39m\u001b[39m0.4\u001b[39m)\n\u001b[0;32m     14\u001b[0m ax\u001b[39m.\u001b[39mset_xlabel(\u001b[39m\"\u001b[39m\u001b[39mAge\u001b[39m\u001b[39m\"\u001b[39m)\n",
      "\u001b[1;31mTypeError\u001b[0m: lineplot() takes from 0 to 1 positional arguments but 2 were given"
     ]
    }
   ],
   "source": [
    "from statsmodels.sandbox.predict_functional import predict_functional\n",
    "\n",
    "# Fix certain variables at reference values.  Not all of these\n",
    "# variables are used here, but we provide them with a value anyway\n",
    "# to prevent a warning message from appearing.\n",
    "values = {\"RIAGENDRx\": \"Female\", \"RIAGENDR\": 1, \"BMXBMI\": 25,\n",
    "          \"DMDEDUC2\": 1, \"RIDRETH1\": 1, \"SMQ020\": 1}\n",
    "\n",
    "pr, cb, fv = predict_functional(result, \"RIDAGEYR\",\n",
    "                                values=values, ci_method=\"simultaneous\")\n",
    "\n",
    "ax = sns.lineplot(fv, pr, lw=4)\n",
    "ax.fill_between(fv, cb[:, 0], cb[:, 1], color='grey', alpha=0.4)\n",
    "ax.set_xlabel(\"Age\")\n",
    "_ = ax.set_ylabel(\"SBP\")"
   ]
  },
  {
   "attachments": {},
   "cell_type": "markdown",
   "metadata": {
    "colab_type": "text",
    "id": "mxsw1flSgd-H"
   },
   "source": [
    "The analogous plot for BMI is shown next.  Here we fix the\n",
    "gender as \"female\" and the age at 50, so we are looking\n",
    "at the relationship between expected SBP and age for women\n",
    "of age 50."
   ]
  },
  {
   "cell_type": "code",
   "execution_count": null,
   "metadata": {
    "colab": {},
    "colab_type": "code",
    "id": "TPwn6l0Jgd-H",
    "outputId": "84544c55-ec66-4391-dc0f-86a62e2b8fa2"
   },
   "outputs": [],
   "source": [
    "del values[\"BMXBMI\"]\n",
    "values[\"RIDAGEYR\"] = 50\n",
    "pr, cb, fv = predict_functional(result, \"BMXBMI\",\n",
    "                                values=values, ci_method=\"simultaneous\")\n",
    "\n",
    "ax = sns.lineplot(fv, pr, lw=4)\n",
    "ax.fill_between(fv, cb[:, 0], cb[:, 1], color='grey', alpha=0.4)\n",
    "ax.set_xlabel(\"BMI\")\n",
    "_ = ax.set_ylabel(\"SBP\")"
   ]
  },
  {
   "attachments": {},
   "cell_type": "markdown",
   "metadata": {
    "colab_type": "text",
    "id": "ei8VexJogd-K"
   },
   "source": [
    "Below we show the plot of residuals on fitted values for the NHANES\n",
    "data.  It appears that we have a modestly increasing mean/variance\n",
    "relationship.  That is, the scatter around the mean blood pressure is\n",
    "greater when the mean blood pressure itself is greater."
   ]
  },
  {
   "cell_type": "code",
   "execution_count": null,
   "metadata": {
    "colab": {},
    "colab_type": "code",
    "id": "1uqfmjxbgd-M",
    "outputId": "1f6a0c57-b2b5-45ef-9df3-bc22c77917ba"
   },
   "outputs": [],
   "source": [
    "pp = sns.scatterplot(result.fittedvalues, result.resid)\n",
    "pp.set_xlabel(\"Fitted values\")\n",
    "_ = pp.set_ylabel(\"Residuals\")"
   ]
  },
  {
   "attachments": {},
   "cell_type": "markdown",
   "metadata": {
    "colab_type": "text",
    "id": "js_aaKzqgd-P"
   },
   "source": [
    "A \"component plus residual plot\" or \"partial residual plot\" is\n",
    "intended to show how the data would look if all but one covariate\n",
    "could be fixed at reference values.  By controlling the values of\n",
    "these covariates, all remaining variation is due either to the \"focus\n",
    "variable\" (the one variable that is left unfixed, and is plotted on\n",
    "the horizontal axis), or to sources of variation that are unexplained\n",
    "by any of our covariates.\n",
    "\n",
    "For example, the partial residual plot below shows how age (horizontal\n",
    "axis) and SBP (vertical axis) would be related if gender and BMI were\n",
    "fixed.  Note that the origin of the vertical axis in these plots is\n",
    "not meaningful (we are not implying that anyone's blood pressure would\n",
    "be negative), but the differences along the vertical axis are\n",
    "meaningful.  This plot implies that when BMI and gender are held\n",
    "fixed, the average blood pressures of an 80 and 18 year old differ by\n",
    "around 30 mm/Hg.  This plot also shows, as discussed above,\n",
    "that the deviations from the\n",
    "mean are somewhat smaller at the low end of the range compared to the\n",
    "high end of the range.  We also see that at the high end of the range, the\n",
    "deviations from the mean are somewhat right-skewed, with\n",
    "exceptionally high SBP values being more common than exceptionally low SBP values."
   ]
  },
  {
   "cell_type": "code",
   "execution_count": null,
   "metadata": {
    "colab": {},
    "colab_type": "code",
    "id": "XbRQLUd7gd-Q",
    "outputId": "044c8133-9214-4e7d-a7a6-65bed2eefa72"
   },
   "outputs": [],
   "source": [
    "from statsmodels.graphics.regressionplots import plot_ccpr\n",
    "\n",
    "ax = plt.axes()\n",
    "plot_ccpr(result, \"RIDAGEYR\", ax)\n",
    "_ = ax.lines[0].set_alpha(0.2)  # Reduce overplotting with transparency"
   ]
  },
  {
   "attachments": {},
   "cell_type": "markdown",
   "metadata": {
    "colab_type": "text",
    "id": "Rsh67Jfygd-T"
   },
   "source": [
    "Next we have a partial residual plot that shows how BMI (horizontal\n",
    "axis) and SBP (vertical axis) would be related if gender and age were\n",
    "fixed.  Compared to the plot above, we see here that age is more\n",
    "uniformly distributed than BMI.  Also, it appears that there is more\n",
    "scatter in the partial residuals for BMI compared to what we saw above\n",
    "for age. Thus there seems to be less information about SBP in BMI,\n",
    "although a trend certainly exists."
   ]
  },
  {
   "cell_type": "code",
   "execution_count": null,
   "metadata": {
    "colab": {},
    "colab_type": "code",
    "id": "YAhOQlzfgd-U",
    "outputId": "da1a8224-7f21-4804-9024-537fb73bf7c7"
   },
   "outputs": [],
   "source": [
    "ax = plt.axes()\n",
    "plot_ccpr(result, \"BMXBMI\", ax)\n",
    "_ = ax.lines[0].set_alpha(0.2)"
   ]
  }
 ],
 "metadata": {
  "colab": {
   "collapsed_sections": [],
   "name": "Linear Regression NHANES Walkthrough.ipynb",
   "provenance": [],
   "version": "0.3.2"
  },
  "kernelspec": {
   "display_name": "Python 3",
   "language": "python",
   "name": "python3"
  },
  "language_info": {
   "codemirror_mode": {
    "name": "ipython",
    "version": 3
   },
   "file_extension": ".py",
   "mimetype": "text/x-python",
   "name": "python",
   "nbconvert_exporter": "python",
   "pygments_lexer": "ipython3",
   "version": "3.11.0"
  }
 },
 "nbformat": 4,
 "nbformat_minor": 1
}
