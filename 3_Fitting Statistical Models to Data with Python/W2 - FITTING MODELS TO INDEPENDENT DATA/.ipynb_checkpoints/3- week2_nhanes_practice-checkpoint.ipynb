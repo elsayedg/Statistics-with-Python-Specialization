{
 "cells": [
  {
   "cell_type": "markdown",
   "metadata": {},
   "source": [
    "# Practice notebook for regression analysis with NHANES\n",
    "\n",
    "This notebook will give you the opportunity to perform some\n",
    "regression analyses with the NHANES data that are similar to\n",
    "the analyses done in the week 2 case study notebook.\n",
    "\n",
    "You can enter your code into the cells that say \"enter your code here\",\n",
    "and you can type responses to the questions into the cells that say \"Type Markdown and Latex\".\n",
    "\n",
    "Note that most of the code that you will need to write below is very similar\n",
    "to code that appears in the case study notebook.  You will need\n",
    "to edit code from that notebook in small ways to adapt it to the\n",
    "prompts below.\n",
    "\n",
    "To get started, we will use the same module imports and\n",
    "read the data in the same way as we did in the case study:"
   ]
  },
  {
   "cell_type": "code",
   "execution_count": 1,
   "metadata": {},
   "outputs": [],
   "source": [
    "%matplotlib inline\n",
    "import matplotlib.pyplot as plt\n",
    "import seaborn as sns\n",
    "import pandas as pd\n",
    "import statsmodels.api as sm\n",
    "import numpy as np\n",
    "\n",
    "url = \"https://raw.githubusercontent.com/kshedden/statswpy/master/NHANES/merged/nhanes_2015_2016.csv\"\n",
    "da = pd.read_csv(url)\n",
    "\n",
    "# Drop unused columns, drop rows with any missing values.\n",
    "vars = [\"BPXSY1\", \"RIDAGEYR\", \"RIAGENDR\", \"RIDRETH1\", \"DMDEDUC2\", \"BMXBMI\", \"SMQ020\",\"ALQ110\"]\n",
    "da = da[vars].dropna()"
   ]
  },
  {
   "cell_type": "markdown",
   "metadata": {},
   "source": [
    "## Question 1:\n",
    "\n",
    "Use linear regression to relate the expected body mass index (BMI) to a person's age."
   ]
  },
  {
   "cell_type": "code",
   "execution_count": 2,
   "metadata": {},
   "outputs": [
    {
     "data": {
      "text/html": [
       "<div>\n",
       "<style scoped>\n",
       "    .dataframe tbody tr th:only-of-type {\n",
       "        vertical-align: middle;\n",
       "    }\n",
       "\n",
       "    .dataframe tbody tr th {\n",
       "        vertical-align: top;\n",
       "    }\n",
       "\n",
       "    .dataframe thead th {\n",
       "        text-align: right;\n",
       "    }\n",
       "</style>\n",
       "<table border=\"1\" class=\"dataframe\">\n",
       "  <thead>\n",
       "    <tr style=\"text-align: right;\">\n",
       "      <th></th>\n",
       "      <th>BPXSY1</th>\n",
       "      <th>RIDAGEYR</th>\n",
       "      <th>RIAGENDR</th>\n",
       "      <th>RIDRETH1</th>\n",
       "      <th>DMDEDUC2</th>\n",
       "      <th>BMXBMI</th>\n",
       "      <th>SMQ020</th>\n",
       "      <th>ALQ110</th>\n",
       "    </tr>\n",
       "  </thead>\n",
       "  <tbody>\n",
       "    <tr>\n",
       "      <th>3</th>\n",
       "      <td>132.0</td>\n",
       "      <td>56</td>\n",
       "      <td>2</td>\n",
       "      <td>3</td>\n",
       "      <td>5.0</td>\n",
       "      <td>42.4</td>\n",
       "      <td>2</td>\n",
       "      <td>1.0</td>\n",
       "    </tr>\n",
       "    <tr>\n",
       "      <th>4</th>\n",
       "      <td>100.0</td>\n",
       "      <td>42</td>\n",
       "      <td>2</td>\n",
       "      <td>4</td>\n",
       "      <td>4.0</td>\n",
       "      <td>20.3</td>\n",
       "      <td>2</td>\n",
       "      <td>1.0</td>\n",
       "    </tr>\n",
       "    <tr>\n",
       "      <th>5</th>\n",
       "      <td>116.0</td>\n",
       "      <td>72</td>\n",
       "      <td>2</td>\n",
       "      <td>1</td>\n",
       "      <td>2.0</td>\n",
       "      <td>28.6</td>\n",
       "      <td>2</td>\n",
       "      <td>2.0</td>\n",
       "    </tr>\n",
       "    <tr>\n",
       "      <th>13</th>\n",
       "      <td>124.0</td>\n",
       "      <td>67</td>\n",
       "      <td>2</td>\n",
       "      <td>2</td>\n",
       "      <td>5.0</td>\n",
       "      <td>43.7</td>\n",
       "      <td>2</td>\n",
       "      <td>1.0</td>\n",
       "    </tr>\n",
       "    <tr>\n",
       "      <th>19</th>\n",
       "      <td>136.0</td>\n",
       "      <td>54</td>\n",
       "      <td>2</td>\n",
       "      <td>5</td>\n",
       "      <td>4.0</td>\n",
       "      <td>26.3</td>\n",
       "      <td>2</td>\n",
       "      <td>2.0</td>\n",
       "    </tr>\n",
       "  </tbody>\n",
       "</table>\n",
       "</div>"
      ],
      "text/plain": [
       "    BPXSY1  RIDAGEYR  RIAGENDR  RIDRETH1  DMDEDUC2  BMXBMI  SMQ020  ALQ110\n",
       "3    132.0        56         2         3       5.0    42.4       2     1.0\n",
       "4    100.0        42         2         4       4.0    20.3       2     1.0\n",
       "5    116.0        72         2         1       2.0    28.6       2     2.0\n",
       "13   124.0        67         2         2       5.0    43.7       2     1.0\n",
       "19   136.0        54         2         5       4.0    26.3       2     2.0"
      ]
     },
     "execution_count": 2,
     "metadata": {},
     "output_type": "execute_result"
    }
   ],
   "source": [
    "da.head()"
   ]
  },
  {
   "cell_type": "code",
   "execution_count": 3,
   "metadata": {},
   "outputs": [
    {
     "data": {
      "text/html": [
       "<table class=\"simpletable\">\n",
       "<caption>OLS Regression Results</caption>\n",
       "<tr>\n",
       "  <th>Dep. Variable:</th>         <td>BMXBMI</td>      <th>  R-squared:         </th> <td>   0.002</td> \n",
       "</tr>\n",
       "<tr>\n",
       "  <th>Model:</th>                   <td>OLS</td>       <th>  Adj. R-squared:    </th> <td>   0.001</td> \n",
       "</tr>\n",
       "<tr>\n",
       "  <th>Method:</th>             <td>Least Squares</td>  <th>  F-statistic:       </th> <td>   2.280</td> \n",
       "</tr>\n",
       "<tr>\n",
       "  <th>Date:</th>             <td>Thu, 22 Jun 2023</td> <th>  Prob (F-statistic):</th>  <td> 0.131</td>  \n",
       "</tr>\n",
       "<tr>\n",
       "  <th>Time:</th>                 <td>10:40:18</td>     <th>  Log-Likelihood:    </th> <td> -5033.1</td> \n",
       "</tr>\n",
       "<tr>\n",
       "  <th>No. Observations:</th>      <td>  1473</td>      <th>  AIC:               </th> <td>1.007e+04</td>\n",
       "</tr>\n",
       "<tr>\n",
       "  <th>Df Residuals:</th>          <td>  1471</td>      <th>  BIC:               </th> <td>1.008e+04</td>\n",
       "</tr>\n",
       "<tr>\n",
       "  <th>Df Model:</th>              <td>     1</td>      <th>                     </th>     <td> </td>    \n",
       "</tr>\n",
       "<tr>\n",
       "  <th>Covariance Type:</th>      <td>nonrobust</td>    <th>                     </th>     <td> </td>    \n",
       "</tr>\n",
       "</table>\n",
       "<table class=\"simpletable\">\n",
       "<tr>\n",
       "      <td></td>         <th>coef</th>     <th>std err</th>      <th>t</th>      <th>P>|t|</th>  <th>[0.025</th>    <th>0.975]</th>  \n",
       "</tr>\n",
       "<tr>\n",
       "  <th>Intercept</th> <td>   29.1093</td> <td>    0.596</td> <td>   48.871</td> <td> 0.000</td> <td>   27.941</td> <td>   30.278</td>\n",
       "</tr>\n",
       "<tr>\n",
       "  <th>RIDAGEYR</th>  <td>    0.0161</td> <td>    0.011</td> <td>    1.510</td> <td> 0.131</td> <td>   -0.005</td> <td>    0.037</td>\n",
       "</tr>\n",
       "</table>\n",
       "<table class=\"simpletable\">\n",
       "<tr>\n",
       "  <th>Omnibus:</th>       <td>263.915</td> <th>  Durbin-Watson:     </th> <td>   2.016</td> \n",
       "</tr>\n",
       "<tr>\n",
       "  <th>Prob(Omnibus):</th> <td> 0.000</td>  <th>  Jarque-Bera (JB):  </th> <td> 495.303</td> \n",
       "</tr>\n",
       "<tr>\n",
       "  <th>Skew:</th>          <td> 1.083</td>  <th>  Prob(JB):          </th> <td>2.79e-108</td>\n",
       "</tr>\n",
       "<tr>\n",
       "  <th>Kurtosis:</th>      <td> 4.838</td>  <th>  Cond. No.          </th> <td>    173.</td> \n",
       "</tr>\n",
       "</table><br/><br/>Notes:<br/>[1] Standard Errors assume that the covariance matrix of the errors is correctly specified."
      ],
      "text/latex": [
       "\\begin{center}\n",
       "\\begin{tabular}{lclc}\n",
       "\\toprule\n",
       "\\textbf{Dep. Variable:}    &      BMXBMI      & \\textbf{  R-squared:         } &     0.002   \\\\\n",
       "\\textbf{Model:}            &       OLS        & \\textbf{  Adj. R-squared:    } &     0.001   \\\\\n",
       "\\textbf{Method:}           &  Least Squares   & \\textbf{  F-statistic:       } &     2.280   \\\\\n",
       "\\textbf{Date:}             & Thu, 22 Jun 2023 & \\textbf{  Prob (F-statistic):} &    0.131    \\\\\n",
       "\\textbf{Time:}             &     10:40:18     & \\textbf{  Log-Likelihood:    } &   -5033.1   \\\\\n",
       "\\textbf{No. Observations:} &        1473      & \\textbf{  AIC:               } & 1.007e+04   \\\\\n",
       "\\textbf{Df Residuals:}     &        1471      & \\textbf{  BIC:               } & 1.008e+04   \\\\\n",
       "\\textbf{Df Model:}         &           1      & \\textbf{                     } &             \\\\\n",
       "\\textbf{Covariance Type:}  &    nonrobust     & \\textbf{                     } &             \\\\\n",
       "\\bottomrule\n",
       "\\end{tabular}\n",
       "\\begin{tabular}{lcccccc}\n",
       "                   & \\textbf{coef} & \\textbf{std err} & \\textbf{t} & \\textbf{P$> |$t$|$} & \\textbf{[0.025} & \\textbf{0.975]}  \\\\\n",
       "\\midrule\n",
       "\\textbf{Intercept} &      29.1093  &        0.596     &    48.871  &         0.000        &       27.941    &       30.278     \\\\\n",
       "\\textbf{RIDAGEYR}  &       0.0161  &        0.011     &     1.510  &         0.131        &       -0.005    &        0.037     \\\\\n",
       "\\bottomrule\n",
       "\\end{tabular}\n",
       "\\begin{tabular}{lclc}\n",
       "\\textbf{Omnibus:}       & 263.915 & \\textbf{  Durbin-Watson:     } &     2.016  \\\\\n",
       "\\textbf{Prob(Omnibus):} &   0.000 & \\textbf{  Jarque-Bera (JB):  } &   495.303  \\\\\n",
       "\\textbf{Skew:}          &   1.083 & \\textbf{  Prob(JB):          } & 2.79e-108  \\\\\n",
       "\\textbf{Kurtosis:}      &   4.838 & \\textbf{  Cond. No.          } &      173.  \\\\\n",
       "\\bottomrule\n",
       "\\end{tabular}\n",
       "%\\caption{OLS Regression Results}\n",
       "\\end{center}\n",
       "\n",
       "Notes: \\newline\n",
       " [1] Standard Errors assume that the covariance matrix of the errors is correctly specified."
      ],
      "text/plain": [
       "<class 'statsmodels.iolib.summary.Summary'>\n",
       "\"\"\"\n",
       "                            OLS Regression Results                            \n",
       "==============================================================================\n",
       "Dep. Variable:                 BMXBMI   R-squared:                       0.002\n",
       "Model:                            OLS   Adj. R-squared:                  0.001\n",
       "Method:                 Least Squares   F-statistic:                     2.280\n",
       "Date:                Thu, 22 Jun 2023   Prob (F-statistic):              0.131\n",
       "Time:                        10:40:18   Log-Likelihood:                -5033.1\n",
       "No. Observations:                1473   AIC:                         1.007e+04\n",
       "Df Residuals:                    1471   BIC:                         1.008e+04\n",
       "Df Model:                           1                                         \n",
       "Covariance Type:            nonrobust                                         \n",
       "==============================================================================\n",
       "                 coef    std err          t      P>|t|      [0.025      0.975]\n",
       "------------------------------------------------------------------------------\n",
       "Intercept     29.1093      0.596     48.871      0.000      27.941      30.278\n",
       "RIDAGEYR       0.0161      0.011      1.510      0.131      -0.005       0.037\n",
       "==============================================================================\n",
       "Omnibus:                      263.915   Durbin-Watson:                   2.016\n",
       "Prob(Omnibus):                  0.000   Jarque-Bera (JB):              495.303\n",
       "Skew:                           1.083   Prob(JB):                    2.79e-108\n",
       "Kurtosis:                       4.838   Cond. No.                         173.\n",
       "==============================================================================\n",
       "\n",
       "Notes:\n",
       "[1] Standard Errors assume that the covariance matrix of the errors is correctly specified.\n",
       "\"\"\""
      ]
     },
     "execution_count": 3,
     "metadata": {},
     "output_type": "execute_result"
    }
   ],
   "source": [
    "# first i check for the correlation between them\n",
    "# da[['BMXBMI','RIDAGEYR']].corr()\n",
    "model = sm.OLS.from_formula(\"BMXBMI ~ RIDAGEYR\", data=da)\n",
    "result = model.fit()\n",
    "result.summary()"
   ]
  },
  {
   "cell_type": "markdown",
   "metadata": {},
   "source": [
    "__Q1a.__ According to your fitted model, do older people tend to have higher or lower BMI than younger people?"
   ]
  },
  {
   "cell_type": "markdown",
   "metadata": {},
   "source": [
    "my model tells me that the age is not a significant factor on BMI for a person "
   ]
  },
  {
   "cell_type": "markdown",
   "metadata": {},
   "source": [
    "__Q1b.__ Based your analysis, are you confident that there is a relationship between BMI and age in the population that NHANES represents?"
   ]
  },
  {
   "cell_type": "markdown",
   "metadata": {},
   "source": [
    "no their are no relationship between them the R square = 0 which means their isn't any"
   ]
  },
  {
   "cell_type": "markdown",
   "metadata": {},
   "source": [
    "__Q1c.__ By how much does the average BMI of a 40 year old differ from the average BMI of a 20 year old?"
   ]
  },
  {
   "cell_type": "markdown",
   "metadata": {},
   "source": [
    "if we use our equation it will be ==>  20 * .0091 = 0.182 which isn't much"
   ]
  },
  {
   "cell_type": "markdown",
   "metadata": {},
   "source": [
    "__Q1d.__ What fraction of the variation of BMI in this population is explained by age?"
   ]
  },
  {
   "cell_type": "markdown",
   "metadata": {},
   "source": [
    "if we consider R square it would be .001 and if we take the adjusted one it will be Zero percent"
   ]
  },
  {
   "cell_type": "markdown",
   "metadata": {},
   "source": [
    "## Question 2: \n",
    "\n",
    "Add gender and ethnicity as additional control variables to your linear model relating BMI to age.  You will need to recode the ethnic groups based\n",
    "on the values in the codebook entry for [RIDRETH1](https://wwwn.cdc.gov/Nchs/Nhanes/2015-2016/DEMO_I.htm#RIDRETH1)."
   ]
  },
  {
   "cell_type": "code",
   "execution_count": 4,
   "metadata": {},
   "outputs": [],
   "source": [
    "# enter your code here\n",
    "\"\"\"\n",
    "    1\tMexican American\t\t\n",
    "    2\tOther Hispanic\t\n",
    "    3\tNon-Hispanic White\t\n",
    "    4\tNon-Hispanic Black\t\n",
    "    5\tOther Race - Including Multi-Racial\n",
    "\"\"\"\n",
    "# da.RIDRETH1.value_counts()\n",
    "da['RIDRETH1x'] = da.RIDRETH1.replace(\n",
    "    {1: 'Mexican American', 2: 'Other Hispanic', 3: 'Non-Hispanic White', 4: 'Non-Hispanic Black', 5: 'Other Race'})\n",
    "\n",
    "da['RIAGENDRx'] = da['RIAGENDR'].replace({1: 'Male', 2: 'Female'})\n",
    "# da.RIDRETH1x.value_counts()"
   ]
  },
  {
   "cell_type": "code",
   "execution_count": 5,
   "metadata": {},
   "outputs": [
    {
     "data": {
      "text/html": [
       "<table class=\"simpletable\">\n",
       "<caption>OLS Regression Results</caption>\n",
       "<tr>\n",
       "  <th>Dep. Variable:</th>         <td>BMXBMI</td>      <th>  R-squared:         </th> <td>   0.089</td>\n",
       "</tr>\n",
       "<tr>\n",
       "  <th>Model:</th>                   <td>OLS</td>       <th>  Adj. R-squared:    </th> <td>   0.085</td>\n",
       "</tr>\n",
       "<tr>\n",
       "  <th>Method:</th>             <td>Least Squares</td>  <th>  F-statistic:       </th> <td>   23.80</td>\n",
       "</tr>\n",
       "<tr>\n",
       "  <th>Date:</th>             <td>Thu, 22 Jun 2023</td> <th>  Prob (F-statistic):</th> <td>5.55e-27</td>\n",
       "</tr>\n",
       "<tr>\n",
       "  <th>Time:</th>                 <td>10:40:19</td>     <th>  Log-Likelihood:    </th> <td> -4965.8</td>\n",
       "</tr>\n",
       "<tr>\n",
       "  <th>No. Observations:</th>      <td>  1473</td>      <th>  AIC:               </th> <td>   9946.</td>\n",
       "</tr>\n",
       "<tr>\n",
       "  <th>Df Residuals:</th>          <td>  1466</td>      <th>  BIC:               </th> <td>   9983.</td>\n",
       "</tr>\n",
       "<tr>\n",
       "  <th>Df Model:</th>              <td>     6</td>      <th>                     </th>     <td> </td>   \n",
       "</tr>\n",
       "<tr>\n",
       "  <th>Covariance Type:</th>      <td>nonrobust</td>    <th>                     </th>     <td> </td>   \n",
       "</tr>\n",
       "</table>\n",
       "<table class=\"simpletable\">\n",
       "<tr>\n",
       "                 <td></td>                    <th>coef</th>     <th>std err</th>      <th>t</th>      <th>P>|t|</th>  <th>[0.025</th>    <th>0.975]</th>  \n",
       "</tr>\n",
       "<tr>\n",
       "  <th>Intercept</th>                       <td>   29.2813</td> <td>    0.969</td> <td>   30.211</td> <td> 0.000</td> <td>   27.380</td> <td>   31.182</td>\n",
       "</tr>\n",
       "<tr>\n",
       "  <th>RIDRETH1x[T.Non-Hispanic Black]</th> <td>   -0.7502</td> <td>    0.569</td> <td>   -1.319</td> <td> 0.187</td> <td>   -1.866</td> <td>    0.366</td>\n",
       "</tr>\n",
       "<tr>\n",
       "  <th>RIDRETH1x[T.Non-Hispanic White]</th> <td>   -0.9866</td> <td>    0.562</td> <td>   -1.755</td> <td> 0.080</td> <td>   -2.090</td> <td>    0.116</td>\n",
       "</tr>\n",
       "<tr>\n",
       "  <th>RIDRETH1x[T.Other Hispanic]</th>     <td>   -1.0388</td> <td>    0.628</td> <td>   -1.654</td> <td> 0.098</td> <td>   -2.271</td> <td>    0.193</td>\n",
       "</tr>\n",
       "<tr>\n",
       "  <th>RIDRETH1x[T.Other Race]</th>         <td>   -5.8381</td> <td>    0.588</td> <td>   -9.920</td> <td> 0.000</td> <td>   -6.992</td> <td>   -4.684</td>\n",
       "</tr>\n",
       "<tr>\n",
       "  <th>RIDAGEYR</th>                        <td>    0.0058</td> <td>    0.010</td> <td>    0.560</td> <td> 0.576</td> <td>   -0.015</td> <td>    0.026</td>\n",
       "</tr>\n",
       "<tr>\n",
       "  <th>RIAGENDR</th>                        <td>    1.2017</td> <td>    0.407</td> <td>    2.949</td> <td> 0.003</td> <td>    0.402</td> <td>    2.001</td>\n",
       "</tr>\n",
       "</table>\n",
       "<table class=\"simpletable\">\n",
       "<tr>\n",
       "  <th>Omnibus:</th>       <td>256.385</td> <th>  Durbin-Watson:     </th> <td>   2.032</td> \n",
       "</tr>\n",
       "<tr>\n",
       "  <th>Prob(Omnibus):</th> <td> 0.000</td>  <th>  Jarque-Bera (JB):  </th> <td> 491.828</td> \n",
       "</tr>\n",
       "<tr>\n",
       "  <th>Skew:</th>          <td> 1.044</td>  <th>  Prob(JB):          </th> <td>1.59e-107</td>\n",
       "</tr>\n",
       "<tr>\n",
       "  <th>Kurtosis:</th>      <td> 4.912</td>  <th>  Cond. No.          </th> <td>    348.</td> \n",
       "</tr>\n",
       "</table><br/><br/>Notes:<br/>[1] Standard Errors assume that the covariance matrix of the errors is correctly specified."
      ],
      "text/latex": [
       "\\begin{center}\n",
       "\\begin{tabular}{lclc}\n",
       "\\toprule\n",
       "\\textbf{Dep. Variable:}                  &      BMXBMI      & \\textbf{  R-squared:         } &     0.089   \\\\\n",
       "\\textbf{Model:}                          &       OLS        & \\textbf{  Adj. R-squared:    } &     0.085   \\\\\n",
       "\\textbf{Method:}                         &  Least Squares   & \\textbf{  F-statistic:       } &     23.80   \\\\\n",
       "\\textbf{Date:}                           & Thu, 22 Jun 2023 & \\textbf{  Prob (F-statistic):} &  5.55e-27   \\\\\n",
       "\\textbf{Time:}                           &     10:40:19     & \\textbf{  Log-Likelihood:    } &   -4965.8   \\\\\n",
       "\\textbf{No. Observations:}               &        1473      & \\textbf{  AIC:               } &     9946.   \\\\\n",
       "\\textbf{Df Residuals:}                   &        1466      & \\textbf{  BIC:               } &     9983.   \\\\\n",
       "\\textbf{Df Model:}                       &           6      & \\textbf{                     } &             \\\\\n",
       "\\textbf{Covariance Type:}                &    nonrobust     & \\textbf{                     } &             \\\\\n",
       "\\bottomrule\n",
       "\\end{tabular}\n",
       "\\begin{tabular}{lcccccc}\n",
       "                                         & \\textbf{coef} & \\textbf{std err} & \\textbf{t} & \\textbf{P$> |$t$|$} & \\textbf{[0.025} & \\textbf{0.975]}  \\\\\n",
       "\\midrule\n",
       "\\textbf{Intercept}                       &      29.2813  &        0.969     &    30.211  &         0.000        &       27.380    &       31.182     \\\\\n",
       "\\textbf{RIDRETH1x[T.Non-Hispanic Black]} &      -0.7502  &        0.569     &    -1.319  &         0.187        &       -1.866    &        0.366     \\\\\n",
       "\\textbf{RIDRETH1x[T.Non-Hispanic White]} &      -0.9866  &        0.562     &    -1.755  &         0.080        &       -2.090    &        0.116     \\\\\n",
       "\\textbf{RIDRETH1x[T.Other Hispanic]}     &      -1.0388  &        0.628     &    -1.654  &         0.098        &       -2.271    &        0.193     \\\\\n",
       "\\textbf{RIDRETH1x[T.Other Race]}         &      -5.8381  &        0.588     &    -9.920  &         0.000        &       -6.992    &       -4.684     \\\\\n",
       "\\textbf{RIDAGEYR}                        &       0.0058  &        0.010     &     0.560  &         0.576        &       -0.015    &        0.026     \\\\\n",
       "\\textbf{RIAGENDR}                        &       1.2017  &        0.407     &     2.949  &         0.003        &        0.402    &        2.001     \\\\\n",
       "\\bottomrule\n",
       "\\end{tabular}\n",
       "\\begin{tabular}{lclc}\n",
       "\\textbf{Omnibus:}       & 256.385 & \\textbf{  Durbin-Watson:     } &     2.032  \\\\\n",
       "\\textbf{Prob(Omnibus):} &   0.000 & \\textbf{  Jarque-Bera (JB):  } &   491.828  \\\\\n",
       "\\textbf{Skew:}          &   1.044 & \\textbf{  Prob(JB):          } & 1.59e-107  \\\\\n",
       "\\textbf{Kurtosis:}      &   4.912 & \\textbf{  Cond. No.          } &      348.  \\\\\n",
       "\\bottomrule\n",
       "\\end{tabular}\n",
       "%\\caption{OLS Regression Results}\n",
       "\\end{center}\n",
       "\n",
       "Notes: \\newline\n",
       " [1] Standard Errors assume that the covariance matrix of the errors is correctly specified."
      ],
      "text/plain": [
       "<class 'statsmodels.iolib.summary.Summary'>\n",
       "\"\"\"\n",
       "                            OLS Regression Results                            \n",
       "==============================================================================\n",
       "Dep. Variable:                 BMXBMI   R-squared:                       0.089\n",
       "Model:                            OLS   Adj. R-squared:                  0.085\n",
       "Method:                 Least Squares   F-statistic:                     23.80\n",
       "Date:                Thu, 22 Jun 2023   Prob (F-statistic):           5.55e-27\n",
       "Time:                        10:40:19   Log-Likelihood:                -4965.8\n",
       "No. Observations:                1473   AIC:                             9946.\n",
       "Df Residuals:                    1466   BIC:                             9983.\n",
       "Df Model:                           6                                         \n",
       "Covariance Type:            nonrobust                                         \n",
       "===================================================================================================\n",
       "                                      coef    std err          t      P>|t|      [0.025      0.975]\n",
       "---------------------------------------------------------------------------------------------------\n",
       "Intercept                          29.2813      0.969     30.211      0.000      27.380      31.182\n",
       "RIDRETH1x[T.Non-Hispanic Black]    -0.7502      0.569     -1.319      0.187      -1.866       0.366\n",
       "RIDRETH1x[T.Non-Hispanic White]    -0.9866      0.562     -1.755      0.080      -2.090       0.116\n",
       "RIDRETH1x[T.Other Hispanic]        -1.0388      0.628     -1.654      0.098      -2.271       0.193\n",
       "RIDRETH1x[T.Other Race]            -5.8381      0.588     -9.920      0.000      -6.992      -4.684\n",
       "RIDAGEYR                            0.0058      0.010      0.560      0.576      -0.015       0.026\n",
       "RIAGENDR                            1.2017      0.407      2.949      0.003       0.402       2.001\n",
       "==============================================================================\n",
       "Omnibus:                      256.385   Durbin-Watson:                   2.032\n",
       "Prob(Omnibus):                  0.000   Jarque-Bera (JB):              491.828\n",
       "Skew:                           1.044   Prob(JB):                    1.59e-107\n",
       "Kurtosis:                       4.912   Cond. No.                         348.\n",
       "==============================================================================\n",
       "\n",
       "Notes:\n",
       "[1] Standard Errors assume that the covariance matrix of the errors is correctly specified.\n",
       "\"\"\""
      ]
     },
     "execution_count": 5,
     "metadata": {},
     "output_type": "execute_result"
    }
   ],
   "source": [
    "model = sm.OLS.from_formula(\"BMXBMI ~ RIDAGEYR + RIAGENDR +RIDRETH1x\", data=da)\n",
    "result = model.fit()\n",
    "result.summary()"
   ]
  },
  {
   "cell_type": "markdown",
   "metadata": {},
   "source": [
    "__Q2a.__ How did the mean relationship between BMI and age change when you added additional covariates to the model?"
   ]
  },
  {
   "cell_type": "markdown",
   "metadata": {},
   "source": [
    "it decreased a little from 0.0091 to 0.0065  it become more   not significant "
   ]
  },
  {
   "cell_type": "markdown",
   "metadata": {},
   "source": [
    "__Q2b.__ How did the standard error for the regression parameter for age change when you added additional covariates to the model?"
   ]
  },
  {
   "cell_type": "markdown",
   "metadata": {},
   "source": [
    "  and the standard error decreased also means that our calculation becomes more accurate  .006 to 0.005"
   ]
  },
  {
   "cell_type": "markdown",
   "metadata": {},
   "source": [
    "__Q2c.__ How much additional variation in BMI is explained by age, gender, and ethnicity that is not explained by age alone?"
   ]
  },
  {
   "cell_type": "markdown",
   "metadata": {},
   "source": [
    "5.4 % of our data variability  can be explained by this model "
   ]
  },
  {
   "cell_type": "markdown",
   "metadata": {},
   "source": [
    "__Q2d.__ What reference level did the software select for the ethnicity variable?"
   ]
  },
  {
   "cell_type": "markdown",
   "metadata": {},
   "source": [
    "Mexican American"
   ]
  },
  {
   "cell_type": "markdown",
   "metadata": {},
   "source": [
    "__Q2e.__ What is the expected difference between the BMI of a 40 year-old non-Hispanic black man and a 30 year-old non-Hispanic black man?"
   ]
  },
  {
   "cell_type": "markdown",
   "metadata": {},
   "source": [
    "this means that all other coefficient are held constant so we will use the coefficient of age \n",
    "it will be calculated like this ==> 0.0065 * 10 which is the difference at age \n",
    "so, the answer will be 0.065 of BMI between them \n",
    "\n",
    "we can calculate it by equation in these 3 steps \n",
    "expected difference \n",
    "1- for 40 years old BMI = 29.1908\t- 0.4499\t+ (0.0065 * 40) = 29.0009\n",
    "2- for 30 years old BMI = 29.1908\t- 0.4499\t+ (0.0065 * 30) = 28.9359\n",
    "3- the difference is    = 29.0009   - 28.9359   =  0.065"
   ]
  },
  {
   "cell_type": "markdown",
   "metadata": {},
   "source": [
    "__Q2f.__ What is the expected difference between the BMI of a 50 year-old Mexican American woman and a 50 year-old non-Hispanic black man?"
   ]
  },
  {
   "cell_type": "code",
   "execution_count": 6,
   "metadata": {},
   "outputs": [
    {
     "data": {
      "text/html": [
       "<table class=\"simpletable\">\n",
       "<caption>OLS Regression Results</caption>\n",
       "<tr>\n",
       "  <th>Dep. Variable:</th>         <td>BMXBMI</td>      <th>  R-squared:         </th> <td>   0.089</td>\n",
       "</tr>\n",
       "<tr>\n",
       "  <th>Model:</th>                   <td>OLS</td>       <th>  Adj. R-squared:    </th> <td>   0.085</td>\n",
       "</tr>\n",
       "<tr>\n",
       "  <th>Method:</th>             <td>Least Squares</td>  <th>  F-statistic:       </th> <td>   23.80</td>\n",
       "</tr>\n",
       "<tr>\n",
       "  <th>Date:</th>             <td>Thu, 22 Jun 2023</td> <th>  Prob (F-statistic):</th> <td>5.55e-27</td>\n",
       "</tr>\n",
       "<tr>\n",
       "  <th>Time:</th>                 <td>10:40:19</td>     <th>  Log-Likelihood:    </th> <td> -4965.8</td>\n",
       "</tr>\n",
       "<tr>\n",
       "  <th>No. Observations:</th>      <td>  1473</td>      <th>  AIC:               </th> <td>   9946.</td>\n",
       "</tr>\n",
       "<tr>\n",
       "  <th>Df Residuals:</th>          <td>  1466</td>      <th>  BIC:               </th> <td>   9983.</td>\n",
       "</tr>\n",
       "<tr>\n",
       "  <th>Df Model:</th>              <td>     6</td>      <th>                     </th>     <td> </td>   \n",
       "</tr>\n",
       "<tr>\n",
       "  <th>Covariance Type:</th>      <td>nonrobust</td>    <th>                     </th>     <td> </td>   \n",
       "</tr>\n",
       "</table>\n",
       "<table class=\"simpletable\">\n",
       "<tr>\n",
       "                 <td></td>                    <th>coef</th>     <th>std err</th>      <th>t</th>      <th>P>|t|</th>  <th>[0.025</th>    <th>0.975]</th>  \n",
       "</tr>\n",
       "<tr>\n",
       "  <th>Intercept</th>                       <td>   31.6846</td> <td>    0.682</td> <td>   46.453</td> <td> 0.000</td> <td>   30.347</td> <td>   33.023</td>\n",
       "</tr>\n",
       "<tr>\n",
       "  <th>RIAGENDRx[T.Male]</th>               <td>   -1.2017</td> <td>    0.407</td> <td>   -2.949</td> <td> 0.003</td> <td>   -2.001</td> <td>   -0.402</td>\n",
       "</tr>\n",
       "<tr>\n",
       "  <th>RIDRETH1x[T.Non-Hispanic Black]</th> <td>   -0.7502</td> <td>    0.569</td> <td>   -1.319</td> <td> 0.187</td> <td>   -1.866</td> <td>    0.366</td>\n",
       "</tr>\n",
       "<tr>\n",
       "  <th>RIDRETH1x[T.Non-Hispanic White]</th> <td>   -0.9866</td> <td>    0.562</td> <td>   -1.755</td> <td> 0.080</td> <td>   -2.090</td> <td>    0.116</td>\n",
       "</tr>\n",
       "<tr>\n",
       "  <th>RIDRETH1x[T.Other Hispanic]</th>     <td>   -1.0388</td> <td>    0.628</td> <td>   -1.654</td> <td> 0.098</td> <td>   -2.271</td> <td>    0.193</td>\n",
       "</tr>\n",
       "<tr>\n",
       "  <th>RIDRETH1x[T.Other Race]</th>         <td>   -5.8381</td> <td>    0.588</td> <td>   -9.920</td> <td> 0.000</td> <td>   -6.992</td> <td>   -4.684</td>\n",
       "</tr>\n",
       "<tr>\n",
       "  <th>RIDAGEYR</th>                        <td>    0.0058</td> <td>    0.010</td> <td>    0.560</td> <td> 0.576</td> <td>   -0.015</td> <td>    0.026</td>\n",
       "</tr>\n",
       "</table>\n",
       "<table class=\"simpletable\">\n",
       "<tr>\n",
       "  <th>Omnibus:</th>       <td>256.385</td> <th>  Durbin-Watson:     </th> <td>   2.032</td> \n",
       "</tr>\n",
       "<tr>\n",
       "  <th>Prob(Omnibus):</th> <td> 0.000</td>  <th>  Jarque-Bera (JB):  </th> <td> 491.828</td> \n",
       "</tr>\n",
       "<tr>\n",
       "  <th>Skew:</th>          <td> 1.044</td>  <th>  Prob(JB):          </th> <td>1.59e-107</td>\n",
       "</tr>\n",
       "<tr>\n",
       "  <th>Kurtosis:</th>      <td> 4.912</td>  <th>  Cond. No.          </th> <td>    306.</td> \n",
       "</tr>\n",
       "</table><br/><br/>Notes:<br/>[1] Standard Errors assume that the covariance matrix of the errors is correctly specified."
      ],
      "text/latex": [
       "\\begin{center}\n",
       "\\begin{tabular}{lclc}\n",
       "\\toprule\n",
       "\\textbf{Dep. Variable:}                  &      BMXBMI      & \\textbf{  R-squared:         } &     0.089   \\\\\n",
       "\\textbf{Model:}                          &       OLS        & \\textbf{  Adj. R-squared:    } &     0.085   \\\\\n",
       "\\textbf{Method:}                         &  Least Squares   & \\textbf{  F-statistic:       } &     23.80   \\\\\n",
       "\\textbf{Date:}                           & Thu, 22 Jun 2023 & \\textbf{  Prob (F-statistic):} &  5.55e-27   \\\\\n",
       "\\textbf{Time:}                           &     10:40:19     & \\textbf{  Log-Likelihood:    } &   -4965.8   \\\\\n",
       "\\textbf{No. Observations:}               &        1473      & \\textbf{  AIC:               } &     9946.   \\\\\n",
       "\\textbf{Df Residuals:}                   &        1466      & \\textbf{  BIC:               } &     9983.   \\\\\n",
       "\\textbf{Df Model:}                       &           6      & \\textbf{                     } &             \\\\\n",
       "\\textbf{Covariance Type:}                &    nonrobust     & \\textbf{                     } &             \\\\\n",
       "\\bottomrule\n",
       "\\end{tabular}\n",
       "\\begin{tabular}{lcccccc}\n",
       "                                         & \\textbf{coef} & \\textbf{std err} & \\textbf{t} & \\textbf{P$> |$t$|$} & \\textbf{[0.025} & \\textbf{0.975]}  \\\\\n",
       "\\midrule\n",
       "\\textbf{Intercept}                       &      31.6846  &        0.682     &    46.453  &         0.000        &       30.347    &       33.023     \\\\\n",
       "\\textbf{RIAGENDRx[T.Male]}               &      -1.2017  &        0.407     &    -2.949  &         0.003        &       -2.001    &       -0.402     \\\\\n",
       "\\textbf{RIDRETH1x[T.Non-Hispanic Black]} &      -0.7502  &        0.569     &    -1.319  &         0.187        &       -1.866    &        0.366     \\\\\n",
       "\\textbf{RIDRETH1x[T.Non-Hispanic White]} &      -0.9866  &        0.562     &    -1.755  &         0.080        &       -2.090    &        0.116     \\\\\n",
       "\\textbf{RIDRETH1x[T.Other Hispanic]}     &      -1.0388  &        0.628     &    -1.654  &         0.098        &       -2.271    &        0.193     \\\\\n",
       "\\textbf{RIDRETH1x[T.Other Race]}         &      -5.8381  &        0.588     &    -9.920  &         0.000        &       -6.992    &       -4.684     \\\\\n",
       "\\textbf{RIDAGEYR}                        &       0.0058  &        0.010     &     0.560  &         0.576        &       -0.015    &        0.026     \\\\\n",
       "\\bottomrule\n",
       "\\end{tabular}\n",
       "\\begin{tabular}{lclc}\n",
       "\\textbf{Omnibus:}       & 256.385 & \\textbf{  Durbin-Watson:     } &     2.032  \\\\\n",
       "\\textbf{Prob(Omnibus):} &   0.000 & \\textbf{  Jarque-Bera (JB):  } &   491.828  \\\\\n",
       "\\textbf{Skew:}          &   1.044 & \\textbf{  Prob(JB):          } & 1.59e-107  \\\\\n",
       "\\textbf{Kurtosis:}      &   4.912 & \\textbf{  Cond. No.          } &      306.  \\\\\n",
       "\\bottomrule\n",
       "\\end{tabular}\n",
       "%\\caption{OLS Regression Results}\n",
       "\\end{center}\n",
       "\n",
       "Notes: \\newline\n",
       " [1] Standard Errors assume that the covariance matrix of the errors is correctly specified."
      ],
      "text/plain": [
       "<class 'statsmodels.iolib.summary.Summary'>\n",
       "\"\"\"\n",
       "                            OLS Regression Results                            \n",
       "==============================================================================\n",
       "Dep. Variable:                 BMXBMI   R-squared:                       0.089\n",
       "Model:                            OLS   Adj. R-squared:                  0.085\n",
       "Method:                 Least Squares   F-statistic:                     23.80\n",
       "Date:                Thu, 22 Jun 2023   Prob (F-statistic):           5.55e-27\n",
       "Time:                        10:40:19   Log-Likelihood:                -4965.8\n",
       "No. Observations:                1473   AIC:                             9946.\n",
       "Df Residuals:                    1466   BIC:                             9983.\n",
       "Df Model:                           6                                         \n",
       "Covariance Type:            nonrobust                                         \n",
       "===================================================================================================\n",
       "                                      coef    std err          t      P>|t|      [0.025      0.975]\n",
       "---------------------------------------------------------------------------------------------------\n",
       "Intercept                          31.6846      0.682     46.453      0.000      30.347      33.023\n",
       "RIAGENDRx[T.Male]                  -1.2017      0.407     -2.949      0.003      -2.001      -0.402\n",
       "RIDRETH1x[T.Non-Hispanic Black]    -0.7502      0.569     -1.319      0.187      -1.866       0.366\n",
       "RIDRETH1x[T.Non-Hispanic White]    -0.9866      0.562     -1.755      0.080      -2.090       0.116\n",
       "RIDRETH1x[T.Other Hispanic]        -1.0388      0.628     -1.654      0.098      -2.271       0.193\n",
       "RIDRETH1x[T.Other Race]            -5.8381      0.588     -9.920      0.000      -6.992      -4.684\n",
       "RIDAGEYR                            0.0058      0.010      0.560      0.576      -0.015       0.026\n",
       "==============================================================================\n",
       "Omnibus:                      256.385   Durbin-Watson:                   2.032\n",
       "Prob(Omnibus):                  0.000   Jarque-Bera (JB):              491.828\n",
       "Skew:                           1.044   Prob(JB):                    1.59e-107\n",
       "Kurtosis:                       4.912   Cond. No.                         306.\n",
       "==============================================================================\n",
       "\n",
       "Notes:\n",
       "[1] Standard Errors assume that the covariance matrix of the errors is correctly specified.\n",
       "\"\"\""
      ]
     },
     "execution_count": 6,
     "metadata": {},
     "output_type": "execute_result"
    }
   ],
   "source": [
    "# i will add the gender to calculate the difference between man and woman in the last question\n",
    "model = sm.OLS.from_formula(\n",
    "    \"BMXBMI ~ RIDAGEYR + RIAGENDRx +RIDRETH1x\", data=da)\n",
    "result = model.fit()\n",
    "result.summary()"
   ]
  },
  {
   "cell_type": "markdown",
   "metadata": {},
   "source": [
    "because the age are the same and all other variables are held constant any way so we can get the \n",
    "difference from coefficient alone intercept in the above is for Mexican American woman if all other so \n",
    "the only difference could be age but the in this question it's even the same so, the difference will be the coefficient of the Non-Hispanic Black = -0.4499 \n"
   ]
  },
  {
   "cell_type": "markdown",
   "metadata": {},
   "source": [
    "## Question 3: \n",
    "\n",
    "Randomly sample 25% of the NHANES data, then fit the same model you used in question 2 to this data set."
   ]
  },
  {
   "cell_type": "code",
   "execution_count": 7,
   "metadata": {},
   "outputs": [
    {
     "data": {
      "text/html": [
       "<table class=\"simpletable\">\n",
       "<caption>OLS Regression Results</caption>\n",
       "<tr>\n",
       "  <th>Dep. Variable:</th>         <td>BMXBMI</td>      <th>  R-squared:         </th> <td>   0.110</td>\n",
       "</tr>\n",
       "<tr>\n",
       "  <th>Model:</th>                   <td>OLS</td>       <th>  Adj. R-squared:    </th> <td>   0.095</td>\n",
       "</tr>\n",
       "<tr>\n",
       "  <th>Method:</th>             <td>Least Squares</td>  <th>  F-statistic:       </th> <td>   7.450</td>\n",
       "</tr>\n",
       "<tr>\n",
       "  <th>Date:</th>             <td>Thu, 22 Jun 2023</td> <th>  Prob (F-statistic):</th> <td>1.55e-07</td>\n",
       "</tr>\n",
       "<tr>\n",
       "  <th>Time:</th>                 <td>10:40:19</td>     <th>  Log-Likelihood:    </th> <td> -1207.9</td>\n",
       "</tr>\n",
       "<tr>\n",
       "  <th>No. Observations:</th>      <td>   368</td>      <th>  AIC:               </th> <td>   2430.</td>\n",
       "</tr>\n",
       "<tr>\n",
       "  <th>Df Residuals:</th>          <td>   361</td>      <th>  BIC:               </th> <td>   2457.</td>\n",
       "</tr>\n",
       "<tr>\n",
       "  <th>Df Model:</th>              <td>     6</td>      <th>                     </th>     <td> </td>   \n",
       "</tr>\n",
       "<tr>\n",
       "  <th>Covariance Type:</th>      <td>nonrobust</td>    <th>                     </th>     <td> </td>   \n",
       "</tr>\n",
       "</table>\n",
       "<table class=\"simpletable\">\n",
       "<tr>\n",
       "                 <td></td>                    <th>coef</th>     <th>std err</th>      <th>t</th>      <th>P>|t|</th>  <th>[0.025</th>    <th>0.975]</th>  \n",
       "</tr>\n",
       "<tr>\n",
       "  <th>Intercept</th>                       <td>   31.7004</td> <td>    1.333</td> <td>   23.778</td> <td> 0.000</td> <td>   29.079</td> <td>   34.322</td>\n",
       "</tr>\n",
       "<tr>\n",
       "  <th>RIAGENDRx[T.Male]</th>               <td>   -2.2352</td> <td>    0.767</td> <td>   -2.915</td> <td> 0.004</td> <td>   -3.743</td> <td>   -0.727</td>\n",
       "</tr>\n",
       "<tr>\n",
       "  <th>RIDRETH1x[T.Non-Hispanic Black]</th> <td>   -1.0951</td> <td>    1.012</td> <td>   -1.082</td> <td> 0.280</td> <td>   -3.085</td> <td>    0.895</td>\n",
       "</tr>\n",
       "<tr>\n",
       "  <th>RIDRETH1x[T.Non-Hispanic White]</th> <td>   -1.3022</td> <td>    1.044</td> <td>   -1.248</td> <td> 0.213</td> <td>   -3.355</td> <td>    0.751</td>\n",
       "</tr>\n",
       "<tr>\n",
       "  <th>RIDRETH1x[T.Other Hispanic]</th>     <td>   -0.7685</td> <td>    1.078</td> <td>   -0.713</td> <td> 0.477</td> <td>   -2.889</td> <td>    1.352</td>\n",
       "</tr>\n",
       "<tr>\n",
       "  <th>RIDRETH1x[T.Other Race]</th>         <td>   -5.6474</td> <td>    1.091</td> <td>   -5.176</td> <td> 0.000</td> <td>   -7.793</td> <td>   -3.502</td>\n",
       "</tr>\n",
       "<tr>\n",
       "  <th>RIDAGEYR</th>                        <td>    0.0110</td> <td>    0.019</td> <td>    0.562</td> <td> 0.574</td> <td>   -0.027</td> <td>    0.049</td>\n",
       "</tr>\n",
       "</table>\n",
       "<table class=\"simpletable\">\n",
       "<tr>\n",
       "  <th>Omnibus:</th>       <td>39.654</td> <th>  Durbin-Watson:     </th> <td>   1.898</td>\n",
       "</tr>\n",
       "<tr>\n",
       "  <th>Prob(Omnibus):</th> <td> 0.000</td> <th>  Jarque-Bera (JB):  </th> <td>  54.206</td>\n",
       "</tr>\n",
       "<tr>\n",
       "  <th>Skew:</th>          <td> 0.756</td> <th>  Prob(JB):          </th> <td>1.70e-12</td>\n",
       "</tr>\n",
       "<tr>\n",
       "  <th>Kurtosis:</th>      <td> 4.117</td> <th>  Cond. No.          </th> <td>    307.</td>\n",
       "</tr>\n",
       "</table><br/><br/>Notes:<br/>[1] Standard Errors assume that the covariance matrix of the errors is correctly specified."
      ],
      "text/latex": [
       "\\begin{center}\n",
       "\\begin{tabular}{lclc}\n",
       "\\toprule\n",
       "\\textbf{Dep. Variable:}                  &      BMXBMI      & \\textbf{  R-squared:         } &     0.110   \\\\\n",
       "\\textbf{Model:}                          &       OLS        & \\textbf{  Adj. R-squared:    } &     0.095   \\\\\n",
       "\\textbf{Method:}                         &  Least Squares   & \\textbf{  F-statistic:       } &     7.450   \\\\\n",
       "\\textbf{Date:}                           & Thu, 22 Jun 2023 & \\textbf{  Prob (F-statistic):} &  1.55e-07   \\\\\n",
       "\\textbf{Time:}                           &     10:40:19     & \\textbf{  Log-Likelihood:    } &   -1207.9   \\\\\n",
       "\\textbf{No. Observations:}               &         368      & \\textbf{  AIC:               } &     2430.   \\\\\n",
       "\\textbf{Df Residuals:}                   &         361      & \\textbf{  BIC:               } &     2457.   \\\\\n",
       "\\textbf{Df Model:}                       &           6      & \\textbf{                     } &             \\\\\n",
       "\\textbf{Covariance Type:}                &    nonrobust     & \\textbf{                     } &             \\\\\n",
       "\\bottomrule\n",
       "\\end{tabular}\n",
       "\\begin{tabular}{lcccccc}\n",
       "                                         & \\textbf{coef} & \\textbf{std err} & \\textbf{t} & \\textbf{P$> |$t$|$} & \\textbf{[0.025} & \\textbf{0.975]}  \\\\\n",
       "\\midrule\n",
       "\\textbf{Intercept}                       &      31.7004  &        1.333     &    23.778  &         0.000        &       29.079    &       34.322     \\\\\n",
       "\\textbf{RIAGENDRx[T.Male]}               &      -2.2352  &        0.767     &    -2.915  &         0.004        &       -3.743    &       -0.727     \\\\\n",
       "\\textbf{RIDRETH1x[T.Non-Hispanic Black]} &      -1.0951  &        1.012     &    -1.082  &         0.280        &       -3.085    &        0.895     \\\\\n",
       "\\textbf{RIDRETH1x[T.Non-Hispanic White]} &      -1.3022  &        1.044     &    -1.248  &         0.213        &       -3.355    &        0.751     \\\\\n",
       "\\textbf{RIDRETH1x[T.Other Hispanic]}     &      -0.7685  &        1.078     &    -0.713  &         0.477        &       -2.889    &        1.352     \\\\\n",
       "\\textbf{RIDRETH1x[T.Other Race]}         &      -5.6474  &        1.091     &    -5.176  &         0.000        &       -7.793    &       -3.502     \\\\\n",
       "\\textbf{RIDAGEYR}                        &       0.0110  &        0.019     &     0.562  &         0.574        &       -0.027    &        0.049     \\\\\n",
       "\\bottomrule\n",
       "\\end{tabular}\n",
       "\\begin{tabular}{lclc}\n",
       "\\textbf{Omnibus:}       & 39.654 & \\textbf{  Durbin-Watson:     } &    1.898  \\\\\n",
       "\\textbf{Prob(Omnibus):} &  0.000 & \\textbf{  Jarque-Bera (JB):  } &   54.206  \\\\\n",
       "\\textbf{Skew:}          &  0.756 & \\textbf{  Prob(JB):          } & 1.70e-12  \\\\\n",
       "\\textbf{Kurtosis:}      &  4.117 & \\textbf{  Cond. No.          } &     307.  \\\\\n",
       "\\bottomrule\n",
       "\\end{tabular}\n",
       "%\\caption{OLS Regression Results}\n",
       "\\end{center}\n",
       "\n",
       "Notes: \\newline\n",
       " [1] Standard Errors assume that the covariance matrix of the errors is correctly specified."
      ],
      "text/plain": [
       "<class 'statsmodels.iolib.summary.Summary'>\n",
       "\"\"\"\n",
       "                            OLS Regression Results                            \n",
       "==============================================================================\n",
       "Dep. Variable:                 BMXBMI   R-squared:                       0.110\n",
       "Model:                            OLS   Adj. R-squared:                  0.095\n",
       "Method:                 Least Squares   F-statistic:                     7.450\n",
       "Date:                Thu, 22 Jun 2023   Prob (F-statistic):           1.55e-07\n",
       "Time:                        10:40:19   Log-Likelihood:                -1207.9\n",
       "No. Observations:                 368   AIC:                             2430.\n",
       "Df Residuals:                     361   BIC:                             2457.\n",
       "Df Model:                           6                                         \n",
       "Covariance Type:            nonrobust                                         \n",
       "===================================================================================================\n",
       "                                      coef    std err          t      P>|t|      [0.025      0.975]\n",
       "---------------------------------------------------------------------------------------------------\n",
       "Intercept                          31.7004      1.333     23.778      0.000      29.079      34.322\n",
       "RIAGENDRx[T.Male]                  -2.2352      0.767     -2.915      0.004      -3.743      -0.727\n",
       "RIDRETH1x[T.Non-Hispanic Black]    -1.0951      1.012     -1.082      0.280      -3.085       0.895\n",
       "RIDRETH1x[T.Non-Hispanic White]    -1.3022      1.044     -1.248      0.213      -3.355       0.751\n",
       "RIDRETH1x[T.Other Hispanic]        -0.7685      1.078     -0.713      0.477      -2.889       1.352\n",
       "RIDRETH1x[T.Other Race]            -5.6474      1.091     -5.176      0.000      -7.793      -3.502\n",
       "RIDAGEYR                            0.0110      0.019      0.562      0.574      -0.027       0.049\n",
       "==============================================================================\n",
       "Omnibus:                       39.654   Durbin-Watson:                   1.898\n",
       "Prob(Omnibus):                  0.000   Jarque-Bera (JB):               54.206\n",
       "Skew:                           0.756   Prob(JB):                     1.70e-12\n",
       "Kurtosis:                       4.117   Cond. No.                         307.\n",
       "==============================================================================\n",
       "\n",
       "Notes:\n",
       "[1] Standard Errors assume that the covariance matrix of the errors is correctly specified.\n",
       "\"\"\""
      ]
     },
     "execution_count": 7,
     "metadata": {},
     "output_type": "execute_result"
    }
   ],
   "source": [
    "# enter your code here\n",
    "da25s = da.sample(int(len(da)*.25))\n",
    "# da25s.head()\n",
    "model = sm.OLS.from_formula(\n",
    "    \"BMXBMI ~ RIDAGEYR + RIAGENDRx +RIDRETH1x\", data=da25s)\n",
    "result = model.fit()\n",
    "result.summary()"
   ]
  },
  {
   "cell_type": "markdown",
   "metadata": {},
   "source": [
    "__Q3a.__ How do the estimated regression coefficients and their standard errors compare between these two models?  Do you see any systematic relationship between the two sets of results?"
   ]
  },
  {
   "cell_type": "markdown",
   "metadata": {},
   "source": [
    "it semis that the coefficient has decreased by almost 1 unit\n",
    "and the standard error decreased by half "
   ]
  },
  {
   "cell_type": "markdown",
   "metadata": {},
   "source": [
    "## Question 4:\n",
    "\n",
    "Generate a scatterplot of the residuals against the fitted values for the model you fit in question 2."
   ]
  },
  {
   "cell_type": "code",
   "execution_count": 8,
   "metadata": {},
   "outputs": [],
   "source": [
    "model = sm.OLS.from_formula(\n",
    "    \"BMXBMI ~ RIDAGEYR + RIAGENDRx +RIDRETH1x\", data=da)\n",
    "result = model.fit()"
   ]
  },
  {
   "cell_type": "code",
   "execution_count": 9,
   "metadata": {},
   "outputs": [
    {
     "data": {
      "image/png": "[encoded data removed]",
      "text/plain": [
       "<Figure size 640x480 with 1 Axes>"
      ]
     },
     "metadata": {},
     "output_type": "display_data"
    }
   ],
   "source": [
    "pp = sns.scatterplot(x=result.fittedvalues, y=result.resid)\n",
    "pp.set_xlabel(\"Fitted values\")\n",
    "_ = pp.set_ylabel(\"Residuals\")"
   ]
  },
  {
   "cell_type": "markdown",
   "metadata": {},
   "source": [
    "__Q4a.__ What mean/variance relationship do you see?"
   ]
  },
  {
   "cell_type": "markdown",
   "metadata": {},
   "source": [
    "It appears that we have a modestly increasing mean/variance\n",
    "relationship.  That is, the scatter around the mean BMI is\n",
    "greater when the mean BMI itself is greater."
   ]
  },
  {
   "cell_type": "markdown",
   "metadata": {},
   "source": [
    "## Question 5: \n",
    "\n",
    "Generate a plot showing the fitted mean BMI as a function of age for Mexican American men.  Include a 95% simultaneous confidence band on your graph."
   ]
  },
  {
   "cell_type": "code",
   "execution_count": 10,
   "metadata": {},
   "outputs": [
    {
     "name": "stderr",
     "output_type": "stream",
     "text": [
      "C:\\Users\\engsa\\mambaforge\\envs\\ds\\Lib\\site-packages\\statsmodels\\sandbox\\predict_functional.py:169: ValueWarning: 'ALQ110', 'BPXSY1' in data frame but not in summaries or values.\n",
      "  warnings.warn(\"%s in data frame but not in summaries or values.\"\n",
      "C:\\Users\\engsa\\mambaforge\\envs\\ds\\Lib\\site-packages\\statsmodels\\sandbox\\predict_functional.py:169: ValueWarning: 'ALQ110', 'BPXSY1' in data frame but not in summaries or values.\n",
      "  warnings.warn(\"%s in data frame but not in summaries or values.\"\n"
     ]
    },
    {
     "data": {
      "image/png": "[encoded data removed]",
      "text/plain": [
       "<Figure size 640x480 with 1 Axes>"
      ]
     },
     "metadata": {},
     "output_type": "display_data"
    }
   ],
   "source": [
    "from statsmodels.sandbox.predict_functional import predict_functional\n",
    "\n",
    "# Fix certain variables at reference values.  Not all of these\n",
    "# variables are used here, but we provide them with a value anyway\n",
    "# to prevent a warning message from appearing.\n",
    "values = {\"RIAGENDRx\": \"Male\", \"RIAGENDR\": 1, \"RIDRETH1x\": 'Mexican American',\n",
    "          \"DMDEDUC2\": 1, \"RIDRETH1\": 1, \"SMQ020\": 1}\n",
    "\n",
    "pr, cb, fv = predict_functional(result, \"RIDAGEYR\",\n",
    "                                values=values, ci_method=\"simultaneous\")\n",
    "\n",
    "ax = sns.lineplot(x=fv, y=pr, lw=4)\n",
    "ax.fill_between(fv, cb[:, 0], cb[:, 1], color='grey', alpha=0.4)\n",
    "ax.set_xlabel(\"Age\")\n",
    "_ = ax.set_ylabel(\"BMI\")\n",
    "\n",
    "\n",
    "values = {\"RIAGENDRx\": \"Female\", \"RIAGENDR\": 2, \"RIDRETH1x\": 'Mexican American',\n",
    "          \"DMDEDUC2\": 1, \"RIDRETH1\": 1, \"SMQ020\": 1}\n",
    "\n",
    "pr, cb, fv = predict_functional(result, \"RIDAGEYR\",\n",
    "                                values=values, ci_method=\"simultaneous\")\n",
    "\n",
    "ax = sns.lineplot(x=fv, y=pr, lw=4)\n",
    "ax.fill_between(fv, cb[:, 0], cb[:, 1], color='grey', alpha=0.4)\n",
    "ax.set_xlabel(\"Age\")\n",
    "_ = ax.set_ylabel(\"BMI\")"
   ]
  },
  {
   "cell_type": "markdown",
   "metadata": {},
   "source": [
    "__Q5a.__ According to your graph, what is the longest interval starting at year 30 following which the mean BMI could be constant?  *Hint:* What is the longest horizontal line starting at age 30 that remains within the confidence band?"
   ]
  },
  {
   "cell_type": "markdown",
   "metadata": {},
   "source": [
    "if i understand the question right \n",
    "the line would be from age 30 on x axises and between 30 and 30.23 BMI this would be the longest line "
   ]
  },
  {
   "cell_type": "markdown",
   "metadata": {},
   "source": [
    "__Q5b.__ Add an additional line and confidence band to the same plot, showing the relationship between age and BMI for Mexican American women.  At what ages do these intervals not overlap?"
   ]
  },
  {
   "cell_type": "markdown",
   "metadata": {},
   "source": [
    "they overlap through the graph because we specified certain values for smoking we choose smoking ones \n",
    "and education lt9 least than 9  years of education  "
   ]
  },
  {
   "cell_type": "code",
   "execution_count": 11,
   "metadata": {},
   "outputs": [
    {
     "name": "stderr",
     "output_type": "stream",
     "text": [
      "C:\\Users\\engsa\\mambaforge\\envs\\ds\\Lib\\site-packages\\statsmodels\\sandbox\\predict_functional.py:169: ValueWarning: 'ALQ110' in data frame but not in summaries or values.\n",
      "  warnings.warn(\"%s in data frame but not in summaries or values.\"\n",
      "C:\\Users\\engsa\\mambaforge\\envs\\ds\\Lib\\site-packages\\statsmodels\\sandbox\\predict_functional.py:187: FutureWarning: In a future version, `df.iloc[:, i] = newvals` will attempt to set the values inplace instead of always setting a new array. To retain the old behavior, use either `df[df.columns[i]] = newvals` or, if columns are non-unique, `df.isetitem(i, newvals)`\n",
      "  fexog.loc[:, ky] = summaries[ky](exog.loc[:, ky])\n",
      "C:\\Users\\engsa\\mambaforge\\envs\\ds\\Lib\\site-packages\\statsmodels\\sandbox\\predict_functional.py:169: ValueWarning: 'ALQ110' in data frame but not in summaries or values.\n",
      "  warnings.warn(\"%s in data frame but not in summaries or values.\"\n",
      "C:\\Users\\engsa\\mambaforge\\envs\\ds\\Lib\\site-packages\\statsmodels\\sandbox\\predict_functional.py:187: FutureWarning: In a future version, `df.iloc[:, i] = newvals` will attempt to set the values inplace instead of always setting a new array. To retain the old behavior, use either `df[df.columns[i]] = newvals` or, if columns are non-unique, `df.isetitem(i, newvals)`\n",
      "  fexog.loc[:, ky] = summaries[ky](exog.loc[:, ky])\n"
     ]
    },
    {
     "data": {
      "image/png": "[encoded data removed]",
      "text/plain": [
       "<Figure size 640x480 with 1 Axes>"
      ]
     },
     "metadata": {},
     "output_type": "display_data"
    }
   ],
   "source": [
    "from statsmodels.sandbox.predict_functional import predict_functional\n",
    "import statistics\n",
    "# here we give the mean and mode for every other variable as we can see the cb changed\n",
    "summaries = {'BPXSY1': np.mean, 'SMQ020': np.mean, 'DMDEDUC2': statistics.mode,\n",
    "             'RIDRETH1': statistics.mode, 'RIAGENDR': statistics.mode}\n",
    "\n",
    "values = {\"RIAGENDRx\": \"Male\", \"RIDRETH1x\": 'Mexican American'}\n",
    "pr, cb, fv = predict_functional(result, \"RIDAGEYR\",\n",
    "                                values=values, summaries=summaries, ci_method=\"simultaneous\", alpha=0.1)\n",
    "\n",
    "ax = sns.lineplot(x=fv, y=pr, lw=4)\n",
    "ax.fill_between(fv, cb[:, 0], cb[:, 1], color='grey', alpha=0.4)\n",
    "ax.set_xlabel(\"Age\")\n",
    "_ = ax.set_ylabel(\"BMI\")\n",
    "\n",
    "values = {\"RIAGENDRx\": \"Female\", \"RIDRETH1x\": 'Mexican American'}\n",
    "pr, cb, fv = predict_functional(result, \"RIDAGEYR\",\n",
    "                                values=values, summaries=summaries, ci_method=\"simultaneous\", alpha=0.1)\n",
    "\n",
    "ax = sns.lineplot(x=fv, y=pr, lw=4)\n",
    "ax.fill_between(fv, cb[:, 0], cb[:, 1], color='grey', alpha=0.4)\n",
    "ax.set_xlabel(\"Age\")\n",
    "_ = ax.set_ylabel(\"BMI\")"
   ]
  },
  {
   "cell_type": "markdown",
   "metadata": {},
   "source": [
    "so we could say if we choose the mean and the mode in every other variable we could see that their is a difference from age 35 to 60 roughly their is a difference between Males and Females during this ages  "
   ]
  },
  {
   "cell_type": "markdown",
   "metadata": {},
   "source": [
    "## Question 6:\n",
    "\n",
    "Use an added variable plot to assess the linearity of the relationship between BMI and age (when controlling for gender and ethnicity)."
   ]
  },
  {
   "cell_type": "code",
   "execution_count": 12,
   "metadata": {},
   "outputs": [],
   "source": [
    "# filter the data for females mexican american\n",
    "df = da.loc[(da[\"RIAGENDRx\"] == \"Female\") & (\n",
    "    da[\"RIDRETH1x\"] == 'Mexican American')]"
   ]
  },
  {
   "cell_type": "code",
   "execution_count": 13,
   "metadata": {},
   "outputs": [
    {
     "data": {
      "image/png": "[encoded data removed]",
      "text/plain": [
       "<Figure size 640x480 with 1 Axes>"
      ]
     },
     "metadata": {},
     "output_type": "display_data"
    }
   ],
   "source": [
    "# This is not part of the main Statsmodels API, so needs to be imported separately\n",
    "from statsmodels.graphics.regressionplots import add_lowess\n",
    "\n",
    "# This is an equivalent way to fit a linear regression model, it needs to be\n",
    "# done this way to be able to make the added variable plot\n",
    "\n",
    "model = sm.GLM.from_formula(\"BMXBMI ~ RIDAGEYR\", data=df)\n",
    "result = model.fit()\n",
    "result.summary()\n",
    "\n",
    "fig = result.plot_added_variable(\"RIDAGEYR\")\n",
    "ax = fig.get_axes()[0]\n",
    "ax.lines[0].set_alpha(0.2)\n",
    "_ = add_lowess(ax)"
   ]
  },
  {
   "cell_type": "markdown",
   "metadata": {},
   "source": [
    "__Q6a.__ What is your interpretation of the added variable plot?"
   ]
  },
  {
   "cell_type": "markdown",
   "metadata": {},
   "source": [
    "the relationships between the age and BMI is not linear as we think,\n",
    "it has some waves to it \n",
    "we could say that every 10 years has it's own relationship \n",
    "from 20 to 30 the the BMI has negative relationship\n",
    "from 30 to 40 has positive and increased  \n",
    "from 40 to 45 some decrease and after that some stability for relationship with downward trend to it "
   ]
  },
  {
   "cell_type": "markdown",
   "metadata": {},
   "source": [
    "## Question 7: \n",
    "\n",
    "Generate a binary variable reflecting whether a person has had at least 12 drinks in their lifetime, based on the [ALQ110](https://wwwn.cdc.gov/Nchs/Nhanes/2015-2016/ALQ_I.htm#ALQ110) variable in NHANES.  Calculate the marginal probability, odds, and log odds of this variable for women and for men.  Then calculate the odds ratio for females relative to males."
   ]
  },
  {
   "cell_type": "code",
   "execution_count": 14,
   "metadata": {},
   "outputs": [
    {
     "data": {
      "text/plain": [
       "0.0    801\n",
       "1.0    667\n",
       "Name: ALQ110x, dtype: int64"
      ]
     },
     "execution_count": 14,
     "metadata": {},
     "output_type": "execute_result"
    }
   ],
   "source": [
    "# enter your code here 1 : y , 2 :n , 9:np.nan,7: np.nan\n",
    "da['ALQ110x'] = da.ALQ110.replace({2: 0, 9: np.nan, 7: np.nan}).dropna()\n",
    "da['ALQ110x'].value_counts()"
   ]
  },
  {
   "cell_type": "code",
   "execution_count": 15,
   "metadata": {},
   "outputs": [
    {
     "data": {
      "text/html": [
       "<div>\n",
       "<style scoped>\n",
       "    .dataframe tbody tr th:only-of-type {\n",
       "        vertical-align: middle;\n",
       "    }\n",
       "\n",
       "    .dataframe tbody tr th {\n",
       "        vertical-align: top;\n",
       "    }\n",
       "\n",
       "    .dataframe thead th {\n",
       "        text-align: right;\n",
       "    }\n",
       "</style>\n",
       "<table border=\"1\" class=\"dataframe\">\n",
       "  <thead>\n",
       "    <tr style=\"text-align: right;\">\n",
       "      <th>ALQ110x</th>\n",
       "      <th>0.0</th>\n",
       "      <th>1.0</th>\n",
       "      <th>odds</th>\n",
       "    </tr>\n",
       "    <tr>\n",
       "      <th>RIAGENDRx</th>\n",
       "      <th></th>\n",
       "      <th></th>\n",
       "      <th></th>\n",
       "    </tr>\n",
       "  </thead>\n",
       "  <tbody>\n",
       "    <tr>\n",
       "      <th>Female</th>\n",
       "      <td>0.549228</td>\n",
       "      <td>0.450772</td>\n",
       "      <td>0.820738</td>\n",
       "    </tr>\n",
       "    <tr>\n",
       "      <th>Male</th>\n",
       "      <td>0.537037</td>\n",
       "      <td>0.462963</td>\n",
       "      <td>0.862069</td>\n",
       "    </tr>\n",
       "  </tbody>\n",
       "</table>\n",
       "</div>"
      ],
      "text/plain": [
       "ALQ110x         0.0       1.0      odds\n",
       "RIAGENDRx                              \n",
       "Female     0.549228  0.450772  0.820738\n",
       "Male       0.537037  0.462963  0.862069"
      ]
     },
     "execution_count": 15,
     "metadata": {},
     "output_type": "execute_result"
    }
   ],
   "source": [
    "c = pd.crosstab(da.RIAGENDRx, da.ALQ110x).apply(lambda x: x/x.sum(), axis=1)\n",
    "c[\"odds\"] = c.loc[:, 1] / c.loc[:, 0]\n",
    "c"
   ]
  },
  {
   "cell_type": "code",
   "execution_count": 16,
   "metadata": {},
   "outputs": [
    {
     "data": {
      "text/plain": [
       "1.0503581185852469"
      ]
     },
     "execution_count": 16,
     "metadata": {},
     "output_type": "execute_result"
    }
   ],
   "source": [
    "c.odds.Male / c.odds.Female"
   ]
  },
  {
   "cell_type": "code",
   "execution_count": 17,
   "metadata": {},
   "outputs": [
    {
     "data": {
      "text/html": [
       "<div>\n",
       "<style scoped>\n",
       "    .dataframe tbody tr th:only-of-type {\n",
       "        vertical-align: middle;\n",
       "    }\n",
       "\n",
       "    .dataframe tbody tr th {\n",
       "        vertical-align: top;\n",
       "    }\n",
       "\n",
       "    .dataframe thead th {\n",
       "        text-align: right;\n",
       "    }\n",
       "</style>\n",
       "<table border=\"1\" class=\"dataframe\">\n",
       "  <thead>\n",
       "    <tr style=\"text-align: right;\">\n",
       "      <th>ALQ110x</th>\n",
       "      <th>0.0</th>\n",
       "      <th>1.0</th>\n",
       "      <th>odds</th>\n",
       "      <th>logodds</th>\n",
       "    </tr>\n",
       "    <tr>\n",
       "      <th>RIAGENDRx</th>\n",
       "      <th></th>\n",
       "      <th></th>\n",
       "      <th></th>\n",
       "      <th></th>\n",
       "    </tr>\n",
       "  </thead>\n",
       "  <tbody>\n",
       "    <tr>\n",
       "      <th>Female</th>\n",
       "      <td>0.549228</td>\n",
       "      <td>0.450772</td>\n",
       "      <td>0.820738</td>\n",
       "      <td>-0.197551</td>\n",
       "    </tr>\n",
       "    <tr>\n",
       "      <th>Male</th>\n",
       "      <td>0.537037</td>\n",
       "      <td>0.462963</td>\n",
       "      <td>0.862069</td>\n",
       "      <td>-0.148420</td>\n",
       "    </tr>\n",
       "  </tbody>\n",
       "</table>\n",
       "</div>"
      ],
      "text/plain": [
       "ALQ110x         0.0       1.0      odds   logodds\n",
       "RIAGENDRx                                        \n",
       "Female     0.549228  0.450772  0.820738 -0.197551\n",
       "Male       0.537037  0.462963  0.862069 -0.148420"
      ]
     },
     "execution_count": 17,
     "metadata": {},
     "output_type": "execute_result"
    }
   ],
   "source": [
    "c[\"logodds\"] = np.log(c.odds)\n",
    "c"
   ]
  },
  {
   "cell_type": "markdown",
   "metadata": {},
   "source": [
    "__Q7a.__ Based on the log odds alone, do more than 50% of women drink alcohol?"
   ]
  },
  {
   "cell_type": "markdown",
   "metadata": {},
   "source": [
    "no"
   ]
  },
  {
   "cell_type": "markdown",
   "metadata": {},
   "source": [
    "__Q7b.__ Does there appear to be an important difference between the alcohol use rate of women and men?"
   ]
  },
  {
   "cell_type": "markdown",
   "metadata": {},
   "source": [
    "no  only 1 (point) more males drink compared to females. men have 1.05x greater odds of drinking (e.g. 21 men drink for every 20 women that drink)."
   ]
  },
  {
   "cell_type": "markdown",
   "metadata": {},
   "source": [
    "## Question 8: \n",
    "\n",
    "Use logistic regression to express the log odds that a person drinks (based on the binary drinking variable that you constructed above) in terms of gender."
   ]
  },
  {
   "cell_type": "code",
   "execution_count": 18,
   "metadata": {},
   "outputs": [
    {
     "data": {
      "text/html": [
       "<table class=\"simpletable\">\n",
       "<caption>Generalized Linear Model Regression Results</caption>\n",
       "<tr>\n",
       "  <th>Dep. Variable:</th>        <td>ALQ110x</td>     <th>  No. Observations:  </th>  <td>  1468</td>  \n",
       "</tr>\n",
       "<tr>\n",
       "  <th>Model:</th>                  <td>GLM</td>       <th>  Df Residuals:      </th>  <td>  1466</td>  \n",
       "</tr>\n",
       "<tr>\n",
       "  <th>Model Family:</th>        <td>Binomial</td>     <th>  Df Model:          </th>  <td>     1</td>  \n",
       "</tr>\n",
       "<tr>\n",
       "  <th>Link Function:</th>         <td>Logit</td>      <th>  Scale:             </th> <td>  1.0000</td> \n",
       "</tr>\n",
       "<tr>\n",
       "  <th>Method:</th>                <td>IRLS</td>       <th>  Log-Likelihood:    </th> <td> -1011.3</td> \n",
       "</tr>\n",
       "<tr>\n",
       "  <th>Date:</th>            <td>Thu, 22 Jun 2023</td> <th>  Deviance:          </th> <td>  2022.6</td> \n",
       "</tr>\n",
       "<tr>\n",
       "  <th>Time:</th>                <td>10:40:20</td>     <th>  Pearson chi2:      </th> <td>1.47e+03</td> \n",
       "</tr>\n",
       "<tr>\n",
       "  <th>No. Iterations:</th>          <td>4</td>        <th>  Pseudo R-squ. (CS):</th> <td>0.0001244</td>\n",
       "</tr>\n",
       "<tr>\n",
       "  <th>Covariance Type:</th>     <td>nonrobust</td>    <th>                     </th>     <td> </td>    \n",
       "</tr>\n",
       "</table>\n",
       "<table class=\"simpletable\">\n",
       "<tr>\n",
       "          <td></td>             <th>coef</th>     <th>std err</th>      <th>z</th>      <th>P>|z|</th>  <th>[0.025</th>    <th>0.975]</th>  \n",
       "</tr>\n",
       "<tr>\n",
       "  <th>Intercept</th>         <td>   -0.1976</td> <td>    0.062</td> <td>   -3.164</td> <td> 0.002</td> <td>   -0.320</td> <td>   -0.075</td>\n",
       "</tr>\n",
       "<tr>\n",
       "  <th>RIAGENDRx[T.Male]</th> <td>    0.0491</td> <td>    0.115</td> <td>    0.427</td> <td> 0.669</td> <td>   -0.176</td> <td>    0.274</td>\n",
       "</tr>\n",
       "</table>"
      ],
      "text/latex": [
       "\\begin{center}\n",
       "\\begin{tabular}{lclc}\n",
       "\\toprule\n",
       "\\textbf{Dep. Variable:}    &     ALQ110x      & \\textbf{  No. Observations:  } &     1468    \\\\\n",
       "\\textbf{Model:}            &       GLM        & \\textbf{  Df Residuals:      } &     1466    \\\\\n",
       "\\textbf{Model Family:}     &     Binomial     & \\textbf{  Df Model:          } &        1    \\\\\n",
       "\\textbf{Link Function:}    &      Logit       & \\textbf{  Scale:             } &    1.0000   \\\\\n",
       "\\textbf{Method:}           &       IRLS       & \\textbf{  Log-Likelihood:    } &   -1011.3   \\\\\n",
       "\\textbf{Date:}             & Thu, 22 Jun 2023 & \\textbf{  Deviance:          } &    2022.6   \\\\\n",
       "\\textbf{Time:}             &     10:40:20     & \\textbf{  Pearson chi2:      } &  1.47e+03   \\\\\n",
       "\\textbf{No. Iterations:}   &        4         & \\textbf{  Pseudo R-squ. (CS):} & 0.0001244   \\\\\n",
       "\\textbf{Covariance Type:}  &    nonrobust     & \\textbf{                     } &             \\\\\n",
       "\\bottomrule\n",
       "\\end{tabular}\n",
       "\\begin{tabular}{lcccccc}\n",
       "                           & \\textbf{coef} & \\textbf{std err} & \\textbf{z} & \\textbf{P$> |$z$|$} & \\textbf{[0.025} & \\textbf{0.975]}  \\\\\n",
       "\\midrule\n",
       "\\textbf{Intercept}         &      -0.1976  &        0.062     &    -3.164  &         0.002        &       -0.320    &       -0.075     \\\\\n",
       "\\textbf{RIAGENDRx[T.Male]} &       0.0491  &        0.115     &     0.427  &         0.669        &       -0.176    &        0.274     \\\\\n",
       "\\bottomrule\n",
       "\\end{tabular}\n",
       "%\\caption{Generalized Linear Model Regression Results}\n",
       "\\end{center}"
      ],
      "text/plain": [
       "<class 'statsmodels.iolib.summary.Summary'>\n",
       "\"\"\"\n",
       "                 Generalized Linear Model Regression Results                  \n",
       "==============================================================================\n",
       "Dep. Variable:                ALQ110x   No. Observations:                 1468\n",
       "Model:                            GLM   Df Residuals:                     1466\n",
       "Model Family:                Binomial   Df Model:                            1\n",
       "Link Function:                  Logit   Scale:                          1.0000\n",
       "Method:                          IRLS   Log-Likelihood:                -1011.3\n",
       "Date:                Thu, 22 Jun 2023   Deviance:                       2022.6\n",
       "Time:                        10:40:20   Pearson chi2:                 1.47e+03\n",
       "No. Iterations:                     4   Pseudo R-squ. (CS):          0.0001244\n",
       "Covariance Type:            nonrobust                                         \n",
       "=====================================================================================\n",
       "                        coef    std err          z      P>|z|      [0.025      0.975]\n",
       "-------------------------------------------------------------------------------------\n",
       "Intercept            -0.1976      0.062     -3.164      0.002      -0.320      -0.075\n",
       "RIAGENDRx[T.Male]     0.0491      0.115      0.427      0.669      -0.176       0.274\n",
       "=====================================================================================\n",
       "\"\"\""
      ]
     },
     "execution_count": 18,
     "metadata": {},
     "output_type": "execute_result"
    }
   ],
   "source": [
    "# enter your code here\n",
    "model = sm.GLM.from_formula(\n",
    "    \"ALQ110x ~ RIAGENDRx\", family=sm.families.Binomial(), data=da)\n",
    "result = model.fit()\n",
    "result.summary()"
   ]
  },
  {
   "cell_type": "markdown",
   "metadata": {},
   "source": [
    "__Q8a.__ Is there statistical evidence that the drinking rate differs between women and men?  If so, in what direction is there a difference?"
   ]
  },
  {
   "cell_type": "markdown",
   "metadata": {},
   "source": [
    "yes their are a statistical significant difference the male are more drinkers than women \n",
    "or we could say that the females are less than males  "
   ]
  },
  {
   "cell_type": "markdown",
   "metadata": {},
   "source": [
    "__Q8b.__ Confirm that the log odds ratio between drinking and smoking calculated using the logistic regression model matches the log odds ratio calculated directly in question 6."
   ]
  },
  {
   "cell_type": "code",
   "execution_count": 19,
   "metadata": {},
   "outputs": [
    {
     "data": {
      "text/plain": [
       "0.0491311713391602"
      ]
     },
     "execution_count": 19,
     "metadata": {},
     "output_type": "execute_result"
    }
   ],
   "source": [
    "c.logodds.Male - c.logodds.Female"
   ]
  },
  {
   "cell_type": "markdown",
   "metadata": {},
   "source": [
    "yes they are the same "
   ]
  },
  {
   "cell_type": "markdown",
   "metadata": {},
   "source": [
    "## Question 9: \n",
    "\n",
    "Use logistic regression to relate drinking to age, gender, and education."
   ]
  },
  {
   "cell_type": "code",
   "execution_count": 20,
   "metadata": {},
   "outputs": [
    {
     "data": {
      "text/html": [
       "<table class=\"simpletable\">\n",
       "<caption>Generalized Linear Model Regression Results</caption>\n",
       "<tr>\n",
       "  <th>Dep. Variable:</th>        <td>ALQ110x</td>     <th>  No. Observations:  </th>  <td>  1467</td> \n",
       "</tr>\n",
       "<tr>\n",
       "  <th>Model:</th>                  <td>GLM</td>       <th>  Df Residuals:      </th>  <td>  1460</td> \n",
       "</tr>\n",
       "<tr>\n",
       "  <th>Model Family:</th>        <td>Binomial</td>     <th>  Df Model:          </th>  <td>     6</td> \n",
       "</tr>\n",
       "<tr>\n",
       "  <th>Link Function:</th>         <td>Logit</td>      <th>  Scale:             </th> <td>  1.0000</td>\n",
       "</tr>\n",
       "<tr>\n",
       "  <th>Method:</th>                <td>IRLS</td>       <th>  Log-Likelihood:    </th> <td> -987.65</td>\n",
       "</tr>\n",
       "<tr>\n",
       "  <th>Date:</th>            <td>Thu, 22 Jun 2023</td> <th>  Deviance:          </th> <td>  1975.3</td>\n",
       "</tr>\n",
       "<tr>\n",
       "  <th>Time:</th>                <td>10:40:20</td>     <th>  Pearson chi2:      </th> <td>1.47e+03</td>\n",
       "</tr>\n",
       "<tr>\n",
       "  <th>No. Iterations:</th>          <td>4</td>        <th>  Pseudo R-squ. (CS):</th>  <td>0.03108</td>\n",
       "</tr>\n",
       "<tr>\n",
       "  <th>Covariance Type:</th>     <td>nonrobust</td>    <th>                     </th>     <td> </td>   \n",
       "</tr>\n",
       "</table>\n",
       "<table class=\"simpletable\">\n",
       "<tr>\n",
       "              <td></td>                <th>coef</th>     <th>std err</th>      <th>z</th>      <th>P>|z|</th>  <th>[0.025</th>    <th>0.975]</th>  \n",
       "</tr>\n",
       "<tr>\n",
       "  <th>Intercept</th>                <td>   -0.4849</td> <td>    0.193</td> <td>   -2.519</td> <td> 0.012</td> <td>   -0.862</td> <td>   -0.108</td>\n",
       "</tr>\n",
       "<tr>\n",
       "  <th>RIAGENDRx[T.Male]</th>        <td>    0.0313</td> <td>    0.117</td> <td>    0.267</td> <td> 0.789</td> <td>   -0.198</td> <td>    0.261</td>\n",
       "</tr>\n",
       "<tr>\n",
       "  <th>DMDEDUC2x[T.HS]</th>          <td>   -0.0278</td> <td>    0.163</td> <td>   -0.170</td> <td> 0.865</td> <td>   -0.348</td> <td>    0.292</td>\n",
       "</tr>\n",
       "<tr>\n",
       "  <th>DMDEDUC2x[T.SomeCollege]</th> <td>    0.1147</td> <td>    0.152</td> <td>    0.756</td> <td> 0.450</td> <td>   -0.183</td> <td>    0.412</td>\n",
       "</tr>\n",
       "<tr>\n",
       "  <th>DMDEDUC2x[T.lt9]</th>         <td>   -0.8479</td> <td>    0.176</td> <td>   -4.814</td> <td> 0.000</td> <td>   -1.193</td> <td>   -0.503</td>\n",
       "</tr>\n",
       "<tr>\n",
       "  <th>DMDEDUC2x[T.x9_11]</th>       <td>   -0.4496</td> <td>    0.190</td> <td>   -2.367</td> <td> 0.018</td> <td>   -0.822</td> <td>   -0.077</td>\n",
       "</tr>\n",
       "<tr>\n",
       "  <th>RIDAGEYR</th>                 <td>    0.0090</td> <td>    0.003</td> <td>    2.975</td> <td> 0.003</td> <td>    0.003</td> <td>    0.015</td>\n",
       "</tr>\n",
       "</table>"
      ],
      "text/latex": [
       "\\begin{center}\n",
       "\\begin{tabular}{lclc}\n",
       "\\toprule\n",
       "\\textbf{Dep. Variable:}           &     ALQ110x      & \\textbf{  No. Observations:  } &     1467    \\\\\n",
       "\\textbf{Model:}                   &       GLM        & \\textbf{  Df Residuals:      } &     1460    \\\\\n",
       "\\textbf{Model Family:}            &     Binomial     & \\textbf{  Df Model:          } &        6    \\\\\n",
       "\\textbf{Link Function:}           &      Logit       & \\textbf{  Scale:             } &    1.0000   \\\\\n",
       "\\textbf{Method:}                  &       IRLS       & \\textbf{  Log-Likelihood:    } &   -987.65   \\\\\n",
       "\\textbf{Date:}                    & Thu, 22 Jun 2023 & \\textbf{  Deviance:          } &    1975.3   \\\\\n",
       "\\textbf{Time:}                    &     10:40:20     & \\textbf{  Pearson chi2:      } &  1.47e+03   \\\\\n",
       "\\textbf{No. Iterations:}          &        4         & \\textbf{  Pseudo R-squ. (CS):} &  0.03108    \\\\\n",
       "\\textbf{Covariance Type:}         &    nonrobust     & \\textbf{                     } &             \\\\\n",
       "\\bottomrule\n",
       "\\end{tabular}\n",
       "\\begin{tabular}{lcccccc}\n",
       "                                  & \\textbf{coef} & \\textbf{std err} & \\textbf{z} & \\textbf{P$> |$z$|$} & \\textbf{[0.025} & \\textbf{0.975]}  \\\\\n",
       "\\midrule\n",
       "\\textbf{Intercept}                &      -0.4849  &        0.193     &    -2.519  &         0.012        &       -0.862    &       -0.108     \\\\\n",
       "\\textbf{RIAGENDRx[T.Male]}        &       0.0313  &        0.117     &     0.267  &         0.789        &       -0.198    &        0.261     \\\\\n",
       "\\textbf{DMDEDUC2x[T.HS]}          &      -0.0278  &        0.163     &    -0.170  &         0.865        &       -0.348    &        0.292     \\\\\n",
       "\\textbf{DMDEDUC2x[T.SomeCollege]} &       0.1147  &        0.152     &     0.756  &         0.450        &       -0.183    &        0.412     \\\\\n",
       "\\textbf{DMDEDUC2x[T.lt9]}         &      -0.8479  &        0.176     &    -4.814  &         0.000        &       -1.193    &       -0.503     \\\\\n",
       "\\textbf{DMDEDUC2x[T.x9\\_11]}      &      -0.4496  &        0.190     &    -2.367  &         0.018        &       -0.822    &       -0.077     \\\\\n",
       "\\textbf{RIDAGEYR}                 &       0.0090  &        0.003     &     2.975  &         0.003        &        0.003    &        0.015     \\\\\n",
       "\\bottomrule\n",
       "\\end{tabular}\n",
       "%\\caption{Generalized Linear Model Regression Results}\n",
       "\\end{center}"
      ],
      "text/plain": [
       "<class 'statsmodels.iolib.summary.Summary'>\n",
       "\"\"\"\n",
       "                 Generalized Linear Model Regression Results                  \n",
       "==============================================================================\n",
       "Dep. Variable:                ALQ110x   No. Observations:                 1467\n",
       "Model:                            GLM   Df Residuals:                     1460\n",
       "Model Family:                Binomial   Df Model:                            6\n",
       "Link Function:                  Logit   Scale:                          1.0000\n",
       "Method:                          IRLS   Log-Likelihood:                -987.65\n",
       "Date:                Thu, 22 Jun 2023   Deviance:                       1975.3\n",
       "Time:                        10:40:20   Pearson chi2:                 1.47e+03\n",
       "No. Iterations:                     4   Pseudo R-squ. (CS):            0.03108\n",
       "Covariance Type:            nonrobust                                         \n",
       "============================================================================================\n",
       "                               coef    std err          z      P>|z|      [0.025      0.975]\n",
       "--------------------------------------------------------------------------------------------\n",
       "Intercept                   -0.4849      0.193     -2.519      0.012      -0.862      -0.108\n",
       "RIAGENDRx[T.Male]            0.0313      0.117      0.267      0.789      -0.198       0.261\n",
       "DMDEDUC2x[T.HS]             -0.0278      0.163     -0.170      0.865      -0.348       0.292\n",
       "DMDEDUC2x[T.SomeCollege]     0.1147      0.152      0.756      0.450      -0.183       0.412\n",
       "DMDEDUC2x[T.lt9]            -0.8479      0.176     -4.814      0.000      -1.193      -0.503\n",
       "DMDEDUC2x[T.x9_11]          -0.4496      0.190     -2.367      0.018      -0.822      -0.077\n",
       "RIDAGEYR                     0.0090      0.003      2.975      0.003       0.003       0.015\n",
       "============================================================================================\n",
       "\"\"\""
      ]
     },
     "execution_count": 20,
     "metadata": {},
     "output_type": "execute_result"
    }
   ],
   "source": [
    "da[\"DMDEDUC2x\"] = da.DMDEDUC2.replace({1: \"lt9\", 2: \"x9_11\", 3: \"HS\", 4: \"SomeCollege\",\n",
    "                                       5: \"College\", 7: np.nan, 9: np.nan})\n",
    "\n",
    "model = sm.GLM.from_formula(\n",
    "    \"ALQ110x ~ RIDAGEYR + RIAGENDRx + DMDEDUC2x\", family=sm.families.Binomial(), data=da)\n",
    "result = model.fit()\n",
    "result.summary()"
   ]
  },
  {
   "cell_type": "markdown",
   "metadata": {},
   "source": [
    "__Q9a.__ Which of these predictor variables shows a statistically significant association with drinking?"
   ]
  },
  {
   "cell_type": "markdown",
   "metadata": {},
   "source": [
    "DMDEDUC2x[T.lt9] and DMDEDUC2x[T.x9_11]\n",
    "which means that the education levels  zero to 11  years of education ,  Age and intercept also "
   ]
  },
  {
   "cell_type": "markdown",
   "metadata": {},
   "source": [
    "__Q9b.__ What is the odds of a college educated, 50 year old woman drinking?"
   ]
  },
  {
   "cell_type": "code",
   "execution_count": 23,
   "metadata": {},
   "outputs": [
    {
     "data": {
      "text/plain": [
       "0.9657019816273803"
      ]
     },
     "execution_count": 23,
     "metadata": {},
     "output_type": "execute_result"
    }
   ],
   "source": [
    "np.exp(-0.0349)"
   ]
  },
  {
   "cell_type": "markdown",
   "metadata": {},
   "source": [
    "the log odds = -0.4849 + .009 * 50 = -0.0349\n",
    "the odds = np.exp(-0.0349) = 0.9657 \n",
    "the odds will be 0.9657 odds which is less that 1 \n",
    "(.96 to 1 ) "
   ]
  },
  {
   "cell_type": "markdown",
   "metadata": {},
   "source": [
    "__Q9c.__ What is the odds ratio between the drinking status for college graduates and high school graduates (with no college), holding gender and age fixed?"
   ]
  },
  {
   "cell_type": "markdown",
   "metadata": {},
   "source": [
    "it will be the coefficenet for  DMDEDUC2x[T.HS] =\t-0.0278"
   ]
  },
  {
   "cell_type": "markdown",
   "metadata": {},
   "source": [
    "__Q9d.__ Did the regression parameter for gender change to a meaningful degree when age and education were added to the model?"
   ]
  },
  {
   "cell_type": "code",
   "execution_count": 25,
   "metadata": {},
   "outputs": [
    {
     "data": {
      "text/plain": [
       "0.017799999999999996"
      ]
     },
     "execution_count": 25,
     "metadata": {},
     "output_type": "execute_result"
    }
   ],
   "source": [
    "0.0491 - 0.0313"
   ]
  },
  {
   "cell_type": "code",
   "execution_count": 26,
   "metadata": {},
   "outputs": [
    {
     "data": {
      "text/plain": [
       "36.252545824847246"
      ]
     },
     "execution_count": 26,
     "metadata": {},
     "output_type": "execute_result"
    }
   ],
   "source": [
    "(0.0491 - 0.0313)/0.0491 * 100"
   ]
  },
  {
   "cell_type": "markdown",
   "metadata": {},
   "source": [
    "yes, log odds reduced by 36%"
   ]
  },
  {
   "cell_type": "markdown",
   "metadata": {},
   "source": [
    "## Question 10:\n",
    "\n",
    "Construct a CERES plot for the relationship between drinking and age (using the model that controls for gender and educational attainment)."
   ]
  },
  {
   "cell_type": "code",
   "execution_count": 24,
   "metadata": {},
   "outputs": [
    {
     "data": {
      "image/png": "[encoded data removed]",
      "text/plain": [
       "<Figure size 640x480 with 1 Axes>"
      ]
     },
     "metadata": {},
     "output_type": "display_data"
    }
   ],
   "source": [
    "# This is not part of the main Statsmodels API, so needs to be imported separately\n",
    "from statsmodels.graphics.regressionplots import add_lowess\n",
    "\n",
    "fig = result.plot_ceres_residuals(\"RIDAGEYR\")\n",
    "ax = fig.get_axes()[0]\n",
    "ax.lines[0].set_alpha(0.2)\n",
    "_ = add_lowess(ax)"
   ]
  },
  {
   "cell_type": "markdown",
   "metadata": {},
   "source": [
    "__Q10a.__ Does the plot indicate any major non-linearity in the relationship between age and the log odds for drinking?"
   ]
  },
  {
   "cell_type": "markdown",
   "metadata": {},
   "source": [
    "yes, it indecats some stright line between 20-30 then ups and downs"
   ]
  },
  {
   "cell_type": "markdown",
   "metadata": {},
   "source": [
    "yes, drinking rates generally increase with age, except decline from 55-60 and from 70 to 80.\n",
    "\n"
   ]
  },
  {
   "cell_type": "code",
   "execution_count": null,
   "metadata": {},
   "outputs": [],
   "source": []
  }
 ],
 "metadata": {
  "kernelspec": {
   "display_name": "Python 3 (ipykernel)",
   "language": "python",
   "name": "python3"
  },
  "language_info": {
   "codemirror_mode": {
    "name": "ipython",
    "version": 3
   },
   "file_extension": ".py",
   "mimetype": "text/x-python",
   "name": "python",
   "nbconvert_exporter": "python",
   "pygments_lexer": "ipython3",
   "version": "3.11.0"
  }
 },
 "nbformat": 4,
 "nbformat_minor": 1
}
